{
 "cells": [
  {
   "cell_type": "code",
   "execution_count": 77,
   "metadata": {},
   "outputs": [],
   "source": [
    "import matplotlib.pyplot as plt\n",
    "import numpy\n",
    "import sympy\n",
    "x, y, z, t = sympy.symbols('x y z t')\n",
    "sympy.init_printing()"
   ]
  },
  {
   "cell_type": "markdown",
   "metadata": {},
   "source": [
    "$$ sin(x) == cos(x) $$"
   ]
  },
  {
   "cell_type": "code",
   "execution_count": 20,
   "metadata": {},
   "outputs": [
    {
     "data": {
      "image/png": "[encoded data removed]",
      "text/latex": [
       "$$\\left\\{- \\sqrt{2}, \\sqrt{2}\\right\\}$$"
      ],
      "text/plain": [
       "{-√2, √2}"
      ]
     },
     "execution_count": 20,
     "metadata": {},
     "output_type": "execute_result"
    }
   ],
   "source": [
    "sympy.solveset(x**2-2, x)"
   ]
  },
  {
   "cell_type": "code",
   "execution_count": 21,
   "metadata": {},
   "outputs": [
    {
     "data": {
      "image/png": "[encoded data removed]",
      "text/latex": [
       "$$\\left\\{- \\sqrt{2}, \\sqrt{2}\\right\\}$$"
      ],
      "text/plain": [
       "{-√2, √2}"
      ]
     },
     "execution_count": 21,
     "metadata": {},
     "output_type": "execute_result"
    }
   ],
   "source": [
    "expr = sympy.Eq(x**2 , 2)\n",
    "sympy.solveset(expr, x)"
   ]
  },
  {
   "cell_type": "code",
   "execution_count": 27,
   "metadata": {},
   "outputs": [
    {
     "data": {
      "image/png": "[encoded data removed]",
      "text/latex": [
       "$$\\mathbb{C}$$"
      ],
      "text/plain": [
       "S.Complexes"
      ]
     },
     "execution_count": 27,
     "metadata": {},
     "output_type": "execute_result"
    }
   ],
   "source": [
    "sympy.solveset(sympy.Eq(x,x), x)"
   ]
  },
  {
   "cell_type": "code",
   "execution_count": 28,
   "metadata": {},
   "outputs": [
    {
     "data": {
      "image/png": "[encoded data removed]",
      "text/latex": [
       "$$\\left\\{2 n \\pi + 1.01598529381483\\; |\\; n \\in \\mathbb{Z}\\right\\} \\cup \\left\\{2 n \\pi - 1.01598529381483 + \\pi\\; |\\; n \\in \\mathbb{Z}\\right\\}$$"
      ],
      "text/plain": [
       "{2⋅n⋅π + 1.01598529381483 | n ∊ ℤ} ∪ {2⋅n⋅π - 1.01598529381483 + π | n ∊ ℤ}"
      ]
     },
     "execution_count": 28,
     "metadata": {},
     "output_type": "execute_result"
    }
   ],
   "source": [
    "sympy.solveset(sympy.sin(x)-0.85, x)"
   ]
  },
  {
   "cell_type": "code",
   "execution_count": 30,
   "metadata": {},
   "outputs": [
    {
     "data": {
      "image/png": "[encoded data removed]",
      "text/latex": [
       "$$\\emptyset$$"
      ],
      "text/plain": [
       "∅"
      ]
     },
     "execution_count": 30,
     "metadata": {},
     "output_type": "execute_result"
    }
   ],
   "source": [
    "sympy.solveset(sympy.Eq(1,0), x)"
   ]
  },
  {
   "cell_type": "code",
   "execution_count": 31,
   "metadata": {},
   "outputs": [
    {
     "data": {
      "image/png": "[encoded data removed]",
      "text/latex": [
       "$$\\left\\{x \\mid x \\in \\mathbb{C} \\wedge x \\tan{\\left (x \\right )} - 1 = 0 \\right\\}$$"
      ],
      "text/plain": [
       "{x | x ∊ ℂ ∧ x⋅tan(x) - 1 = 0}"
      ]
     },
     "execution_count": 31,
     "metadata": {},
     "output_type": "execute_result"
    }
   ],
   "source": [
    "sympy.solveset(sympy.Eq(x*sympy.tan(x), 1), x)\n",
    "# It is not possible to solve this equation symbolically"
   ]
  },
  {
   "cell_type": "markdown",
   "metadata": {},
   "source": [
    "$$\n",
    "\\left[\n",
    "\\begin{array}{cc}\n",
    "     2 & -1\\\\\n",
    "    -1 &  2\n",
    "\\end{array}\n",
    "\\right]\n",
    "\\cdot\n",
    "\\left[\n",
    "\\begin{array}{c}\n",
    "     x\\\\\n",
    "     y\n",
    "\\end{array}\n",
    "\\right]\n",
    "=\n",
    "\\left[\n",
    "\\begin{array}{c}\n",
    "     1\\\\\n",
    "     1\n",
    "\\end{array}\n",
    "\\right]\n",
    "$$\n",
    "\n",
    "$$\n",
    "\\left[\n",
    "\\begin{array}{c}\n",
    "     x\\\\\n",
    "     y\n",
    "\\end{array}\n",
    "\\right]\n",
    "=\n",
    "\\left[\n",
    "\\begin{array}{cc}\n",
    "     2/3 & 1/3\\\\\n",
    "     1/3 & 1/6\n",
    "\\end{array}\n",
    "\\right]\n",
    "\\cdot\n",
    "\\left[\n",
    "\\begin{array}{c}\n",
    "     1\\\\\n",
    "     1\n",
    "\\end{array}\n",
    "\\right]\n",
    "=\n",
    "\\left[\n",
    "\\begin{array}{c}\n",
    "     1\\\\\n",
    "     1\n",
    "\\end{array}\n",
    "\\right]\n",
    "$$"
   ]
  },
  {
   "cell_type": "code",
   "execution_count": 34,
   "metadata": {},
   "outputs": [
    {
     "data": {
      "image/png": "[encoded data removed]",
      "text/latex": [
       "$$\\left\\{\\left ( 1, \\quad 1\\right )\\right\\}$$"
      ],
      "text/plain": [
       "{(1, 1)}"
      ]
     },
     "execution_count": 34,
     "metadata": {},
     "output_type": "execute_result"
    }
   ],
   "source": [
    "sympy.linsolve([2*x-y-1, -x+2*y-1], (x, y))"
   ]
  },
  {
   "cell_type": "code",
   "execution_count": 44,
   "metadata": {},
   "outputs": [
    {
     "data": {
      "image/png": "[encoded data removed]",
      "text/latex": [
       "$$\\emptyset$$"
      ],
      "text/plain": [
       "∅"
      ]
     },
     "execution_count": 44,
     "metadata": {},
     "output_type": "execute_result"
    }
   ],
   "source": [
    "sympy.nonlinsolve([x**3+4*y-7, x-y**2-9], [x,y])"
   ]
  },
  {
   "cell_type": "code",
   "execution_count": 47,
   "metadata": {},
   "outputs": [
    {
     "data": {
      "image/png": "[encoded data removed]",
      "text/latex": [
       "$$\\left\\{\\left ( -2, \\quad -1\\right ), \\left ( 2, \\quad 1\\right ), \\left ( - \\sqrt{2} i, \\quad \\sqrt{2} i\\right ), \\left ( \\sqrt{2} i, \\quad - \\sqrt{2} i\\right )\\right\\}$$"
      ],
      "text/plain": [
       "{(-2, -1), (2, 1), (-√2⋅ⅈ, √2⋅ⅈ), (√2⋅ⅈ, -√2⋅ⅈ)}"
      ]
     },
     "execution_count": 47,
     "metadata": {},
     "output_type": "execute_result"
    }
   ],
   "source": [
    "system = [\n",
    "    sympy.Eq(x**2 - 2*y**2 , 2),\n",
    "    x*y - 2\n",
    "]\n",
    "vars = [x, y]\n",
    "sympy.nonlinsolve(system, vars)"
   ]
  },
  {
   "cell_type": "code",
   "execution_count": 50,
   "metadata": {},
   "outputs": [
    {
     "data": {
      "image/png": "[encoded data removed]",
      "text/latex": [
       "$$\\left\\{2 n \\pi + 0.0799827529776191\\; |\\; n \\in \\mathbb{Z}\\right\\} \\cup \\left\\{2 n \\pi - 2.18139555099641 + 2 \\pi\\; |\\; n \\in \\mathbb{Z}\\right\\}$$"
      ],
      "text/plain": [
       "{2⋅n⋅π + 0.0799827529776191 | n ∊ ℤ} ∪ {2⋅n⋅π - 2.18139555099641 + 2⋅π | n ∊ ℤ\n",
       "}"
      ]
     },
     "execution_count": 50,
     "metadata": {},
     "output_type": "execute_result"
    }
   ],
   "source": [
    "sympy.solveset(3*sympy.sin(x) + 2*sympy.tan(x) - 0.4)"
   ]
  },
  {
   "cell_type": "code",
   "execution_count": 53,
   "metadata": {},
   "outputs": [
    {
     "data": {
      "image/png": "[encoded data removed]",
      "text/latex": [
       "$$\\left\\{-2, 3\\right\\}$$"
      ],
      "text/plain": [
       "{-2, 3}"
      ]
     },
     "execution_count": 53,
     "metadata": {},
     "output_type": "execute_result"
    }
   ],
   "source": [
    "sympy.solveset((x+2)*(x+2)*(x+2)*(x-3), x) # It doesn't shows the multiplicity"
   ]
  },
  {
   "cell_type": "code",
   "execution_count": 54,
   "metadata": {},
   "outputs": [
    {
     "data": {
      "image/png": "[encoded data removed]",
      "text/latex": [
       "$$\\left \\{ -2 : 3, \\quad 3 : 1\\right \\}$$"
      ],
      "text/plain": [
       "{-2: 3, 3: 1}"
      ]
     },
     "execution_count": 54,
     "metadata": {},
     "output_type": "execute_result"
    }
   ],
   "source": [
    "sympy.roots((x+2)*(x+2)*(x+2)*(x-3), x) # It shows the multiplicity"
   ]
  },
  {
   "cell_type": "markdown",
   "metadata": {},
   "source": [
    "Now let's solve some differential equations:\n",
    "\n",
    "$$ \\dfrac{\\partial^2 T}{\\partial x^2}(x) = 0 \\quad \\Rightarrow \\quad T(x) = ax + b $$\n",
    "\n",
    "$$\n",
    "\\dfrac{\\partial}{\\partial x}\\left(T \\dfrac{\\partial T}{\\partial x}\\right)(x) = 0\n",
    "\\quad\n",
    "T(1) = 10\n",
    "\\land\n",
    "T(15) = 20\n",
    "$$"
   ]
  },
  {
   "cell_type": "code",
   "execution_count": 59,
   "metadata": {},
   "outputs": [
    {
     "data": {
      "image/png": "[encoded data removed]",
      "text/latex": [
       "$$\\frac{d^{2}}{d x^{2}} T{\\left (x \\right )} = 0$$"
      ],
      "text/plain": [
       "  2          \n",
       " d           \n",
       "───(T(x)) = 0\n",
       "  2          \n",
       "dx           "
      ]
     },
     "execution_count": 59,
     "metadata": {},
     "output_type": "execute_result"
    }
   ],
   "source": [
    "T = sympy.symbols('T', cls=sympy.Function)\n",
    "diferentialEquation = sympy.Eq(sympy.diff(T(x), x, 2) , 0)\n",
    "diferentialEquation"
   ]
  },
  {
   "cell_type": "code",
   "execution_count": 60,
   "metadata": {},
   "outputs": [
    {
     "data": {
      "image/png": "[encoded data removed]",
      "text/latex": [
       "$$T{\\left (x \\right )} = C_{1} + C_{2} x$$"
      ],
      "text/plain": [
       "T(x) = C₁ + C₂⋅x"
      ]
     },
     "execution_count": 60,
     "metadata": {},
     "output_type": "execute_result"
    }
   ],
   "source": [
    "sympy.dsolve(diferentialEquation)"
   ]
  },
  {
   "cell_type": "code",
   "execution_count": 61,
   "metadata": {},
   "outputs": [
    {
     "data": {
      "image/png": "[encoded data removed]",
      "text/latex": [
       "$$T{\\left (x \\right )} \\frac{d^{2}}{d x^{2}} T{\\left (x \\right )} + \\left(\\frac{d}{d x} T{\\left (x \\right )}\\right)^{2} = 0$$"
      ],
      "text/plain": [
       "       2                   2    \n",
       "      d          ⎛d       ⎞     \n",
       "T(x)⋅───(T(x)) + ⎜──(T(x))⎟  = 0\n",
       "       2         ⎝dx      ⎠     \n",
       "     dx                         "
      ]
     },
     "execution_count": 61,
     "metadata": {},
     "output_type": "execute_result"
    }
   ],
   "source": [
    "diferentialEquation = sympy.Eq(sympy.diff(T(x)*sympy.diff(T(x),x), x) , 0)\n",
    "diferentialEquation"
   ]
  },
  {
   "cell_type": "code",
   "execution_count": 73,
   "metadata": {},
   "outputs": [
    {
     "data": {
      "image/png": "[encoded data removed]",
      "text/latex": [
       "$$\\left [ T{\\left (x \\right )} = - \\sqrt{C_{1} + C_{2} x}, \\quad T{\\left (x \\right )} = \\sqrt{C_{1} + C_{2} x}\\right ]$$"
      ],
      "text/plain": [
       "⎡          ___________           ___________⎤\n",
       "⎣T(x) = -╲╱ C₁ + C₂⋅x , T(x) = ╲╱ C₁ + C₂⋅x ⎦"
      ]
     },
     "execution_count": 73,
     "metadata": {},
     "output_type": "execute_result"
    }
   ],
   "source": [
    "solution = sympy.dsolve(diferentialEquation)\n",
    "solution"
   ]
  },
  {
   "cell_type": "code",
   "execution_count": 87,
   "metadata": {},
   "outputs": [
    {
     "data": {
      "image/png": "[encoded data removed]",
      "text/latex": [
       "$$\\left [ T{\\left (x \\right )} = - \\sqrt{\\frac{150 x}{7} + \\frac{550}{7}}, \\quad T{\\left (x \\right )} = \\sqrt{\\frac{150 x}{7} + \\frac{550}{7}}\\right ]$$"
      ],
      "text/plain": [
       "⎡            _____________             _____________⎤\n",
       "⎢           ╱ 150⋅x   550             ╱ 150⋅x   550 ⎥\n",
       "⎢T(x) = -  ╱  ───── + ─── , T(x) =   ╱  ───── + ─── ⎥\n",
       "⎣        ╲╱     7      7           ╲╱     7      7  ⎦"
      ]
     },
     "execution_count": 87,
     "metadata": {},
     "output_type": "execute_result"
    }
   ],
   "source": [
    "solution = sympy.dsolve(diferentialEquation, ics={T(1): 10, T(15): 20})\n",
    "solution"
   ]
  },
  {
   "cell_type": "code",
   "execution_count": 92,
   "metadata": {},
   "outputs": [
    {
     "data": {
      "image/png": "[encoded data removed]",
      "text/plain": [
       "<Figure size 432x288 with 1 Axes>"
      ]
     },
     "metadata": {},
     "output_type": "display_data"
    }
   ],
   "source": [
    "func = sympy.lambdify(x, solution[1].rhs, numpy)\n",
    "X = numpy.linspace(1, 15, 100)\n",
    "plt.plot(X, func(X), 'k-')\n",
    "plt.scatter([1, 15], [10, 20], color='k', marker='o')\n",
    "plt.grid(True)\n",
    "plt.show()"
   ]
  }
 ],
 "metadata": {
  "kernelspec": {
   "display_name": "Python 3",
   "language": "python",
   "name": "python3"
  },
  "language_info": {
   "codemirror_mode": {
    "name": "ipython",
    "version": 3
   },
   "file_extension": ".py",
   "mimetype": "text/x-python",
   "name": "python",
   "nbconvert_exporter": "python",
   "pygments_lexer": "ipython3",
   "version": "3.6.5"
  }
 },
 "nbformat": 4,
 "nbformat_minor": 2
}
