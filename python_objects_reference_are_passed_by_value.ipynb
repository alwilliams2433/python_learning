{
 "cells": [
  {
   "cell_type": "code",
   "execution_count": 9,
   "metadata": {},
   "outputs": [
    {
     "name": "stdout",
     "output_type": "stream",
     "text": [
      "[0]\n",
      "[0]\n",
      "[0, 1]\n"
     ]
    }
   ],
   "source": [
    "def reassign(list):\n",
    "  list = [0, 1]\n",
    "\n",
    "def append(list):\n",
    "  list.append(1)\n",
    "\n",
    "list = [0] # 'list' is an object reference\n",
    "print(list)\n",
    "reassign(list) # 'list' is an object reference\n",
    "               # a (copy of the original reference)\n",
    "               # inside the function, this reference is\n",
    "               # reasigned to another object\n",
    "print(list)\n",
    "append(list) # 'list' is an object reference\n",
    "             # inside the function, this reference is\n",
    "             # used to append a value in the object\n",
    "print(list)\n",
    "# Python: “Object references are passed by value.”"
   ]
  },
  {
   "cell_type": "code",
   "execution_count": 10,
   "metadata": {},
   "outputs": [
    {
     "name": "stdout",
     "output_type": "stream",
     "text": [
      "id(a) =  10943296\n",
      "id(b) =  10943296\n",
      "a == b ?  True\n",
      "a is b ?  True\n",
      "\n",
      "id(a+1) =  10943328\n"
     ]
    }
   ],
   "source": [
    "a = 10\n",
    "b = 10\n",
    "print(\"id(a) = \", id(a))\n",
    "print(\"id(b) = \", id(b))\n",
    "print(\"a == b ? \", a==b)\n",
    "print(\"a is b ? \", a is b)\n",
    "a = a+1\n",
    "print(\"\\nid(a+1) = \", id(a))"
   ]
  },
  {
   "cell_type": "code",
   "execution_count": 11,
   "metadata": {},
   "outputs": [
    {
     "name": "stdout",
     "output_type": "stream",
     "text": [
      "id(a) =  139904385466544\n",
      "id(b) =  139904385466512\n",
      "a == b ?  True\n",
      "a is b ?  False\n"
     ]
    }
   ],
   "source": [
    "a = 500\n",
    "b = 500\n",
    "print(\"id(a) = \", id(a))\n",
    "print(\"id(b) = \", id(b))\n",
    "print(\"a == b ? \", a==b)\n",
    "print(\"a is b ? \", a is b) # Due to CPython optimization"
   ]
  },
  {
   "cell_type": "code",
   "execution_count": 12,
   "metadata": {},
   "outputs": [
    {
     "name": "stdout",
     "output_type": "stream",
     "text": [
      "id(a) =  139904385466416\n",
      "id(b) =  139904385466416\n",
      "a == b ?  True\n",
      "a is b ?  True\n"
     ]
    }
   ],
   "source": [
    "a = 500\n",
    "b = a\n",
    "print(\"id(a) = \", id(a))\n",
    "print(\"id(b) = \", id(b))\n",
    "print(\"a == b ? \", a==b)\n",
    "print(\"a is b ? \", a is b) # Same object with different tags"
   ]
  },
  {
   "cell_type": "code",
   "execution_count": 13,
   "metadata": {},
   "outputs": [],
   "source": [
    "# References:\n",
    "# https://robertheaton.com/2014/02/09/pythons-pass-by-object-reference-as-explained-by-philip-k-dick/\n",
    "# http://foobarnbaz.com/2012/07/08/understanding-python-variables/"
   ]
  }
 ],
 "metadata": {
  "kernelspec": {
   "display_name": "Python 3",
   "language": "python",
   "name": "python3"
  },
  "language_info": {
   "codemirror_mode": {
    "name": "ipython",
    "version": 3
   },
   "file_extension": ".py",
   "mimetype": "text/x-python",
   "name": "python",
   "nbconvert_exporter": "python",
   "pygments_lexer": "ipython3",
   "version": "3.6.5"
  }
 },
 "nbformat": 4,
 "nbformat_minor": 2
}
