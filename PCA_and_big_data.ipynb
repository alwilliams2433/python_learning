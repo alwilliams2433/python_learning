{
 "cells": [
  {
   "cell_type": "markdown",
   "metadata": {},
   "source": [
    "# Reference\n",
    "\n",
    "https://stackoverflow.com/questions/31428581/incremental-pca-on-big-data"
   ]
  },
  {
   "cell_type": "code",
   "execution_count": 1,
   "metadata": {
    "collapsed": true
   },
   "outputs": [],
   "source": [
    "import h5py\n",
    "import numpy as np\n",
    "from sklearn.decomposition import IncrementalPCA\n",
    "import matplotlib.pyplot as plt"
   ]
  },
  {
   "cell_type": "markdown",
   "metadata": {},
   "source": [
    "# Settings"
   ]
  },
  {
   "cell_type": "code",
   "execution_count": 2,
   "metadata": {
    "collapsed": true
   },
   "outputs": [],
   "source": [
    "fileName = 'matrices_big_data.h5'\n",
    "numberOfComponents = 2\n",
    "\n",
    "vectorSize = 10000\n",
    "vectorsShape = (1,vectorSize)\n",
    "numberOfVectorsPerFamily = 20833\n",
    "randomAmplitude = 0.3\n",
    "\n",
    "zeroVector = np.zeros(vectorsShape)\n",
    "onesVector = np.ones(vectorsShape)\n",
    "oscilatingVector = np.ones(vectorsShape)\n",
    "for i in range(1,vectorSize,2):\n",
    "    oscilatingVector[0,i] = -1"
   ]
  },
  {
   "cell_type": "markdown",
   "metadata": {},
   "source": [
    "# Create Dataset"
   ]
  },
  {
   "cell_type": "code",
   "execution_count": 3,
   "metadata": {},
   "outputs": [],
   "source": [
    "hdf5File = h5py.File(fileName, 'w') # approx 5 GB file\n",
    "\n",
    "hdf5File.create_dataset('data', shape=(3*numberOfVectorsPerFamily,vectorSize), dtype=np.float_)\n",
    "for i in range(numberOfVectorsPerFamily):\n",
    "    hdf5File['data'][(3*i+0)*vectorSize:(3*i+1)*vectorSize] = zeroVector + np.random.uniform(low=-randomAmplitude, high=randomAmplitude, size=vectorsShape)\n",
    "    hdf5File['data'][(3*i+1)*vectorSize:(3*i+2)*vectorSize] = onesVector + np.random.uniform(low=-randomAmplitude, high=randomAmplitude, size=vectorsShape)\n",
    "    hdf5File['data'][(3*i+2)*vectorSize:(3*i+3)*vectorSize] = oscilatingVector + np.random.uniform(low=-randomAmplitude, high=randomAmplitude, size=vectorsShape)\n",
    "hdf5File.close()"
   ]
  },
  {
   "cell_type": "markdown",
   "metadata": {},
   "source": [
    "# Incremental PCA"
   ]
  },
  {
   "cell_type": "code",
   "execution_count": 4,
   "metadata": {},
   "outputs": [
    {
     "data": {
      "text/plain": [
       "IncrementalPCA(batch_size=16, copy=True, n_components=2, whiten=False)"
      ]
     },
     "execution_count": 4,
     "metadata": {},
     "output_type": "execute_result"
    }
   ],
   "source": [
    "hdf5File = h5py.File(fileName)\n",
    "data = hdf5File['data'] # it's ok, the dataset is not fetched to memory yet\n",
    "\n",
    "numberOfRows = data.shape[0] # how many rows we have in the dataset\n",
    "chunk_size = 1000 # how many rows we feed to IPCA at a time, the divisor of n\n",
    "ipca = IncrementalPCA(n_components=numberOfComponents, batch_size=16)\n",
    "\n",
    "for i in range(0, numberOfRows//chunk_size):\n",
    "    ipca.partial_fit(data[i*chunk_size : (i+1)*chunk_size])\n",
    "\n",
    "ipca.partial_fit(data[(numberOfRows//chunk_size)*chunk_size: ])"
   ]
  },
  {
   "cell_type": "markdown",
   "metadata": {},
   "source": [
    "# Singular Values Plot"
   ]
  },
  {
   "cell_type": "code",
   "execution_count": 5,
   "metadata": {},
   "outputs": [
    {
     "data": {
      "image/png": "[encoded data removed]",
      "text/plain": [
       "<matplotlib.figure.Figure at 0xb290c18>"
      ]
     },
     "metadata": {},
     "output_type": "display_data"
    }
   ],
   "source": [
    "plt.figure(figsize=(6,6))\n",
    "plt.plot(range(len(ipca.singular_values_)), ipca.singular_values_, marker='o')\n",
    "plt.yscale('log')\n",
    "plt.grid(True)\n",
    "plt.grid(axis='y', which='minor', b=True, linestyle=':')\n",
    "plt.xlabel('singular value number')\n",
    "plt.ylabel('singular value')\n",
    "plt.ylim([0.9*np.amin(ipca.singular_values_), 1.1*np.amax(ipca.singular_values_)])\n",
    "\n",
    "plt.show()"
   ]
  },
  {
   "cell_type": "markdown",
   "metadata": {},
   "source": [
    "# Data Decomposition in the Two Most Important Directions"
   ]
  },
  {
   "cell_type": "code",
   "execution_count": 6,
   "metadata": {},
   "outputs": [],
   "source": [
    "sigma = np.zeros((3*numberOfVectorsPerFamily,2))\n",
    "\n",
    "numberOfRows = data.shape[0]\n",
    "chunk_size = 1000 # how many rows we will process at once\n",
    "\n",
    "for i in range(0, numberOfRows//chunk_size):\n",
    "    sigma[i*chunk_size : (i+1)*chunk_size] = ipca.transform(data[i*chunk_size : (i+1)*chunk_size])\n",
    "\n",
    "sigma[(numberOfRows//chunk_size)*chunk_size:] = ipca.transform(data[(numberOfRows//chunk_size)*chunk_size:])"
   ]
  },
  {
   "cell_type": "markdown",
   "metadata": {},
   "source": [
    "# Clusters"
   ]
  },
  {
   "cell_type": "code",
   "execution_count": 7,
   "metadata": {},
   "outputs": [
    {
     "data": {
      "image/png": "[encoded data removed]",
      "text/plain": [
       "<matplotlib.figure.Figure at 0xb503160>"
      ]
     },
     "metadata": {},
     "output_type": "display_data"
    }
   ],
   "source": [
    "import scipy.cluster.vq\n",
    "\n",
    "plt.figure(figsize=(8,8))\n",
    "\n",
    "clusters, _ = scipy.cluster.vq.kmeans(sigma, k_or_guess=3)\n",
    "plt.scatter(clusters[:,0], clusters[:,1], marker='x', color='k', label='Clusters')\n",
    "\n",
    "plt.scatter(sigma[:,0], sigma[:,1], marker='.')\n",
    "plt.grid(True)\n",
    "plt.xlabel('$\\sigma_1$')\n",
    "plt.ylabel('$\\sigma_2$')\n",
    "\n",
    "plt.show()"
   ]
  },
  {
   "cell_type": "markdown",
   "metadata": {},
   "source": [
    "# Analysis\n",
    "\n",
    "I monitored the computer memory and CPU usage.\n",
    "The CPU is high when processing for all the computer cores. That's ok.\n",
    "The memory remained controlled during the processing time.\n",
    "It is good because it doesn't get full, and teh system functions\n",
    "remain controlled.\n",
    "\n",
    "The above Notebook can be used as reference to process big data."
   ]
  }
 ],
 "metadata": {
  "kernelspec": {
   "display_name": "Python 3",
   "language": "python",
   "name": "python3"
  },
  "language_info": {
   "codemirror_mode": {
    "name": "ipython",
    "version": 3
   },
   "file_extension": ".py",
   "mimetype": "text/x-python",
   "name": "python",
   "nbconvert_exporter": "python",
   "pygments_lexer": "ipython3",
   "version": "3.6.3"
  }
 },
 "nbformat": 4,
 "nbformat_minor": 2
}
