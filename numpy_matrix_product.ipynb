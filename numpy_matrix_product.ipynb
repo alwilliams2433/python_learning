{
 "cells": [
  {
   "cell_type": "code",
   "execution_count": 5,
   "metadata": {},
   "outputs": [],
   "source": [
    "import numpy"
   ]
  },
  {
   "cell_type": "code",
   "execution_count": 45,
   "metadata": {},
   "outputs": [],
   "source": [
    "# numpy matrix is a numpy array\n",
    "# but with especifically two dimensions."
   ]
  },
  {
   "cell_type": "code",
   "execution_count": 46,
   "metadata": {},
   "outputs": [
    {
     "name": "stdout",
     "output_type": "stream",
     "text": [
      "[[4.9e-324 9.9e-324]\n",
      " [1.5e-323 2.0e-323]] \n",
      "\n",
      "[[0. 0. 0.]\n",
      " [0. 0. 0.]\n",
      " [0. 0. 0.]] \n",
      "\n",
      "[[1. 1. 1. 1.]\n",
      " [1. 1. 1. 1.]\n",
      " [1. 1. 1. 1.]\n",
      " [1. 1. 1. 1.]] \n",
      "\n",
      "[[1. 0. 0. 0.]\n",
      " [0. 1. 0. 0.]\n",
      " [0. 0. 1. 0.]\n",
      " [0. 0. 0. 1.]] \n",
      "\n",
      "diagonal  -3 \n",
      " [[0. 0. 0.]\n",
      " [0. 0. 0.]\n",
      " [0. 0. 0.]] \n",
      "\n",
      "diagonal  -2 \n",
      " [[0. 0. 0.]\n",
      " [0. 0. 0.]\n",
      " [1. 0. 0.]] \n",
      "\n",
      "diagonal  -1 \n",
      " [[0. 0. 0.]\n",
      " [1. 0. 0.]\n",
      " [0. 1. 0.]] \n",
      "\n",
      "diagonal  0 \n",
      " [[1. 0. 0.]\n",
      " [0. 1. 0.]\n",
      " [0. 0. 1.]] \n",
      "\n",
      "diagonal  1 \n",
      " [[0. 1. 0.]\n",
      " [0. 0. 1.]\n",
      " [0. 0. 0.]] \n",
      "\n",
      "diagonal  2 \n",
      " [[0. 0. 1.]\n",
      " [0. 0. 0.]\n",
      " [0. 0. 0.]] \n",
      "\n",
      "diagonal  3 \n",
      " [[0. 0. 0.]\n",
      " [0. 0. 0.]\n",
      " [0. 0. 0.]] \n",
      "\n",
      "diagonal  -1 \n",
      " [[ 0  0  0]\n",
      " [ 3  0  0]\n",
      " [ 0 -4  0]] \n",
      "\n",
      "diagonal  0 \n",
      " [[ 3  0]\n",
      " [ 0 -4]] \n",
      "\n",
      "diagonal  1 \n",
      " [[ 0  3  0]\n",
      " [ 0  0 -4]\n",
      " [ 0  0  0]] \n",
      "\n",
      "[[0.504619   0.28359743 0.81637796]\n",
      " [0.17976414 0.89354335 0.12459048]\n",
      " [0.94234596 0.25428737 0.62156279]] \n",
      "\n",
      "[[[0.52855019 0.23419142]\n",
      "  [0.15427045 0.10996637]]\n",
      "\n",
      " [[0.09226273 0.04614502]\n",
      "  [0.77270102 0.65442447]]]\n"
     ]
    }
   ],
   "source": [
    "print(numpy.empty((2,2)), '\\n')\n",
    "print(numpy.zeros((3,3)), '\\n')\n",
    "print(numpy.ones((4,4)), '\\n')\n",
    "print(numpy.identity(4), '\\n')\n",
    "for k in numpy.arange(-3,4):\n",
    "    print('diagonal ', k, '\\n', numpy.eye(3,3,k), '\\n')\n",
    "for k in numpy.arange(-1,2):\n",
    "    print('diagonal ', k, '\\n', numpy.diagflat([3,-4],k), '\\n')\n",
    "print(numpy.random.rand(3,3), '\\n')\n",
    "print(numpy.random.rand(2,2,2))"
   ]
  },
  {
   "cell_type": "code",
   "execution_count": 47,
   "metadata": {},
   "outputs": [
    {
     "name": "stdout",
     "output_type": "stream",
     "text": [
      "[[1 2]\n",
      " [3 4]] \n",
      "\n",
      "[[1 2]\n",
      " [3 4]] \n",
      "\n",
      "[[ 7 10]\n",
      " [15 22]] \n",
      "\n",
      "[[ 7 10]\n",
      " [15 22]] \n",
      "\n",
      "[[ 7 10]\n",
      " [15 22]] \n",
      "\n"
     ]
    }
   ],
   "source": [
    "a = numpy.array([\n",
    "        [1, 2],\n",
    "        [3, 4]\n",
    "    ])\n",
    "b = numpy.array([\n",
    "        [1, 2],\n",
    "        [3, 4]\n",
    "    ])\n",
    "print(a, '\\n')\n",
    "print(b, '\\n')\n",
    "print(numpy.dot(a, b), '\\n')\n",
    "print(a @ b, '\\n')\n",
    "print(numpy.matmul(a,b), '\\n')"
   ]
  },
  {
   "cell_type": "code",
   "execution_count": 48,
   "metadata": {},
   "outputs": [
    {
     "name": "stdout",
     "output_type": "stream",
     "text": [
      "matmul function\n",
      "[[17]\n",
      " [39]] \n",
      "\n",
      "[17 39] \n",
      "\n",
      "[23 34] \n",
      "\n",
      "[[23 34]] \n",
      "\n",
      "dot function\n",
      "[[17]\n",
      " [39]] \n",
      "\n",
      "[17 39] \n",
      "\n",
      "[23 34] \n",
      "\n",
      "[[23 34]] \n",
      "\n",
      "@ function\n",
      "[[17]\n",
      " [39]] \n",
      "\n",
      "[17 39] \n",
      "\n",
      "[23 34] \n",
      "\n",
      "[[23 34]] \n",
      "\n"
     ]
    }
   ],
   "source": [
    "matrix = numpy.array([\n",
    "        [1, 2],\n",
    "        [3, 4]\n",
    "    ])\n",
    "columnMatrix = numpy.array([\n",
    "        [5],\n",
    "        [6]\n",
    "    ])\n",
    "array = numpy.array([\n",
    "        5, 6\n",
    "    ])\n",
    "lineMatrix = numpy.array([\n",
    "        [5,6]\n",
    "    ])\n",
    "\n",
    "print('matmul function')\n",
    "print(numpy.matmul(matrix,columnMatrix), '\\n')\n",
    "print(numpy.matmul(matrix,array), '\\n')\n",
    "# print(numpy.matmul(columnMatrix,matrix), '\\n') # dimension error\n",
    "print(numpy.matmul(array,matrix), '\\n')\n",
    "# print(numpy.matmul(matrix,lineMatrix), '\\n') # dimension error\n",
    "print(numpy.matmul(lineMatrix,matrix), '\\n')\n",
    "\n",
    "print('dot function')\n",
    "print(numpy.dot(matrix,columnMatrix), '\\n')\n",
    "print(numpy.dot(matrix,array), '\\n')\n",
    "# print(numpy.dot(columnMatrix,matrix), '\\n') # dimension error\n",
    "print(numpy.dot(array,matrix), '\\n')\n",
    "# print(numpy.dot(matrix,lineMatrix), '\\n') # dimension error\n",
    "print(numpy.dot(lineMatrix,matrix), '\\n')\n",
    "\n",
    "print('@ function')\n",
    "print(matrix@columnMatrix, '\\n')\n",
    "print(matrix@array, '\\n')\n",
    "# print(columnMatrix@matrix, '\\n') # dimension error\n",
    "print(array@matrix, '\\n')\n",
    "# print(matrix@lineMatrix, '\\n') # dimension error\n",
    "print(lineMatrix@matrix, '\\n')"
   ]
  },
  {
   "cell_type": "code",
   "execution_count": 49,
   "metadata": {},
   "outputs": [
    {
     "name": "stdout",
     "output_type": "stream",
     "text": [
      "vector * vector:\n",
      "array * vector:\n",
      "[5]\n",
      "[5]\n",
      "[5]\n",
      "array * array:\n",
      "5\n",
      "5\n",
      "5\n"
     ]
    }
   ],
   "source": [
    "vecA = numpy.array([[1, 2]])\n",
    "vecB = numpy.array([[1, 2]])\n",
    "arrayA = numpy.array([1, 2])\n",
    "arrayB = numpy.array([1, 2])\n",
    "\n",
    "print('vector * vector:')\n",
    "# print(numpy.dot(vecA,vecB)) # dimension error\n",
    "# print(numpy.matmul(vecA,vecB)) # dimension error\n",
    "# print(vecA@vecB) # dimension error\n",
    "\n",
    "print('array * vector:')\n",
    "print(numpy.dot(vecA,arrayB))\n",
    "print(numpy.matmul(vecA,arrayB))\n",
    "print(vecA@arrayB)\n",
    "\n",
    "print('array * array:')\n",
    "print(numpy.dot(arrayA,arrayB))\n",
    "print(numpy.matmul(arrayA,arrayB))\n",
    "print(arrayA@arrayB)"
   ]
  },
  {
   "cell_type": "code",
   "execution_count": 44,
   "metadata": {},
   "outputs": [],
   "source": [
    "# For determinant, decomposition,\n",
    "# linear solver, least squares,\n",
    "# linear solver, see scipy.linalg\n",
    "# package"
   ]
  }
 ],
 "metadata": {
  "kernelspec": {
   "display_name": "Python 3",
   "language": "python",
   "name": "python3"
  },
  "language_info": {
   "codemirror_mode": {
    "name": "ipython",
    "version": 3
   },
   "file_extension": ".py",
   "mimetype": "text/x-python",
   "name": "python",
   "nbconvert_exporter": "python",
   "pygments_lexer": "ipython3",
   "version": "3.6.5"
  }
 },
 "nbformat": 4,
 "nbformat_minor": 2
}
