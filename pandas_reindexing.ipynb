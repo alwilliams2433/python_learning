{
 "cells": [
  {
   "cell_type": "code",
   "execution_count": 1,
   "metadata": {},
   "outputs": [],
   "source": [
    "import numpy as np\n",
    "import pandas as pd"
   ]
  },
  {
   "cell_type": "code",
   "execution_count": 15,
   "metadata": {},
   "outputs": [
    {
     "data": {
      "text/html": [
       "<div>\n",
       "<style scoped>\n",
       "    .dataframe tbody tr th:only-of-type {\n",
       "        vertical-align: middle;\n",
       "    }\n",
       "\n",
       "    .dataframe tbody tr th {\n",
       "        vertical-align: top;\n",
       "    }\n",
       "\n",
       "    .dataframe thead th {\n",
       "        text-align: right;\n",
       "    }\n",
       "</style>\n",
       "<table border=\"1\" class=\"dataframe\">\n",
       "  <thead>\n",
       "    <tr style=\"text-align: right;\">\n",
       "      <th></th>\n",
       "      <th>c0</th>\n",
       "      <th>c1</th>\n",
       "      <th>c2</th>\n",
       "      <th>c3</th>\n",
       "      <th>c4</th>\n",
       "    </tr>\n",
       "  </thead>\n",
       "  <tbody>\n",
       "    <tr>\n",
       "      <th>r0</th>\n",
       "      <td>0.567781</td>\n",
       "      <td>0.083233</td>\n",
       "      <td>0.889924</td>\n",
       "      <td>0.040957</td>\n",
       "      <td>0.383372</td>\n",
       "    </tr>\n",
       "    <tr>\n",
       "      <th>r1</th>\n",
       "      <td>0.604955</td>\n",
       "      <td>0.535490</td>\n",
       "      <td>0.348959</td>\n",
       "      <td>0.415220</td>\n",
       "      <td>0.095753</td>\n",
       "    </tr>\n",
       "    <tr>\n",
       "      <th>r2</th>\n",
       "      <td>0.213242</td>\n",
       "      <td>0.574128</td>\n",
       "      <td>0.980232</td>\n",
       "      <td>0.569139</td>\n",
       "      <td>0.156471</td>\n",
       "    </tr>\n",
       "    <tr>\n",
       "      <th>r3</th>\n",
       "      <td>0.352612</td>\n",
       "      <td>0.161897</td>\n",
       "      <td>0.881748</td>\n",
       "      <td>0.724799</td>\n",
       "      <td>0.687114</td>\n",
       "    </tr>\n",
       "  </tbody>\n",
       "</table>\n",
       "</div>"
      ],
      "text/plain": [
       "          c0        c1        c2        c3        c4\n",
       "r0  0.567781  0.083233  0.889924  0.040957  0.383372\n",
       "r1  0.604955  0.535490  0.348959  0.415220  0.095753\n",
       "r2  0.213242  0.574128  0.980232  0.569139  0.156471\n",
       "r3  0.352612  0.161897  0.881748  0.724799  0.687114"
      ]
     },
     "execution_count": 15,
     "metadata": {},
     "output_type": "execute_result"
    }
   ],
   "source": [
    "rows = 4\n",
    "columns = 5\n",
    "df = pd.DataFrame(\n",
    "    data = np.random.rand(rows, columns),\n",
    "    index = [f'r{row}' for row in range(rows)],\n",
    "    columns = [f'c{column}' for column in range(columns)]\n",
    ")\n",
    "df"
   ]
  },
  {
   "cell_type": "code",
   "execution_count": 16,
   "metadata": {},
   "outputs": [
    {
     "data": {
      "text/html": [
       "<div>\n",
       "<style scoped>\n",
       "    .dataframe tbody tr th:only-of-type {\n",
       "        vertical-align: middle;\n",
       "    }\n",
       "\n",
       "    .dataframe tbody tr th {\n",
       "        vertical-align: top;\n",
       "    }\n",
       "\n",
       "    .dataframe thead th {\n",
       "        text-align: right;\n",
       "    }\n",
       "</style>\n",
       "<table border=\"1\" class=\"dataframe\">\n",
       "  <thead>\n",
       "    <tr style=\"text-align: right;\">\n",
       "      <th></th>\n",
       "      <th>column 0</th>\n",
       "      <th>column 1</th>\n",
       "      <th>column 2</th>\n",
       "      <th>column 3</th>\n",
       "      <th>column 4</th>\n",
       "    </tr>\n",
       "  </thead>\n",
       "  <tbody>\n",
       "    <tr>\n",
       "      <th>row 0</th>\n",
       "      <td>0.567781</td>\n",
       "      <td>0.083233</td>\n",
       "      <td>0.889924</td>\n",
       "      <td>0.040957</td>\n",
       "      <td>0.383372</td>\n",
       "    </tr>\n",
       "    <tr>\n",
       "      <th>row 1</th>\n",
       "      <td>0.604955</td>\n",
       "      <td>0.535490</td>\n",
       "      <td>0.348959</td>\n",
       "      <td>0.415220</td>\n",
       "      <td>0.095753</td>\n",
       "    </tr>\n",
       "    <tr>\n",
       "      <th>row 2</th>\n",
       "      <td>0.213242</td>\n",
       "      <td>0.574128</td>\n",
       "      <td>0.980232</td>\n",
       "      <td>0.569139</td>\n",
       "      <td>0.156471</td>\n",
       "    </tr>\n",
       "    <tr>\n",
       "      <th>row 3</th>\n",
       "      <td>0.352612</td>\n",
       "      <td>0.161897</td>\n",
       "      <td>0.881748</td>\n",
       "      <td>0.724799</td>\n",
       "      <td>0.687114</td>\n",
       "    </tr>\n",
       "  </tbody>\n",
       "</table>\n",
       "</div>"
      ],
      "text/plain": [
       "       column 0  column 1  column 2  column 3  column 4\n",
       "row 0  0.567781  0.083233  0.889924  0.040957  0.383372\n",
       "row 1  0.604955  0.535490  0.348959  0.415220  0.095753\n",
       "row 2  0.213242  0.574128  0.980232  0.569139  0.156471\n",
       "row 3  0.352612  0.161897  0.881748  0.724799  0.687114"
      ]
     },
     "execution_count": 16,
     "metadata": {},
     "output_type": "execute_result"
    }
   ],
   "source": [
    "df.rename(\n",
    "    index = dict([(f'r{row}', f'row {row}') for row in range(rows)]),\n",
    "    columns = dict([(f'c{column}', f'column {column}') for column in range(columns)]),\n",
    ")"
   ]
  },
  {
   "cell_type": "code",
   "execution_count": 17,
   "metadata": {},
   "outputs": [
    {
     "data": {
      "text/html": [
       "<div>\n",
       "<style scoped>\n",
       "    .dataframe tbody tr th:only-of-type {\n",
       "        vertical-align: middle;\n",
       "    }\n",
       "\n",
       "    .dataframe tbody tr th {\n",
       "        vertical-align: top;\n",
       "    }\n",
       "\n",
       "    .dataframe thead th {\n",
       "        text-align: right;\n",
       "    }\n",
       "</style>\n",
       "<table border=\"1\" class=\"dataframe\">\n",
       "  <thead>\n",
       "    <tr style=\"text-align: right;\">\n",
       "      <th></th>\n",
       "      <th>c0</th>\n",
       "      <th>c1</th>\n",
       "      <th>c2</th>\n",
       "      <th>c3</th>\n",
       "      <th>c4</th>\n",
       "    </tr>\n",
       "  </thead>\n",
       "  <tbody>\n",
       "    <tr>\n",
       "      <th>r0</th>\n",
       "      <td>0.956318</td>\n",
       "      <td>0.309521</td>\n",
       "      <td>0.588044</td>\n",
       "      <td>0.269782</td>\n",
       "      <td>0.713447</td>\n",
       "    </tr>\n",
       "    <tr>\n",
       "      <th>r1</th>\n",
       "      <td>0.493185</td>\n",
       "      <td>0.468809</td>\n",
       "      <td>0.993946</td>\n",
       "      <td>0.083853</td>\n",
       "      <td>0.945625</td>\n",
       "    </tr>\n",
       "  </tbody>\n",
       "</table>\n",
       "</div>"
      ],
      "text/plain": [
       "          c0        c1        c2        c3        c4\n",
       "r0  0.956318  0.309521  0.588044  0.269782  0.713447\n",
       "r1  0.493185  0.468809  0.993946  0.083853  0.945625"
      ]
     },
     "execution_count": 17,
     "metadata": {},
     "output_type": "execute_result"
    }
   ],
   "source": [
    "df2 = pd.DataFrame(\n",
    "    data = np.random.rand(rows-2, columns),\n",
    "    index = [f'r{row}' for row in range(rows-2)],\n",
    "    columns = [f'c{column}' for column in range(columns)]\n",
    ")\n",
    "df2"
   ]
  },
  {
   "cell_type": "code",
   "execution_count": 23,
   "metadata": {},
   "outputs": [
    {
     "data": {
      "text/html": [
       "<div>\n",
       "<style scoped>\n",
       "    .dataframe tbody tr th:only-of-type {\n",
       "        vertical-align: middle;\n",
       "    }\n",
       "\n",
       "    .dataframe tbody tr th {\n",
       "        vertical-align: top;\n",
       "    }\n",
       "\n",
       "    .dataframe thead th {\n",
       "        text-align: right;\n",
       "    }\n",
       "</style>\n",
       "<table border=\"1\" class=\"dataframe\">\n",
       "  <thead>\n",
       "    <tr style=\"text-align: right;\">\n",
       "      <th></th>\n",
       "      <th>c0</th>\n",
       "      <th>c1</th>\n",
       "      <th>c2</th>\n",
       "      <th>c3</th>\n",
       "      <th>c4</th>\n",
       "    </tr>\n",
       "  </thead>\n",
       "  <tbody>\n",
       "    <tr>\n",
       "      <th>r0</th>\n",
       "      <td>0.956318</td>\n",
       "      <td>0.309521</td>\n",
       "      <td>0.588044</td>\n",
       "      <td>0.269782</td>\n",
       "      <td>0.713447</td>\n",
       "    </tr>\n",
       "    <tr>\n",
       "      <th>r1</th>\n",
       "      <td>0.493185</td>\n",
       "      <td>0.468809</td>\n",
       "      <td>0.993946</td>\n",
       "      <td>0.083853</td>\n",
       "      <td>0.945625</td>\n",
       "    </tr>\n",
       "    <tr>\n",
       "      <th>r2</th>\n",
       "      <td>0.493185</td>\n",
       "      <td>0.468809</td>\n",
       "      <td>0.993946</td>\n",
       "      <td>0.083853</td>\n",
       "      <td>0.945625</td>\n",
       "    </tr>\n",
       "    <tr>\n",
       "      <th>r3</th>\n",
       "      <td>NaN</td>\n",
       "      <td>NaN</td>\n",
       "      <td>NaN</td>\n",
       "      <td>NaN</td>\n",
       "      <td>NaN</td>\n",
       "    </tr>\n",
       "  </tbody>\n",
       "</table>\n",
       "</div>"
      ],
      "text/plain": [
       "          c0        c1        c2        c3        c4\n",
       "r0  0.956318  0.309521  0.588044  0.269782  0.713447\n",
       "r1  0.493185  0.468809  0.993946  0.083853  0.945625\n",
       "r2  0.493185  0.468809  0.993946  0.083853  0.945625\n",
       "r3       NaN       NaN       NaN       NaN       NaN"
      ]
     },
     "execution_count": 23,
     "metadata": {},
     "output_type": "execute_result"
    }
   ],
   "source": [
    "df2.reindex_like(df, limit=1, method='ffill')"
   ]
  },
  {
   "cell_type": "code",
   "execution_count": 29,
   "metadata": {},
   "outputs": [
    {
     "data": {
      "text/html": [
       "<div>\n",
       "<style scoped>\n",
       "    .dataframe tbody tr th:only-of-type {\n",
       "        vertical-align: middle;\n",
       "    }\n",
       "\n",
       "    .dataframe tbody tr th {\n",
       "        vertical-align: top;\n",
       "    }\n",
       "\n",
       "    .dataframe thead th {\n",
       "        text-align: right;\n",
       "    }\n",
       "</style>\n",
       "<table border=\"1\" class=\"dataframe\">\n",
       "  <thead>\n",
       "    <tr style=\"text-align: right;\">\n",
       "      <th></th>\n",
       "      <th>0</th>\n",
       "      <th>1</th>\n",
       "      <th>2</th>\n",
       "      <th>3</th>\n",
       "      <th>4</th>\n",
       "    </tr>\n",
       "  </thead>\n",
       "  <tbody>\n",
       "    <tr>\n",
       "      <th>0</th>\n",
       "      <td>0.527449</td>\n",
       "      <td>0.983790</td>\n",
       "      <td>0.610100</td>\n",
       "      <td>0.723492</td>\n",
       "      <td>0.766723</td>\n",
       "    </tr>\n",
       "    <tr>\n",
       "      <th>1</th>\n",
       "      <td>0.079404</td>\n",
       "      <td>0.316335</td>\n",
       "      <td>0.254228</td>\n",
       "      <td>0.672950</td>\n",
       "      <td>0.841620</td>\n",
       "    </tr>\n",
       "    <tr>\n",
       "      <th>2</th>\n",
       "      <td>0.435953</td>\n",
       "      <td>0.078092</td>\n",
       "      <td>0.566581</td>\n",
       "      <td>0.705298</td>\n",
       "      <td>0.862048</td>\n",
       "    </tr>\n",
       "    <tr>\n",
       "      <th>3</th>\n",
       "      <td>0.325835</td>\n",
       "      <td>0.743701</td>\n",
       "      <td>0.449997</td>\n",
       "      <td>0.618837</td>\n",
       "      <td>0.606965</td>\n",
       "    </tr>\n",
       "  </tbody>\n",
       "</table>\n",
       "</div>"
      ],
      "text/plain": [
       "          0         1         2         3         4\n",
       "0  0.527449  0.983790  0.610100  0.723492  0.766723\n",
       "1  0.079404  0.316335  0.254228  0.672950  0.841620\n",
       "2  0.435953  0.078092  0.566581  0.705298  0.862048\n",
       "3  0.325835  0.743701  0.449997  0.618837  0.606965"
      ]
     },
     "execution_count": 29,
     "metadata": {},
     "output_type": "execute_result"
    }
   ],
   "source": [
    "rows = 4\n",
    "columns = 5\n",
    "df = pd.DataFrame(\n",
    "    data = np.random.rand(rows, columns),\n",
    "    index = np.arange(rows)\n",
    ")\n",
    "df"
   ]
  },
  {
   "cell_type": "code",
   "execution_count": 30,
   "metadata": {},
   "outputs": [
    {
     "data": {
      "text/plain": [
       "Int64Index([0, 1, 2, 3], dtype='int64')"
      ]
     },
     "execution_count": 30,
     "metadata": {},
     "output_type": "execute_result"
    }
   ],
   "source": [
    "df.index"
   ]
  },
  {
   "cell_type": "code",
   "execution_count": 32,
   "metadata": {},
   "outputs": [
    {
     "data": {
      "text/plain": [
       "Index(['0', '1', '2', '3'], dtype='object')"
      ]
     },
     "execution_count": 32,
     "metadata": {},
     "output_type": "execute_result"
    }
   ],
   "source": [
    "df.rename(str, axis='index').index"
   ]
  },
  {
   "cell_type": "code",
   "execution_count": null,
   "metadata": {},
   "outputs": [],
   "source": []
  }
 ],
 "metadata": {
  "kernelspec": {
   "display_name": "Python 3",
   "language": "python",
   "name": "python3"
  },
  "language_info": {
   "codemirror_mode": {
    "name": "ipython",
    "version": 3
   },
   "file_extension": ".py",
   "mimetype": "text/x-python",
   "name": "python",
   "nbconvert_exporter": "python",
   "pygments_lexer": "ipython3",
   "version": "3.6.6"
  }
 },
 "nbformat": 4,
 "nbformat_minor": 2
}
