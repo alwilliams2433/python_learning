{
 "cells": [
  {
   "cell_type": "code",
   "execution_count": 30,
   "metadata": {},
   "outputs": [],
   "source": [
    "import sympy\n",
    "import numpy"
   ]
  },
  {
   "cell_type": "code",
   "execution_count": 10,
   "metadata": {},
   "outputs": [
    {
     "name": "stdout",
     "output_type": "stream",
     "text": [
      "exp(2*x) + 3\n",
      "3 + exp(8)\n",
      "exp(2*y) + 3\n",
      "y + 3\n",
      "exp(2*x) + 3\n"
     ]
    }
   ],
   "source": [
    "x, y = sympy.symbols('x, y')\n",
    "expr = sympy.exp(2*x) + 3\n",
    "\n",
    "print(expr)\n",
    "print(expr.subs(x,4))\n",
    "print(expr.subs(x,y))\n",
    "print(expr.subs(sympy.exp(2*x),y))\n",
    "print(expr)"
   ]
  },
  {
   "cell_type": "code",
   "execution_count": 13,
   "metadata": {},
   "outputs": [
    {
     "name": "stdout",
     "output_type": "stream",
     "text": [
      "-3*y**2 + log(x) + sin(z)\n",
      "-48 + sin(5) + log(3)\n"
     ]
    }
   ],
   "source": [
    "x, y, z = sympy.symbols('x, y, z')\n",
    "expr = sympy.log(x) - 3*y**2 + sympy.sin(z)\n",
    "print(expr)\n",
    "print(expr.subs([(x,3), (y, 4), (z, 5)]))"
   ]
  },
  {
   "cell_type": "code",
   "execution_count": 21,
   "metadata": {},
   "outputs": [
    {
     "name": "stdout",
     "output_type": "stream",
     "text": [
      "y**2 + exp(x) - 2\n",
      "y**2 + z - 2\n"
     ]
    }
   ],
   "source": [
    "str_expr = 'exp(x) + y**2 - 2'\n",
    "expr = sympy.sympify(str_expr)\n",
    "print(expr)\n",
    "print(expr.subs(sympy.exp(x),'z'))"
   ]
  },
  {
   "cell_type": "code",
   "execution_count": 29,
   "metadata": {},
   "outputs": [
    {
     "name": "stdout",
     "output_type": "stream",
     "text": [
      "-9*y**3 + exp(x)\n",
      "-0.009 + exp(3)\n",
      "20.0765369231877\n",
      "20.07653692318766773813909430521101208917 <class 'sympy.core.numbers.Float'>\n",
      "20.0765369231877\n"
     ]
    }
   ],
   "source": [
    "expr = sympy.sympify('exp(x) - 9*y**3')\n",
    "print(expr)\n",
    "evalExpr = expr.subs([(x,3), (y,0.1)])\n",
    "print(evalExpr)\n",
    "print(evalExpr.evalf())\n",
    "print(evalExpr.evalf(40), type(evalExpr.evalf(40))) # Arbitrary precision evaluation\n",
    "print(expr.evalf(subs={'x':3, 'y':0.1})) # pass a dict to evalf and it\n",
    "                                         # performs the substitutions - more efficient"
   ]
  },
  {
   "cell_type": "code",
   "execution_count": 39,
   "metadata": {},
   "outputs": [
    {
     "name": "stdout",
     "output_type": "stream",
     "text": [
      "y**2 + exp(2*x)\n",
      "f(0.3,4) = 17.82211880039051\n",
      "g(2) = 0.9092974268256817 = 0.9092974268256817\n"
     ]
    }
   ],
   "source": [
    "expr = sympy.sympify('exp(2*x) + y**2')\n",
    "print(expr)\n",
    "f = sympy.lambdify(('x','y'), expr, numpy)\n",
    "print('f(0.3,4) =', f(0.3,4))\n",
    "g = sympy.lambdify('x', 'sin(x)', numpy)\n",
    "print('g(2) =', g(2), '=', numpy.sin(2))"
   ]
  }
 ],
 "metadata": {
  "kernelspec": {
   "display_name": "Python 3",
   "language": "python",
   "name": "python3"
  },
  "language_info": {
   "codemirror_mode": {
    "name": "ipython",
    "version": 3
   },
   "file_extension": ".py",
   "mimetype": "text/x-python",
   "name": "python",
   "nbconvert_exporter": "python",
   "pygments_lexer": "ipython3",
   "version": "3.6.5"
  }
 },
 "nbformat": 4,
 "nbformat_minor": 2
}
