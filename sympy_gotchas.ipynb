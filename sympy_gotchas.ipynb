{
 "cells": [
  {
   "cell_type": "code",
   "execution_count": 9,
   "metadata": {},
   "outputs": [],
   "source": [
    "import sympy\n",
    "sympy.init_printing()"
   ]
  },
  {
   "cell_type": "code",
   "execution_count": 17,
   "metadata": {},
   "outputs": [
    {
     "name": "stdout",
     "output_type": "stream",
     "text": [
      "a = x\n"
     ]
    }
   ],
   "source": [
    "# variable != symbol\n",
    "a = sympy.symbols('x')\n",
    "print('a =', a)"
   ]
  },
  {
   "cell_type": "code",
   "execution_count": 18,
   "metadata": {},
   "outputs": [
    {
     "name": "stdout",
     "output_type": "stream",
     "text": [
      "xi\n"
     ]
    },
    {
     "data": {
      "image/png": "[encoded data removed]",
      "text/latex": [
       "$$\\xi$$"
      ],
      "text/plain": [
       "ξ"
      ]
     },
     "execution_count": 18,
     "metadata": {},
     "output_type": "execute_result"
    }
   ],
   "source": [
    "x = sympy.symbols('xi')\n",
    "print(x)\n",
    "x"
   ]
  },
  {
   "cell_type": "code",
   "execution_count": 23,
   "metadata": {},
   "outputs": [
    {
     "name": "stdout",
     "output_type": "stream",
     "text": [
      "sin(x) + cos(x)\n",
      "1\n",
      "-1\n"
     ]
    }
   ],
   "source": [
    "x = sympy.symbols('x')\n",
    "expr = sympy.sin(x) + sympy.cos(x)\n",
    "print(expr)\n",
    "print(expr.subs(x, 0))\n",
    "print(expr.subs(x, sympy.pi))"
   ]
  },
  {
   "cell_type": "code",
   "execution_count": 35,
   "metadata": {},
   "outputs": [
    {
     "name": "stdout",
     "output_type": "stream",
     "text": [
      "False\n",
      "Eq((x + 2)**2, x**2 + 4*x + 4)\n",
      "True\n"
     ]
    }
   ],
   "source": [
    "# '==': compare python objects\n",
    "# sympy.Equality (or sympy.Eq): create a symbolic equality\n",
    "x = sympy.symbols('x')\n",
    "a = (x+2)**2\n",
    "b = x**2 + 4*x + 4\n",
    "print(a==b)\n",
    "print(sympy.Equality(a,b))\n",
    "print(sympy.simplify(sympy.Equality(a,b)))"
   ]
  },
  {
   "cell_type": "code",
   "execution_count": 37,
   "metadata": {},
   "outputs": [
    {
     "name": "stdout",
     "output_type": "stream",
     "text": [
      "True\n",
      "True\n"
     ]
    }
   ],
   "source": [
    "a = sympy.cos(x)**2 - sympy.sin(x)**2\n",
    "b = sympy.cos(2*x)\n",
    "print(a.equals(b))\n",
    "\n",
    "x = sympy.symbols('x')\n",
    "a = (x+2)**2\n",
    "b = x**2 + 4*x + 4\n",
    "print(a.equals(b)) # check numerical evaluation in random points"
   ]
  },
  {
   "cell_type": "code",
   "execution_count": 52,
   "metadata": {},
   "outputs": [
    {
     "name": "stdout",
     "output_type": "stream",
     "text": [
      "x\n",
      "x + 1\n",
      "x + 1\n",
      "x + 0.5\n",
      "x + 1/2\n"
     ]
    }
   ],
   "source": [
    "# sympy_object + sympy_object = sympy_object\n",
    "# sympy_object + python_object = sympy_object\n",
    "# python_object + sympy_object = sympy_object\n",
    "# python_object + python_object = python_object\n",
    "\n",
    "x = sympy.symbols('x')\n",
    "print(x)\n",
    "print(x+1)\n",
    "print(1+x)\n",
    "print(x+1/2) # 1/2 evaluated numerically by python language\n",
    "print(x+sympy.Rational(1,2)) # Use 'Rational' to develop symbolically"
   ]
  },
  {
   "cell_type": "code",
   "execution_count": 53,
   "metadata": {},
   "outputs": [
    {
     "name": "stdout",
     "output_type": "stream",
     "text": [
      "6.200000000000000e+00\n",
      "6.20000000000000\n"
     ]
    }
   ],
   "source": [
    "print('{:.15e}'.format(6.2)) # Possible to show rounding error\n",
    "print(sympy.S(6.2)) # Arbitrary precision"
   ]
  },
  {
   "cell_type": "code",
   "execution_count": 54,
   "metadata": {},
   "outputs": [
    {
     "name": "stdout",
     "output_type": "stream",
     "text": [
      "3.142857142857143\n",
      "3.14285714285714\n",
      "22/7\n"
     ]
    }
   ],
   "source": [
    "print(22/7)\n",
    "print(sympy.S(22/7)) # First evaluate the python expression and after create a symbol\n",
    "print(sympy.S(\"22/7\")) # Create a symbol from string"
   ]
  },
  {
   "cell_type": "code",
   "execution_count": 56,
   "metadata": {},
   "outputs": [
    {
     "name": "stdout",
     "output_type": "stream",
     "text": [
      "0.14285714285714285\n",
      "0.142857142857143\n"
     ]
    }
   ],
   "source": [
    "print(1/7) # Binary floating point\n",
    "print(sympy.Float(\"1/7\")) # Really stored as a floating point, not arbitrary precision"
   ]
  }
 ],
 "metadata": {
  "kernelspec": {
   "display_name": "Python 3",
   "language": "python",
   "name": "python3"
  },
  "language_info": {
   "codemirror_mode": {
    "name": "ipython",
    "version": 3
   },
   "file_extension": ".py",
   "mimetype": "text/x-python",
   "name": "python",
   "nbconvert_exporter": "python",
   "pygments_lexer": "ipython3",
   "version": "3.6.5"
  }
 },
 "nbformat": 4,
 "nbformat_minor": 2
}
