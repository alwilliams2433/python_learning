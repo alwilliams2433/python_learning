{
 "cells": [
  {
   "cell_type": "code",
   "execution_count": 12,
   "metadata": {},
   "outputs": [
    {
     "name": "stdout",
     "output_type": "stream",
     "text": [
      "Hi, my name is Lucas and I am 22 old.\n",
      "Hi, my name is Lucas and I am 22 old.\n",
      "Hi, my name is Lucas and I am 22 old.\n",
      "Hi, my name is Lucas and I am 22 old.\n"
     ]
    }
   ],
   "source": [
    "name = 'Lucas'\n",
    "age = 22\n",
    "\n",
    "class Person:\n",
    "    name = name\n",
    "    age = age\n",
    "lucas = Person()\n",
    "\n",
    "personData = (name, age)\n",
    "\n",
    "print('Hi, my name is {} and I am {} old.'.format(name, age))\n",
    "print('Hi, my name is {name} and I am {age} old.'.format(age=age, name=name))\n",
    "print('Hi, my name is {person.name} and I am {person.age} old.'.format(person=lucas))\n",
    "print('Hi, my name is {0[0]} and I am {0[1]} old.'.format(personData))"
   ]
  },
  {
   "cell_type": "code",
   "execution_count": 29,
   "metadata": {},
   "outputs": [
    {
     "name": "stdout",
     "output_type": "stream",
     "text": [
      "Name: Lucas; Age: 22\n",
      "\n",
      "Name: Lucas; Age: 22\n",
      "\n",
      "Name: Lucas; Age: 22\n",
      "\n"
     ]
    }
   ],
   "source": [
    "class Person:\n",
    "    name = 'Lucas'\n",
    "    age = 22\n",
    "    def __str__(self):\n",
    "        return 'Name: {}; Age: {}\\n'.format(self.name, self.age)\n",
    "    __repr__ = __str__\n",
    "\n",
    "lucas = Person()\n",
    " \n",
    "print('{0!a}'.format(lucas))\n",
    "print('{0!r}'.format(lucas))\n",
    "print('{0!s}'.format(lucas))"
   ]
  },
  {
   "cell_type": "code",
   "execution_count": 65,
   "metadata": {},
   "outputs": [
    {
     "name": "stdout",
     "output_type": "stream",
     "text": [
      "Formatted string:\n",
      "-----12345\n",
      "\n",
      "\n",
      "Formatted negative number:\n",
      "::::-8_567.9834:::::\n",
      "Formatted negative number:\n",
      "::-8.983454325E-09::\n",
      "\n",
      "Formatted positive number:\n",
      " 8_567.9834\n",
      "\n",
      "Formatted integer number:\n",
      "10011100010000\n",
      "Formatted integer number:\n",
      "0b10011100010000\n",
      "Formatted integer number:\n",
      "0o23420\n",
      "Formatted integer number:\n",
      "0X2710\n",
      "Formatted integer number:\n",
      "10_000\n"
     ]
    }
   ],
   "source": [
    "s = '123456789'\n",
    "fn = -8567.9834\n",
    "fn1 = -8.9834543253E-9\n",
    "fp = 8567.9834\n",
    "d = 10000\n",
    "\n",
    "print('Formatted string:\\n{string!s:->10.5s}\\n'.format(string=s))\n",
    "print('\\nFormatted negative number:\\n{neg::^+20_.10G}'.format(neg=fn))\n",
    "print('Formatted negative number:\\n{neg::^+20_.10G}'.format(neg=fn1))\n",
    "print('\\nFormatted positive number:\\n{pos: ^ 6_.10G}'.format(pos=fp))\n",
    "print('\\nFormatted integer number:\\n{0:b}'.format(d))\n",
    "print('Formatted integer number:\\n{0:#b}'.format(d))\n",
    "print('Formatted integer number:\\n{0:#o}'.format(d))\n",
    "print('Formatted integer number:\\n{0:#X}'.format(d))\n",
    "print('Formatted integer number:\\n{0:#_d}'.format(d))"
   ]
  }
 ],
 "metadata": {
  "kernelspec": {
   "display_name": "Python 3",
   "language": "python",
   "name": "python3"
  },
  "language_info": {
   "codemirror_mode": {
    "name": "ipython",
    "version": 3
   },
   "file_extension": ".py",
   "mimetype": "text/x-python",
   "name": "python",
   "nbconvert_exporter": "python",
   "pygments_lexer": "ipython3",
   "version": "3.6.5"
  }
 },
 "nbformat": 4,
 "nbformat_minor": 2
}
