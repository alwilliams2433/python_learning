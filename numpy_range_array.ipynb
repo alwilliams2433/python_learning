{
 "cells": [
  {
   "cell_type": "code",
   "execution_count": 19,
   "metadata": {},
   "outputs": [],
   "source": [
    "import numpy"
   ]
  },
  {
   "cell_type": "code",
   "execution_count": 20,
   "metadata": {},
   "outputs": [
    {
     "name": "stdout",
     "output_type": "stream",
     "text": [
      "[0 1 2 3 4]\n",
      "int64\n",
      "[0. 1. 2. 3. 4.]\n",
      "float64\n"
     ]
    }
   ],
   "source": [
    "rangeArray = numpy.arange(5)\n",
    "print(rangeArray)\n",
    "print(rangeArray.dtype)\n",
    "\n",
    "rangeArray = numpy.arange(5.)\n",
    "print(rangeArray)\n",
    "print(rangeArray.dtype)"
   ]
  },
  {
   "cell_type": "code",
   "execution_count": 21,
   "metadata": {},
   "outputs": [
    {
     "name": "stdout",
     "output_type": "stream",
     "text": [
      "[-3.   -2.17 -1.34 -0.51  0.32  1.15  1.98  2.81  3.64  4.47]\n"
     ]
    }
   ],
   "source": [
    "rangeArray = numpy.arange(-3, 5, 0.83, dtype=numpy.float_)\n",
    "print(rangeArray)"
   ]
  },
  {
   "cell_type": "code",
   "execution_count": 22,
   "metadata": {},
   "outputs": [
    {
     "name": "stdout",
     "output_type": "stream",
     "text": [
      "[0.+0.j 1.+0.j 2.+0.j]\n",
      "[]\n",
      "[0.+0.j 0.+1.j 0.+2.j 0.+3.j 0.+4.j]\n"
     ]
    }
   ],
   "source": [
    "rangeArray = numpy.arange(numpy.complex(0,0), numpy.complex(4,3), numpy.complex(1,0), dtype=numpy.complex)\n",
    "print(rangeArray)\n",
    "rangeArray = numpy.arange(numpy.complex(0,0), numpy.complex(0, 5), numpy.complex(0,1), dtype=numpy.complex)\n",
    "print(rangeArray)\n",
    "rangeArray = numpy.arange(0, 5, 1) * numpy.complex(0,1)\n",
    "print(rangeArray)"
   ]
  },
  {
   "cell_type": "code",
   "execution_count": 25,
   "metadata": {},
   "outputs": [
    {
     "name": "stdout",
     "output_type": "stream",
     "text": [
      "[ 5.  6.  7.  8.  9. 10.]\n",
      "float64\n"
     ]
    }
   ],
   "source": [
    "linearSpaced = numpy.linspace(5, 10, 6)\n",
    "print(linearSpaced)\n",
    "print(linearSpaced.dtype)"
   ]
  },
  {
   "cell_type": "code",
   "execution_count": 26,
   "metadata": {},
   "outputs": [
    {
     "name": "stdout",
     "output_type": "stream",
     "text": [
      "[ 5.          6.66666667  8.33333333 10.        ]\n",
      "float64\n"
     ]
    }
   ],
   "source": [
    "linearSpaced = numpy.linspace(5, 10, 4)\n",
    "print(linearSpaced)\n",
    "print(linearSpaced.dtype)"
   ]
  },
  {
   "cell_type": "code",
   "execution_count": 28,
   "metadata": {},
   "outputs": [
    {
     "name": "stdout",
     "output_type": "stream",
     "text": [
      "[ 7.     7.625  8.25   8.875  9.5   10.125 10.75  11.375 12.   ]\n",
      "0.625\n",
      "0.625\n"
     ]
    }
   ],
   "source": [
    "linearSpaced, step = numpy.linspace(7, 12, 9, retstep=True)\n",
    "print(linearSpaced)\n",
    "print(linearSpaced[1] - linearSpaced[0])\n",
    "print(step)"
   ]
  },
  {
   "cell_type": "code",
   "execution_count": 29,
   "metadata": {},
   "outputs": [
    {
     "name": "stdout",
     "output_type": "stream",
     "text": [
      "[ 1.          1.93318204  3.73719282  7.22467406 13.96661017 27.        ]\n"
     ]
    }
   ],
   "source": [
    "logSpaced = numpy.logspace(0, 3, 6, base=3)\n",
    "print(logSpaced)"
   ]
  }
 ],
 "metadata": {
  "kernelspec": {
   "display_name": "Python 3",
   "language": "python",
   "name": "python3"
  },
  "language_info": {
   "codemirror_mode": {
    "name": "ipython",
    "version": 3
   },
   "file_extension": ".py",
   "mimetype": "text/x-python",
   "name": "python",
   "nbconvert_exporter": "python",
   "pygments_lexer": "ipython3",
   "version": "3.6.5"
  }
 },
 "nbformat": 4,
 "nbformat_minor": 2
}
