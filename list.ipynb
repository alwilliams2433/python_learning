{
 "cells": [
  {
   "cell_type": "code",
   "execution_count": 1,
   "metadata": {},
   "outputs": [
    {
     "name": "stdout",
     "output_type": "stream",
     "text": [
      "['oi', 25, 3.141592]\n",
      "25\n"
     ]
    }
   ],
   "source": [
    "list0 = [\"oi\", 25, 3.141592]\n",
    "print(list0)\n",
    "print(list0[1])"
   ]
  },
  {
   "cell_type": "code",
   "execution_count": 2,
   "metadata": {},
   "outputs": [
    {
     "name": "stdout",
     "output_type": "stream",
     "text": [
      "['oi', 25, 3.141592, [5, 6, 7]]\n",
      "[5, 6, 7]\n"
     ]
    }
   ],
   "source": [
    "list0.append([5, 6, 7])\n",
    "print(list0)\n",
    "print(list0[3])"
   ]
  },
  {
   "cell_type": "code",
   "execution_count": 7,
   "metadata": {},
   "outputs": [
    {
     "name": "stdout",
     "output_type": "stream",
     "text": [
      "['oi', 25, 3.141592, [5, 6, 7]]\n",
      "['oi', 25, 3.141592, [5, 6, 7], -1, -2, -3]\n"
     ]
    }
   ],
   "source": [
    "print(list0)\n",
    "list0.extend([-1, -2, -3])\n",
    "print(list0)"
   ]
  },
  {
   "cell_type": "code",
   "execution_count": 8,
   "metadata": {},
   "outputs": [
    {
     "name": "stdout",
     "output_type": "stream",
     "text": [
      "['oi', 25, 3.141592, [5, 6, 7], -1, -2, -3]\n",
      "['oi', 25, 3.141592, -1, -2, -3]\n"
     ]
    }
   ],
   "source": [
    "print(list0)\n",
    "del list0[3]\n",
    "print(list0)"
   ]
  },
  {
   "cell_type": "code",
   "execution_count": 10,
   "metadata": {},
   "outputs": [
    {
     "name": "stdout",
     "output_type": "stream",
     "text": [
      "['oi', 25, 3.141592, -1, -2, -3]\n",
      "['aloha', 6.2831]\n",
      "['oi', 25, 3.141592, -1, -2, -3, 'aloha', 6.2831]\n"
     ]
    }
   ],
   "source": [
    "list1 = [\"aloha\", 6.2831]\n",
    "print(list0)\n",
    "print(list1)\n",
    "print(list0 + list1)"
   ]
  },
  {
   "cell_type": "code",
   "execution_count": 14,
   "metadata": {},
   "outputs": [
    {
     "name": "stdout",
     "output_type": "stream",
     "text": [
      "[5, 6, -1, 5, 6, -1, 5, 6, -1]\n",
      "3\n"
     ]
    }
   ],
   "source": [
    "list2 = [5, 6, -1] * 3\n",
    "print(list2)\n",
    "print(list2.count(5))"
   ]
  },
  {
   "cell_type": "code",
   "execution_count": 3,
   "metadata": {},
   "outputs": [
    {
     "name": "stdout",
     "output_type": "stream",
     "text": [
      "[29, 27, 17, 49, 24, 35, 40, 47, 34, 25]\n",
      "[17, 24, 25, 27, 29, 34, 35, 40, 47, 49]\n"
     ]
    }
   ],
   "source": [
    "import random\n",
    "list4 = random.sample(range(1,50), 10)\n",
    "print(list4)\n",
    "list4.sort()\n",
    "print(list4)"
   ]
  },
  {
   "cell_type": "code",
   "execution_count": 4,
   "metadata": {},
   "outputs": [
    {
     "name": "stdout",
     "output_type": "stream",
     "text": [
      "True\n"
     ]
    }
   ],
   "source": [
    "list5 = [\n",
    "    [1, 2],\n",
    "    [3, 4]\n",
    "]\n",
    "print(list5[1][0]==3)"
   ]
  },
  {
   "cell_type": "code",
   "execution_count": null,
   "metadata": {},
   "outputs": [],
   "source": []
  }
 ],
 "metadata": {
  "kernelspec": {
   "display_name": "Python 3",
   "language": "python",
   "name": "python3"
  },
  "language_info": {
   "codemirror_mode": {
    "name": "ipython",
    "version": 3
   },
   "file_extension": ".py",
   "mimetype": "text/x-python",
   "name": "python",
   "nbconvert_exporter": "python",
   "pygments_lexer": "ipython3",
   "version": "3.6.5"
  }
 },
 "nbformat": 4,
 "nbformat_minor": 2
}
