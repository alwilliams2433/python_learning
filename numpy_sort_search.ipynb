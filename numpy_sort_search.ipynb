{
 "cells": [
  {
   "cell_type": "code",
   "execution_count": 2,
   "metadata": {},
   "outputs": [],
   "source": [
    "import numpy"
   ]
  },
  {
   "cell_type": "code",
   "execution_count": 11,
   "metadata": {},
   "outputs": [
    {
     "name": "stdout",
     "output_type": "stream",
     "text": [
      "Amplitudes =              [0.7 0.6 0.1 0.7 0.4 0.3 0.6 0.2 0.2 0.5]\n",
      "Indices =                 [2 7 8 5 4 9 1 6 0 3]\n",
      "Frequencies =             [0 1 2 3 4 5 6 7 8 9]\n",
      "amp sorted frequencies =  [2 7 8 5 4 9 1 6 0 3]\n",
      "index max =               0\n",
      "index min =               2\n",
      "indices where A>0.4 =     (array([0, 1, 3, 6, 9]),)\n"
     ]
    }
   ],
   "source": [
    "amplitudes = numpy.array([0.7, 0.6, 0.1, 0.7, 0.4, 0.3, 0.6, 0.2, 0.2, 0.5])\n",
    "frequencies = numpy.arange(size)\n",
    "indices = numpy.argsort(amplitudes)\n",
    "indexMax = numpy.argmax(amplitudes)\n",
    "indexMin = numpy.argmin(amplitudes)\n",
    "conditionaIndices = numpy.where(amplitudes>0.4)\n",
    "print('Amplitudes = '.ljust(25), amplitudes)\n",
    "print('Indices = '.ljust(25), indices)\n",
    "print('Frequencies = '.ljust(25), frequencies)\n",
    "print('amp sorted frequencies = '.ljust(25), frequencies[indices])\n",
    "print('index max = '.ljust(25), indexMax)\n",
    "print('index min = '.ljust(25), indexMin)\n",
    "print('indices where A>0.4 = '.ljust(25), conditionaIndices)"
   ]
  }
 ],
 "metadata": {
  "kernelspec": {
   "display_name": "Python 3",
   "language": "python",
   "name": "python3"
  },
  "language_info": {
   "codemirror_mode": {
    "name": "ipython",
    "version": 3
   },
   "file_extension": ".py",
   "mimetype": "text/x-python",
   "name": "python",
   "nbconvert_exporter": "python",
   "pygments_lexer": "ipython3",
   "version": "3.6.5"
  }
 },
 "nbformat": 4,
 "nbformat_minor": 2
}
