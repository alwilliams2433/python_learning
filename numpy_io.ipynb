{
 "cells": [
  {
   "cell_type": "code",
   "execution_count": 2,
   "metadata": {},
   "outputs": [],
   "source": [
    "import numpy\n",
    "import os"
   ]
  },
  {
   "cell_type": "code",
   "execution_count": 61,
   "metadata": {},
   "outputs": [
    {
     "name": "stdout",
     "output_type": "stream",
     "text": [
      "Original array:\n",
      " [0.8517455  0.47775108 0.23421006 0.54754967]\n",
      "\n",
      "Was the file \"testArray.npy\" created? 1\n",
      "\n",
      "Read array:\n",
      " [0.8517455  0.47775108 0.23421006 0.54754967]\n",
      "Is the read array equal to the original? 1\n"
     ]
    }
   ],
   "source": [
    "array = numpy.random.rand(4)\n",
    "print('Original array:\\n', array)\n",
    "fileName = 'testArray.npy'\n",
    "numpy.save(fileName, array)\n",
    "print('\\nWas the file \"{:s}\" created? {:b}'.format(fileName, fileName in os.listdir()))\n",
    "\n",
    "readArray = numpy.load(fileName)\n",
    "print('\\nRead array:\\n', readArray)\n",
    "print('Is the read array equal to the original? {:b}'.format(numpy.array_equal(array,readArray)))\n",
    "\n",
    "os.remove(fileName)"
   ]
  },
  {
   "cell_type": "code",
   "execution_count": 62,
   "metadata": {},
   "outputs": [
    {
     "name": "stdout",
     "output_type": "stream",
     "text": [
      "Original array:\n",
      " [[0.60205828 0.59687289 0.34468637]\n",
      " [0.38590846 0.4043072  0.52143485]\n",
      " [0.1610047  0.91887056 0.31783345]]\n",
      "\n",
      "Was the file \"testArray.txt\" created? 1\n",
      "\n",
      "File \"{:s}\" content: testArray.txt\n",
      "# array to test the numpy.savetxt function\n",
      "6.020582843893851344e-01, 5.968728927472392032e-01, 3.446863746617141455e-01\n",
      "3.859084634548499704e-01, 4.043072035391076513e-01, 5.214348465249616371e-01\n",
      "1.610047019833473758e-01, 9.188705626546617156e-01, 3.178334544800545114e-01\n",
      "# end of array\n",
      "\n",
      "Read array:\n",
      " [[0.60205828 0.59687289 0.34468637]\n",
      " [0.38590846 0.4043072  0.52143485]\n",
      " [0.1610047  0.91887056 0.31783345]]\n",
      "Is the read array equal to the original? 1\n"
     ]
    }
   ],
   "source": [
    "array = numpy.random.rand(3,3)\n",
    "print('Original array:\\n', array)\n",
    "fileName = 'testArray.txt'\n",
    "numpy.savetxt(fileName, array, delimiter=', ', newline='\\n',\n",
    "              header='array to test the numpy.savetxt function', footer='end of array')\n",
    "print('\\nWas the file \"{:s}\" created? {:b}'.format(fileName, fileName in os.listdir()))\n",
    "\n",
    "print('\\nFile \"{:s}\" content:', fileName)\n",
    "file = open(fileName)\n",
    "for line in file.readlines():\n",
    "    print(line, end='')\n",
    "file.close()\n",
    "\n",
    "readArray = numpy.loadtxt(fileName, delimiter=',')\n",
    "print('\\nRead array:\\n', readArray)\n",
    "print('Is the read array equal to the original? {:b}'.format(numpy.array_equal(array,readArray)))\n",
    "\n",
    "os.remove(fileName)"
   ]
  },
  {
   "cell_type": "code",
   "execution_count": 63,
   "metadata": {},
   "outputs": [
    {
     "name": "stdout",
     "output_type": "stream",
     "text": [
      "\n",
      " [[0.59373186 0.83299347]\n",
      " [0.15636601 0.87163301]]\n",
      "\n",
      " [[0.95064056 0.85441308]\n",
      " [0.1629191  0.47639987]]\n",
      "\n",
      "Read data:\n",
      " <numpy.lib.npyio.NpzFile object at 0x7f6401110eb8>\n",
      "\n",
      "Read data:\n",
      " ['array0', 'array1']\n",
      "\n",
      " [[0.59373186 0.83299347]\n",
      " [0.15636601 0.87163301]]\n",
      "\n",
      " [[0.95064056 0.85441308]\n",
      " [0.1629191  0.47639987]]\n"
     ]
    }
   ],
   "source": [
    "array0 = numpy.random.rand(2,2)\n",
    "array1 = numpy.random.rand(2,2)\n",
    "\n",
    "print('\\n', array0)\n",
    "print('\\n', array1)\n",
    "\n",
    "fileName = 'testArray.npz'\n",
    "numpy.savez(fileName, array0=array0, array1=array1)\n",
    "\n",
    "readArray = numpy.load(fileName)\n",
    "print('\\nRead data:\\n', readArray)\n",
    "print('\\nRead data:\\n', readArray.files)\n",
    "print('\\n', readArray['array0'])\n",
    "print('\\n', readArray['array1'])\n",
    "\n",
    "os.remove(fileName)"
   ]
  },
  {
   "cell_type": "code",
   "execution_count": null,
   "metadata": {},
   "outputs": [],
   "source": [
    "size = 100\n",
    "array0 = numpy.random.rand(size,size)\n",
    "array1 = numpy.random.rand(size,size)\n",
    "\n",
    "uncompressed = 'uncompressed_array.npz'\n",
    "compressed = 'compressed_array.npz'\n",
    "numpy.savez(uncompressed, array0=array0, array1=array1)\n",
    "numpy.savez_compressed(compressed, array0=array0, array1=array1)\n",
    "\n",
    "print('Uncompressed file size: {:d}'.format(os.stat(uncompressed).st_size))\n",
    "print('Uncompressed file size: {:d}'.format(os.stat(compressed).st_size))\n",
    "\n",
    "os.remove(uncompressed)\n",
    "os.remove(compressed)"
   ]
  }
 ],
 "metadata": {
  "kernelspec": {
   "display_name": "Python 3",
   "language": "python",
   "name": "python3"
  },
  "language_info": {
   "codemirror_mode": {
    "name": "ipython",
    "version": 3
   },
   "file_extension": ".py",
   "mimetype": "text/x-python",
   "name": "python",
   "nbconvert_exporter": "python",
   "pygments_lexer": "ipython3",
   "version": "3.6.5"
  }
 },
 "nbformat": 4,
 "nbformat_minor": 2
}
