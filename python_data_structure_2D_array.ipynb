{
 "cells": [
  {
   "cell_type": "code",
   "execution_count": 1,
   "metadata": {},
   "outputs": [
    {
     "name": "stdout",
     "output_type": "stream",
     "text": [
      "[[5.6, 'hello', {'name': 'Lucas', 'age': 22}], [-1.2, 7.5, 9]]\n"
     ]
    }
   ],
   "source": [
    "array2D = [\n",
    "    [5.6, \"hello\", {\"name\":\"Lucas\",\"age\":22}],\n",
    "    [-1.2, 7.5, 9],\n",
    "]\n",
    "print(array2D)"
   ]
  },
  {
   "cell_type": "code",
   "execution_count": 4,
   "metadata": {},
   "outputs": [
    {
     "name": "stdout",
     "output_type": "stream",
     "text": [
      "Lucas\n",
      "9\n"
     ]
    }
   ],
   "source": [
    "print(array2D[0][2][\"name\"])\n",
    "print(array2D[1][2])"
   ]
  }
 ],
 "metadata": {
  "kernelspec": {
   "display_name": "Python 3",
   "language": "python",
   "name": "python3"
  },
  "language_info": {
   "codemirror_mode": {
    "name": "ipython",
    "version": 3
   },
   "file_extension": ".py",
   "mimetype": "text/x-python",
   "name": "python",
   "nbconvert_exporter": "python",
   "pygments_lexer": "ipython3",
   "version": "3.6.5"
  }
 },
 "nbformat": 4,
 "nbformat_minor": 2
}
