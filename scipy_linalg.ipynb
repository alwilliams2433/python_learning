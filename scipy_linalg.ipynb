{
 "cells": [
  {
   "cell_type": "code",
   "execution_count": 188,
   "metadata": {},
   "outputs": [],
   "source": [
    "import numpy\n",
    "import scipy.linalg\n",
    "import time"
   ]
  },
  {
   "cell_type": "code",
   "execution_count": 7,
   "metadata": {},
   "outputs": [
    {
     "name": "stdout",
     "output_type": "stream",
     "text": [
      "[[ 3  0  0  0]\n",
      " [ 0  4  0  0]\n",
      " [ 0  0  8  0]\n",
      " [ 0  0  0 -1]] \n",
      "\n",
      "[[ 0.33333333  0.         -0.          0.        ]\n",
      " [ 0.          0.25       -0.          0.        ]\n",
      " [ 0.          0.          0.125       0.        ]\n",
      " [ 0.          0.          0.         -1.        ]]\n"
     ]
    }
   ],
   "source": [
    "matrix = numpy.diag([3, 4, 8, -1])\n",
    "print(matrix, '\\n')\n",
    "print(scipy.linalg.inv(matrix))"
   ]
  },
  {
   "cell_type": "code",
   "execution_count": 25,
   "metadata": {},
   "outputs": [
    {
     "name": "stdout",
     "output_type": "stream",
     "text": [
      "error = 1.299483e-15\n",
      "error = 1.260971e-15\n",
      "error = 6.260713e-15\n"
     ]
    }
   ],
   "source": [
    "size = 100\n",
    "matrix = 2*numpy.eye(size) + numpy.diag(-numpy.ones(size-1), 1) + numpy.diag(-numpy.ones(size-1), -1)\n",
    "independent = numpy.zeros((size,1)); independent[0] = 1; independent[-1] = 1\n",
    "solution = scipy.linalg.solve(matrix, independent)\n",
    "print('error = {:e}'.format(scipy.linalg.norm(matrix@solution-independent)))\n",
    "solution = scipy.linalg.solve(matrix, independent, assume_a='sym')\n",
    "print('error = {:e}'.format(scipy.linalg.norm(matrix@solution-independent)))\n",
    "solution = scipy.linalg.inv(matrix) @ independent\n",
    "print('error = {:e}'.format(scipy.linalg.norm(matrix@solution-independent)))"
   ]
  },
  {
   "cell_type": "code",
   "execution_count": 183,
   "metadata": {},
   "outputs": [
    {
     "name": "stdout",
     "output_type": "stream",
     "text": [
      "log(error) = 1.379474\n"
     ]
    }
   ],
   "source": [
    "size = 300\n",
    "matrix = numpy.random.rand(2*size,size)\n",
    "independent = numpy.random.rand(2*size,1)\n",
    "leastSquareSolution, error, _, _ = scipy.linalg.lstsq(matrix, independent)\n",
    "print('log(error) = {:f}'.format(numpy.log10(error[0])))"
   ]
  },
  {
   "cell_type": "code",
   "execution_count": 186,
   "metadata": {},
   "outputs": [
    {
     "name": "stdout",
     "output_type": "stream",
     "text": [
      "[ 4.+0.00000000e+00j -2.+1.10465796e-15j -2.-1.10465796e-15j] \n",
      "\n",
      "[[-0.57735027+0.j         -0.18732647+0.43309598j -0.18732647-0.43309598j]\n",
      " [ 0.57735027+0.j          0.79821513+0.j          0.79821513-0.j        ]\n",
      " [-0.57735027+0.j         -0.30544433-0.21654799j -0.30544433+0.21654799j]] \n",
      "\n",
      "[[-0.40824829+0.j          0.24400118-0.40702229j  0.24400118+0.40702229j]\n",
      " [-0.40824829+0.j         -0.41621909-0.40702229j -0.41621909+0.40702229j]\n",
      " [-0.81649658+0.j         -0.66022027+0.j         -0.66022027-0.j        ]] \n",
      "\n",
      "[ 4 -2 -2] \n",
      "\n",
      "[[ 0.5  1.  -1. ]\n",
      " [ 0.5  0.   1. ]\n",
      " [ 1.   1.   0. ]] \n",
      "\n"
     ]
    }
   ],
   "source": [
    "matrix = numpy.array([\n",
    "        [1, -3, 3],\n",
    "        [3, -5, 3],\n",
    "        [6, -6, 4]\n",
    "    ])\n",
    "correctEigenValues = numpy.array([4, -2, -2])\n",
    "correctEigenVectors = numpy.array([\n",
    "        [0.5, 1.0, -1.0],\n",
    "        [0.5, 0.0,  1.0],\n",
    "        [1.0, 1.0,  0.0]\n",
    "    ]) # eigen vectors at columns\n",
    "values, lVectors, rVectors = scipy.linalg.eig(matrix, left=True, right=True)\n",
    "print(values, '\\n')\n",
    "print(lVectors, '\\n')\n",
    "print(rVectors, '\\n')\n",
    "print(correctEigenValues, '\\n')\n",
    "print(correctEigenVectors, '\\n')"
   ]
  },
  {
   "cell_type": "code",
   "execution_count": 191,
   "metadata": {},
   "outputs": [
    {
     "name": "stdout",
     "output_type": "stream",
     "text": [
      "decomposition time:   72.770669\n",
      "\"solve\" elapsed time: 90.627357\n",
      "\"lu\" elapsed time:    0.471891\n"
     ]
    }
   ],
   "source": [
    "size = 10_000\n",
    "matrix = numpy.random.rand(size,size)\n",
    "independent=numpy.random.rand(size,1)\n",
    "\n",
    "start = time.time(); lu, piv = scipy.linalg.lu_factor(matrix); end = time.time()\n",
    "print('decomposition time:   {:f}'.format(end-start))\n",
    "\n",
    "start = time.time(); _ = scipy.linalg.solve(matrix, independent); end = time.time()\n",
    "print('\"solve\" elapsed time: {:f}'.format(end-start))\n",
    "\n",
    "start = time.time(); _ = scipy.linalg.lu_solve((lu,piv), independent); end = time.time()\n",
    "print('\"lu\" elapsed time:    {:f}'.format(end-start))"
   ]
  },
  {
   "cell_type": "code",
   "execution_count": null,
   "metadata": {},
   "outputs": [],
   "source": []
  }
 ],
 "metadata": {
  "kernelspec": {
   "display_name": "Python 3",
   "language": "python",
   "name": "python3"
  },
  "language_info": {
   "codemirror_mode": {
    "name": "ipython",
    "version": 3
   },
   "file_extension": ".py",
   "mimetype": "text/x-python",
   "name": "python",
   "nbconvert_exporter": "python",
   "pygments_lexer": "ipython3",
   "version": "3.6.5"
  }
 },
 "nbformat": 4,
 "nbformat_minor": 2
}
