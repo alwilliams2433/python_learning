{
 "cells": [
  {
   "cell_type": "code",
   "execution_count": 1,
   "metadata": {},
   "outputs": [],
   "source": [
    "import numpy"
   ]
  },
  {
   "cell_type": "code",
   "execution_count": 10,
   "metadata": {},
   "outputs": [
    {
     "name": "stdout",
     "output_type": "stream",
     "text": [
      "lucas Guesser\n",
      "Lucas guesser\n",
      "Lucas Guesser\n",
      "lucas Guesserlucas Guesser\n",
      "lucas Guesserlucas Guesserlucas Guesser\n",
      "LUCAS GUESSER\n",
      "lucas guesser\n",
      "LUCAS gUESSER\n",
      "True\n",
      "True\n"
     ]
    }
   ],
   "source": [
    "name = \"lucas Guesser\"\n",
    "print(name)\n",
    "print(name.capitalize())\n",
    "print(name.title())\n",
    "print(name + name)\n",
    "print(name*3)\n",
    "print(name.upper())\n",
    "print(name.upper().lower())\n",
    "print(name.swapcase())"
   ]
  },
  {
   "cell_type": "code",
   "execution_count": 11,
   "metadata": {},
   "outputs": [
    {
     "name": "stdout",
     "output_type": "stream",
     "text": [
      "True\n",
      "True\n"
     ]
    }
   ],
   "source": [
    "name = \"lucas Guesser\"\n",
    "print('l' in name)\n",
    "print('z' not in name)"
   ]
  },
  {
   "cell_type": "code",
   "execution_count": 14,
   "metadata": {},
   "outputs": [
    {
     "name": "stdout",
     "output_type": "stream",
     "text": [
      "Lucas Guesser\n",
      "       Lucas Guesser\n",
      "*******Lucas Guesser\n",
      "Lucas Guesser       \n",
      "Lucas Guesser*******\n",
      "   Lucas Guesser    \n",
      "***Lucas Guesser****\n"
     ]
    }
   ],
   "source": [
    "name = 'Lucas Guesser'\n",
    "print(name)\n",
    "print(name.rjust(20))\n",
    "print(name.rjust(20,'*'))\n",
    "print(name.ljust(20))\n",
    "print(name.ljust(20,'*'))\n",
    "print(name.center(20))\n",
    "print(name.center(20,'*'))"
   ]
  },
  {
   "cell_type": "code",
   "execution_count": 21,
   "metadata": {},
   "outputs": [
    {
     "name": "stdout",
     "output_type": "stream",
     "text": [
      "\n",
      "It is a paragraph.\n",
      "And it is a new line.\n",
      "20\n",
      "-1\n",
      "4\n",
      "27\n"
     ]
    }
   ],
   "source": [
    "paragraph = '''\n",
    "It is a paragraph.\n",
    "And it is a new line.'''\n",
    "print(paragraph)\n",
    "print(paragraph.find('And'))\n",
    "print(paragraph.find('None'))\n",
    "print(paragraph.find('is'))\n",
    "print(paragraph.rfind('is'))"
   ]
  },
  {
   "cell_type": "code",
   "execution_count": 29,
   "metadata": {},
   "outputs": [
    {
     "name": "stdout",
     "output_type": "stream",
     "text": [
      "\n",
      "It is a paragraph.\n",
      "And it is a new line.\n",
      "\n",
      "It is a phrase.\n",
      "And it is a new line.\n",
      "['It', 'is', 'a', 'paragraph.', 'And', 'it', 'is', 'a', 'new', 'line.']\n",
      "['\\nIt is a paragraph', '\\nAnd it is a new line', '']\n",
      "['', 'It is a paragraph.', 'And it is a new line.']\n",
      "****It is a paragraph.****And it is a new line.\n"
     ]
    }
   ],
   "source": [
    "paragraph = '''\n",
    "It is a paragraph.\n",
    "And it is a new line.'''\n",
    "print(paragraph)\n",
    "print(paragraph.replace('paragraph','phrase'))\n",
    "print(paragraph.split())\n",
    "print(paragraph.split('.'))\n",
    "print(paragraph.splitlines())\n",
    "print('****'.join(paragraph.splitlines()))"
   ]
  },
  {
   "cell_type": "code",
   "execution_count": 31,
   "metadata": {},
   "outputs": [
    {
     "name": "stdout",
     "output_type": "stream",
     "text": [
      "***Lucas Guesser****\n",
      "Lucas Guesser****\n",
      "***Lucas Guesser\n",
      "Lucas Guesser\n"
     ]
    }
   ],
   "source": [
    "name = 'Lucas Guesser'.center(20,'*')\n",
    "print(name)\n",
    "print(name.lstrip('*'))\n",
    "print(name.rstrip('*'))\n",
    "print(name.rstrip('*').lstrip('*'))"
   ]
  }
 ],
 "metadata": {
  "kernelspec": {
   "display_name": "Python 3",
   "language": "python",
   "name": "python3"
  },
  "language_info": {
   "codemirror_mode": {
    "name": "ipython",
    "version": 3
   },
   "file_extension": ".py",
   "mimetype": "text/x-python",
   "name": "python",
   "nbconvert_exporter": "python",
   "pygments_lexer": "ipython3",
   "version": "3.6.5"
  }
 },
 "nbformat": 4,
 "nbformat_minor": 2
}
