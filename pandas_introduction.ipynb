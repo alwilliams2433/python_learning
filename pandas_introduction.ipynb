{
 "cells": [
  {
   "cell_type": "code",
   "execution_count": 1,
   "metadata": {
    "collapsed": true
   },
   "outputs": [],
   "source": [
    "import numpy as np\n",
    "import pandas as pd\n",
    "import matplotlib.pyplot as plt"
   ]
  },
  {
   "cell_type": "code",
   "execution_count": 2,
   "metadata": {},
   "outputs": [
    {
     "name": "stdout",
     "output_type": "stream",
     "text": [
      "      col0  col1\n",
      "row0     0     1\n",
      "row1     2     3\n"
     ]
    }
   ],
   "source": [
    "data = np.array([\n",
    "    [0, 1],\n",
    "    [2, 3]\n",
    "])\n",
    "index = np.array([ 'row0', 'row1' ])\n",
    "cols = np.array([ 'col0', 'col1' ])\n",
    "\n",
    "df = pd.DataFrame(data, index, cols)\n",
    "\n",
    "print(df)"
   ]
  },
  {
   "cell_type": "code",
   "execution_count": 7,
   "metadata": {},
   "outputs": [
    {
     "name": "stdout",
     "output_type": "stream",
     "text": [
      "          col 0     col 1\n",
      "row 0 -0.439505  0.890773\n",
      "row 1  0.679884  0.114146\n",
      "row 2 -0.148361 -0.754893\n",
      "row 3  0.859795 -0.906009\n",
      "row 4 -0.606843  0.239532\n",
      "row 5 -0.281878  0.253606\n",
      "row 6 -0.811835 -0.188775\n",
      "row 7  0.591666  0.473570\n",
      "row 8  0.624614  0.329989\n",
      "row 9 -0.595101  0.996732\n"
     ]
    },
    {
     "data": {
      "text/plain": [
       "col 0   -0.127563\n",
       "col 1    1.448671\n",
       "dtype: float64"
      ]
     },
     "execution_count": 7,
     "metadata": {},
     "output_type": "execute_result"
    }
   ],
   "source": [
    "nRows = 10\n",
    "nCols = 2\n",
    "\n",
    "data = np.random.uniform(high=+1, low=-1, size=(nRows,nCols))\n",
    "index = ['row {}'.format(i) for i in range(nRows)]\n",
    "cols = ['col {}'.format(i) for i in range(nCols)]\n",
    "\n",
    "\n",
    "df = pd.DataFrame(data, index, cols)\n",
    "\n",
    "print(df)\n",
    "df.sum()"
   ]
  },
  {
   "cell_type": "code",
   "execution_count": 4,
   "metadata": {},
   "outputs": [
    {
     "name": "stdout",
     "output_type": "stream",
     "text": [
      "Index(['row 0', 'row 1', 'row 2', 'row 3', 'row 4', 'row 5', 'row 6', 'row 7',\n",
      "       'row 8', 'row 9'],\n",
      "      dtype='object')\n",
      "(10, 2)\n",
      "10\n",
      "['col 0' 'col 1']\n",
      "['row 0' 'row 1' 'row 2' 'row 3' 'row 4' 'row 5' 'row 6' 'row 7' 'row 8'\n",
      " 'row 9']\n"
     ]
    }
   ],
   "source": [
    "print(df.index)\n",
    "print(df.shape)\n",
    "print(len(df))\n",
    "print(df.columns.values)\n",
    "print(df.index.values)"
   ]
  },
  {
   "cell_type": "code",
   "execution_count": 5,
   "metadata": {},
   "outputs": [
    {
     "name": "stdout",
     "output_type": "stream",
     "text": [
      "row 0    0.596053\n",
      "row 1    0.459365\n",
      "row 2   -0.023713\n",
      "row 3    0.618669\n",
      "row 4    0.054474\n",
      "row 5   -0.757390\n",
      "row 6   -0.860623\n",
      "row 7    0.231480\n",
      "row 8   -0.307235\n",
      "row 9    0.080499\n",
      "Name: col 0, dtype: float64\n",
      "(10,)\n"
     ]
    }
   ],
   "source": [
    "print(df['col 0'])\n",
    "print(df['col 0'].shape)"
   ]
  },
  {
   "cell_type": "code",
   "execution_count": 8,
   "metadata": {},
   "outputs": [
    {
     "name": "stdout",
     "output_type": "stream",
     "text": [
      "col 0   -0.439505\n",
      "col 1    0.890773\n",
      "Name: row 0, dtype: float64\n",
      "row 0   -0.439505\n",
      "row 1    0.679884\n",
      "row 2   -0.148361\n",
      "row 3    0.859795\n",
      "Name: col 0, dtype: float64\n"
     ]
    }
   ],
   "source": [
    "print(df.loc['row 0'])\n",
    "print(df.loc['row 0':'row 3', 'col 0'])"
   ]
  },
  {
   "cell_type": "code",
   "execution_count": 10,
   "metadata": {},
   "outputs": [
    {
     "data": {
      "text/plain": [
       "array([[0.63088866, 0.0218168 , 0.69725904, 0.38900759, 0.14850318],\n",
       "       [0.03586656, 0.29868717, 0.22221561, 0.69519645, 0.15363484],\n",
       "       [0.81946181, 0.411535  , 0.39123217, 0.80496739, 0.20025032]])"
      ]
     },
     "execution_count": 10,
     "metadata": {},
     "output_type": "execute_result"
    }
   ],
   "source": [
    "a = np.random.rand(3,5)\n",
    "a"
   ]
  },
  {
   "cell_type": "code",
   "execution_count": 11,
   "metadata": {},
   "outputs": [
    {
     "data": {
      "text/plain": [
       "array([1.88747526, 1.40560062, 2.62744669])"
      ]
     },
     "execution_count": 11,
     "metadata": {},
     "output_type": "execute_result"
    }
   ],
   "source": [
    "np.sum(a, axis=1)"
   ]
  }
 ],
 "metadata": {
  "kernelspec": {
   "display_name": "Python 3",
   "language": "python",
   "name": "python3"
  },
  "language_info": {
   "codemirror_mode": {
    "name": "ipython",
    "version": 3
   },
   "file_extension": ".py",
   "mimetype": "text/x-python",
   "name": "python",
   "nbconvert_exporter": "python",
   "pygments_lexer": "ipython3",
   "version": "3.6.6"
  }
 },
 "nbformat": 4,
 "nbformat_minor": 2
}
