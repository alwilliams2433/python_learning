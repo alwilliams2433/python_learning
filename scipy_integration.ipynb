{
 "cells": [
  {
   "cell_type": "code",
   "execution_count": 53,
   "metadata": {},
   "outputs": [],
   "source": [
    "import numpy\n",
    "import scipy.integrate\n",
    "import sympy\n",
    "pi = numpy.pi\n",
    "sin = numpy.sin\n",
    "cos = numpy.cos\n",
    "exp = numpy.exp"
   ]
  },
  {
   "cell_type": "code",
   "execution_count": 54,
   "metadata": {},
   "outputs": [
    {
     "name": "stdout",
     "output_type": "stream",
     "text": [
      "Analytical      =  2.0\n",
      "Numerical       =  2.0\n",
      "Estimated error =  2.220446049250313e-14\n",
      "Error           =  0.0\n"
     ]
    }
   ],
   "source": [
    "f = lambda x: sin(x)\n",
    "F = lambda x: - cos(x)\n",
    "xo = 0\n",
    "xf = pi\n",
    "numerical, error = scipy.integrate.quad(f, xo, xf)\n",
    "analytical = F(xf) - F(xo)\n",
    "print('Analytical      = ', analytical)\n",
    "print('Numerical       = ', numerical)\n",
    "print('Estimated error = ', error)\n",
    "print('Error           = ', numpy.fabs(numerical - analytical))"
   ]
  },
  {
   "cell_type": "code",
   "execution_count": 55,
   "metadata": {},
   "outputs": [
    {
     "name": "stdout",
     "output_type": "stream",
     "text": [
      "Original funtion:     sin(2*x)*cos(3*x)\n",
      "Function integrated:  3*sin(2*x)*sin(3*x)/5 + 2*cos(2*x)*cos(3*x)/5\n"
     ]
    }
   ],
   "source": [
    "x = sympy.symbols('x')\n",
    "f = sympy.sin(2*x) * sympy.cos(3*x)\n",
    "F = sympy.integrate(f, x)\n",
    "print('Original funtion:    ', f)\n",
    "print('Function integrated: ', F)"
   ]
  },
  {
   "cell_type": "code",
   "execution_count": 56,
   "metadata": {},
   "outputs": [
    {
     "name": "stdout",
     "output_type": "stream",
     "text": [
      "Analytical      =  -0.8\n",
      "Numerical       =  -0.7999999999999998\n",
      "Estimated error =  1.4212378527474114e-14\n",
      "Error           =  2.220446049250313e-16\n"
     ]
    }
   ],
   "source": [
    "f = lambda x: sin(2*x)*cos(3*x)\n",
    "F = lambda x: 3*sin(2*x)*sin(3*x)/5 + 2*cos(2*x)*cos(3*x)/5\n",
    "xo = 0\n",
    "xf = pi\n",
    "numerical, error = scipy.integrate.quad(f, xo, xf)\n",
    "analytical = F(xf) - F(xo)\n",
    "print('Analytical      = ', analytical)\n",
    "print('Numerical       = ', numerical)\n",
    "print('Estimated error = ', error)\n",
    "print('Error           = ', numpy.fabs(numerical - analytical))"
   ]
  },
  {
   "cell_type": "code",
   "execution_count": 57,
   "metadata": {},
   "outputs": [
    {
     "name": "stdout",
     "output_type": "stream",
     "text": [
      "Original funtion:     x*exp(-2*x)*sin(3*x)**2\n",
      "Function integrated:  -11*x*exp(-2*x)*sin(3*x)**2/40 - 3*x*exp(-2*x)*sin(3*x)*cos(3*x)/20 - 9*x*exp(-2*x)*cos(3*x)**2/40 - 23*exp(-2*x)*sin(3*x)**2/200 - 3*exp(-2*x)*sin(3*x)*cos(3*x)/200 - 27*exp(-2*x)*cos(3*x)**2/200\n"
     ]
    }
   ],
   "source": [
    "x = sympy.symbols('x')\n",
    "f = x * sympy.exp(-2*x) * (sympy.sin(3*x))**2\n",
    "F = sympy.integrate(f, x)\n",
    "print('Original funtion:    ', f)\n",
    "print('Function integrated: ', F)"
   ]
  },
  {
   "cell_type": "code",
   "execution_count": 58,
   "metadata": {},
   "outputs": [
    {
     "name": "stdout",
     "output_type": "stream",
     "text": [
      "Analytical      =  0.13342787774865938\n",
      "Numerical       =  0.13342787774865938\n",
      "Estimated error =  8.668515852908653e-13\n",
      "Error           =  0.0\n"
     ]
    }
   ],
   "source": [
    "f = lambda x: x*exp(-2*x)*sin(3*x)**2\n",
    "F = lambda x: -11*x*exp(-2*x)*sin(3*x)**2/40 - 3*x*exp(-2*x)*sin(3*x)*cos(3*x)/20 - 9*x*exp(-2*x)*cos(3*x)**2/40 - 23*exp(-2*x)*sin(3*x)**2/200 - 3*exp(-2*x)*sin(3*x)*cos(3*x)/200 - 27*exp(-2*x)*cos(3*x)**2/200\n",
    "xo = 0\n",
    "xf = pi\n",
    "numerical, error = scipy.integrate.quad(f, xo, xf)\n",
    "analytical = F(xf) - F(xo)\n",
    "print('Analytical      = ', analytical)\n",
    "print('Numerical       = ', numerical)\n",
    "print('Estimated error = ', error)\n",
    "print('Error           = ', numpy.fabs(numerical - analytical))"
   ]
  },
  {
   "cell_type": "code",
   "execution_count": 59,
   "metadata": {},
   "outputs": [
    {
     "name": "stdout",
     "output_type": "stream",
     "text": [
      "Romberg rule, analytical expression\n",
      "\n",
      "Analytical      =  0.13342787774865938\n",
      "Numerical       =  0.13342787774865744\n",
      "Error           =  1.942890293094024e-15\n"
     ]
    }
   ],
   "source": [
    "f = lambda x: x*exp(-2*x)*sin(3*x)**2\n",
    "F = lambda x: -11*x*exp(-2*x)*sin(3*x)**2/40 - 3*x*exp(-2*x)*sin(3*x)*cos(3*x)/20 - 9*x*exp(-2*x)*cos(3*x)**2/40 - 23*exp(-2*x)*sin(3*x)**2/200 - 3*exp(-2*x)*sin(3*x)*cos(3*x)/200 - 27*exp(-2*x)*cos(3*x)**2/200\n",
    "xo = 0\n",
    "xf = pi\n",
    "numerical = scipy.integrate.romberg(f, xo, xf)\n",
    "analytical = F(xf) - F(xo)\n",
    "print('Romberg rule, analytical expression\\n')\n",
    "print('Analytical      = ', analytical)\n",
    "print('Numerical       = ', numerical)\n",
    "print('Error           = ', numpy.fabs(numerical - analytical))"
   ]
  },
  {
   "cell_type": "code",
   "execution_count": 60,
   "metadata": {},
   "outputs": [
    {
     "name": "stdout",
     "output_type": "stream",
     "text": [
      "Trapezoidal rule\n",
      "\n",
      "Number of points =  5\n",
      "Analytical       =  2.0\n",
      "Numerical        =  1.8961188979370398\n",
      "log(Error)       =  -2.2645082832434773\n",
      "\n",
      "\n",
      "Number of points =  10\n",
      "Analytical       =  2.0\n",
      "Numerical        =  1.9796508112164835\n",
      "log(Error)       =  -3.894714231105952\n",
      "\n",
      "\n",
      "Number of points =  15\n",
      "Analytical       =  2.0\n",
      "Numerical        =  1.9916004273550747\n",
      "log(Error)       =  -4.779574450031207\n",
      "\n",
      "\n",
      "Number of points =  20\n",
      "Analytical       =  2.0\n",
      "Numerical        =  1.9954413183201947\n",
      "log(Error)       =  -5.390721802560686\n",
      "\n",
      "\n",
      "Number of points =  25\n",
      "Analytical       =  2.0\n",
      "Numerical        =  1.9971433958039488\n",
      "log(Error)       =  -5.858121703639829\n",
      "\n",
      "\n"
     ]
    }
   ],
   "source": [
    "f = lambda x: sin(x)\n",
    "F = lambda x: - cos(x)\n",
    "xo = 0\n",
    "xf = pi\n",
    "print('Trapezoidal rule\\n')\n",
    "for nPoints in numpy.arange(5,30,5):\n",
    "    x = numpy.linspace(xo,xf,nPoints)\n",
    "    y = f(x)\n",
    "    numerical = scipy.integrate.trapz(y, x)\n",
    "    analytical = F(xf) - F(xo)\n",
    "    print('Number of points = ', nPoints)\n",
    "    print('Analytical       = ', analytical)\n",
    "    print('Numerical        = ', numerical)\n",
    "    print('log(Error)       = ', numpy.log(numpy.fabs(numerical - analytical)))\n",
    "    print('\\n')"
   ]
  },
  {
   "cell_type": "code",
   "execution_count": 61,
   "metadata": {},
   "outputs": [
    {
     "name": "stdout",
     "output_type": "stream",
     "text": [
      "Simpson rule\n",
      "\n",
      "Number of points =  5\n",
      "Analytical       =  2.0\n",
      "Numerical        =  2.0045597549844207\n",
      "log(Error)       =  -5.390486388386111\n",
      "\n",
      "\n",
      "Number of points =  10\n",
      "Analytical       =  2.0\n",
      "Numerical        =  1.9995487365804032\n",
      "log(Error)       =  -7.703459310040741\n",
      "\n",
      "\n",
      "Number of points =  15\n",
      "Analytical       =  2.0\n",
      "Numerical        =  2.000028343551469\n",
      "log(Error)       =  -10.471111015075852\n",
      "\n",
      "\n",
      "Number of points =  20\n",
      "Analytical       =  2.0\n",
      "Numerical        =  1.999977188106568\n",
      "log(Error)       =  -10.688228516256972\n",
      "\n",
      "\n",
      "Number of points =  25\n",
      "Analytical       =  2.0\n",
      "Numerical        =  2.0000032688771596\n",
      "log(Error)       =  -12.631064008284188\n",
      "\n",
      "\n"
     ]
    }
   ],
   "source": [
    "f = lambda x: sin(x)\n",
    "F = lambda x: - cos(x)\n",
    "xo = 0\n",
    "xf = pi\n",
    "print('Simpson rule\\n')\n",
    "for nPoints in numpy.arange(5,30,5):\n",
    "    x = numpy.linspace(xo,xf,nPoints)\n",
    "    y = f(x)\n",
    "    numerical = scipy.integrate.simps(y, x)\n",
    "    analytical = F(xf) - F(xo)\n",
    "    print('Number of points = ', nPoints)\n",
    "    print('Analytical       = ', analytical)\n",
    "    print('Numerical        = ', numerical)\n",
    "    print('log(Error)       = ', numpy.log(numpy.fabs(numerical - analytical)))\n",
    "    print('\\n')"
   ]
  },
  {
   "cell_type": "code",
   "execution_count": 62,
   "metadata": {},
   "outputs": [
    {
     "name": "stdout",
     "output_type": "stream",
     "text": [
      "Romberg rule, numerical sample of values\n",
      "\n",
      "Number of points =  5\n",
      "Analytical       =  2.0\n",
      "Numerical        =  1.9985707318238357\n",
      "log(Error)       =  -6.55059273062676\n",
      "\n",
      "\n",
      "Number of points =  9\n",
      "Analytical       =  2.0\n",
      "Numerical        =  2.000005549979671\n",
      "log(Error)       =  -12.101716293104701\n",
      "\n",
      "\n",
      "Number of points =  17\n",
      "Analytical       =  2.0\n",
      "Numerical        =  1.9999999945872902\n",
      "log(Error)       =  -19.034515975612766\n",
      "\n",
      "\n",
      "Number of points =  33\n",
      "Analytical       =  2.0\n",
      "Numerical        =  2.0000000000013216\n",
      "log(Error)       =  -27.35217081260423\n",
      "\n",
      "\n"
     ]
    }
   ],
   "source": [
    "f = lambda x: sin(x)\n",
    "F = lambda x: - cos(x)\n",
    "xo = 0\n",
    "xf = pi\n",
    "print('Romberg rule, numerical sample of values\\n')\n",
    "for nPoints in (2**numpy.arange(2,6,1) + 1):\n",
    "    x, dx = numpy.linspace(xo,xf,nPoints, retstep=True)\n",
    "    y = f(x)\n",
    "    numerical = scipy.integrate.romb(y, dx)\n",
    "    analytical = F(xf) - F(xo)\n",
    "    print('Number of points = ', nPoints)\n",
    "    print('Analytical       = ', analytical)\n",
    "    print('Numerical        = ', numerical)\n",
    "    print('log(Error)       = ', numpy.log(numpy.fabs(numerical - analytical)))\n",
    "    print('\\n')"
   ]
  },
  {
   "cell_type": "code",
   "execution_count": null,
   "metadata": {},
   "outputs": [],
   "source": []
  }
 ],
 "metadata": {
  "kernelspec": {
   "display_name": "Python 3",
   "language": "python",
   "name": "python3"
  },
  "language_info": {
   "codemirror_mode": {
    "name": "ipython",
    "version": 3
   },
   "file_extension": ".py",
   "mimetype": "text/x-python",
   "name": "python",
   "nbconvert_exporter": "python",
   "pygments_lexer": "ipython3",
   "version": "3.6.5"
  }
 },
 "nbformat": 4,
 "nbformat_minor": 2
}
