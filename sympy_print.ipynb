{
 "cells": [
  {
   "cell_type": "markdown",
   "metadata": {},
   "source": [
    "# Main goal\n",
    "\n",
    "Understand how SymPy print the results and learn how to use and read in more than one format.\n",
    "\n",
    "To learn, it will be used the expression\n",
    "\n",
    "`sin(2*x**3).exp(-x)`\n",
    "\n",
    "$ sin(2 x^3) \\cdot exp(-x) $"
   ]
  },
  {
   "cell_type": "code",
   "execution_count": 42,
   "metadata": {},
   "outputs": [
    {
     "name": "stdout",
     "output_type": "stream",
     "text": [
      "exp(-x)*sin(2*x**3)\n"
     ]
    }
   ],
   "source": [
    "import sympy\n",
    "x = sympy.symbols('x')\n",
    "expression = sympy.sin(2*x**3) * sympy.exp(-x)\n",
    "print(expression)"
   ]
  },
  {
   "cell_type": "markdown",
   "metadata": {},
   "source": [
    "According to SymPy tutorial: \"If all you want is the best pretty printing, use the `init_printing()` function\". It will prioritize, in order: latex, matplotlib, unicode, ascii."
   ]
  },
  {
   "cell_type": "code",
   "execution_count": 48,
   "metadata": {},
   "outputs": [
    {
     "data": {
      "image/png": "[encoded data removed]",
      "text/latex": [
       "$$e^{- x} \\sin{\\left (2 x^{3} \\right )}$$"
      ],
      "text/plain": [
       " -x    ⎛   3⎞\n",
       "ℯ  ⋅sin⎝2⋅x ⎠"
      ]
     },
     "execution_count": 48,
     "metadata": {},
     "output_type": "execute_result"
    }
   ],
   "source": [
    "sympy.init_printing()\n",
    "expression"
   ]
  },
  {
   "cell_type": "markdown",
   "metadata": {},
   "source": [
    "There are more options avaliable:"
   ]
  },
  {
   "cell_type": "code",
   "execution_count": 49,
   "metadata": {},
   "outputs": [
    {
     "name": "stdout",
     "output_type": "stream",
     "text": [
      "str:\n",
      " exp(-x)*sin(2*x**3)\n",
      "\n",
      "print:\n",
      " exp(-x)*sin(2*x**3)\n",
      "\n",
      "sympy.srepr:\n",
      "Mul(exp(Mul(Integer(-1), Symbol('x'))), sin(Mul(Integer(2), Pow(Symbol('x'), Integer(3)))))\n",
      "\n",
      "sympy.pprint:\n",
      " -x    ⎛   3⎞\n",
      "ℯ  ⋅sin⎝2⋅x ⎠\n",
      "\n",
      "sympy.pretty:\n",
      " -x    ⎛   3⎞\n",
      "ℯ  ⋅sin⎝2⋅x ⎠\n",
      "\n",
      "sympy.latex:\n",
      "e^{- x} \\sin{\\left (2 x^{3} \\right )}\n",
      "\n",
      "sympy.mathml:\n",
      "<apply><divide/><apply><sin/><apply><times/><cn>2</cn><apply><power/><ci>x</ci><cn>3</cn></apply></apply></apply><apply><exp/><ci>x</ci></apply></apply>\n",
      "\n"
     ]
    }
   ],
   "source": [
    "print('str:\\n', str(expression)); print()\n",
    "print('print:\\n', expression); print()\n",
    "print('sympy.srepr:'); print(sympy.srepr(expression)); print()\n",
    "print('sympy.pprint:'); sympy.pprint(expression); print()\n",
    "print('sympy.pretty:'); print(sympy.pretty(expression)); print()\n",
    "print('sympy.latex:'); print(sympy.latex(expression)); print()\n",
    "print('sympy.mathml:'); print(sympy.mathml(expression)); print()"
   ]
  }
 ],
 "metadata": {
  "kernelspec": {
   "display_name": "Python 3",
   "language": "python",
   "name": "python3"
  },
  "language_info": {
   "codemirror_mode": {
    "name": "ipython",
    "version": 3
   },
   "file_extension": ".py",
   "mimetype": "text/x-python",
   "name": "python",
   "nbconvert_exporter": "python",
   "pygments_lexer": "ipython3",
   "version": "3.6.5"
  }
 },
 "nbformat": 4,
 "nbformat_minor": 2
}
