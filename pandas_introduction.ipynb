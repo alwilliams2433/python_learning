{
 "cells": [
  {
   "cell_type": "code",
   "execution_count": 5,
   "metadata": {
    "collapsed": true
   },
   "outputs": [],
   "source": [
    "import numpy as np\n",
    "import pandas as pd\n",
    "import matplotlib.pyplot as plt"
   ]
  },
  {
   "cell_type": "code",
   "execution_count": 8,
   "metadata": {},
   "outputs": [
    {
     "name": "stdout",
     "output_type": "stream",
     "text": [
      "      col0  col1\n",
      "row0     0     1\n",
      "row1     2     3\n"
     ]
    }
   ],
   "source": [
    "data = np.array([\n",
    "    [0, 1],\n",
    "    [2, 3]\n",
    "])\n",
    "index = np.array([ 'row0', 'row1' ])\n",
    "cols = np.array([ 'col0', 'col1' ])\n",
    "\n",
    "df = pd.DataFrame(data, index, cols)\n",
    "\n",
    "print(df)"
   ]
  },
  {
   "cell_type": "code",
   "execution_count": 9,
   "metadata": {},
   "outputs": [
    {
     "name": "stdout",
     "output_type": "stream",
     "text": [
      "          col 0     col 1\n",
      "row 0 -0.091057 -0.291930\n",
      "row 1  0.368660 -0.819593\n",
      "row 2  0.717226  0.005530\n",
      "row 3 -0.596685 -0.672390\n",
      "row 4  0.099367 -0.772750\n",
      "row 5  0.657254  0.012812\n",
      "row 6 -0.581482  0.660675\n",
      "row 7  0.262404 -0.079901\n",
      "row 8  0.412667 -0.575360\n",
      "row 9 -0.905959 -0.390408\n"
     ]
    }
   ],
   "source": [
    "nRows = 10\n",
    "nCols = 2\n",
    "\n",
    "data = np.random.uniform(high=+1, low=-1, size=(nRows,nCols))\n",
    "index = ['row {}'.format(i) for i in range(nRows)]\n",
    "cols = ['col {}'.format(i) for i in range(nCols)]\n",
    "\n",
    "\n",
    "df = pd.DataFrame(data, index, cols)\n",
    "\n",
    "print(df)"
   ]
  },
  {
   "cell_type": "code",
   "execution_count": 15,
   "metadata": {},
   "outputs": [
    {
     "name": "stdout",
     "output_type": "stream",
     "text": [
      "Index(['row 0', 'row 1', 'row 2', 'row 3', 'row 4', 'row 5', 'row 6', 'row 7',\n",
      "       'row 8', 'row 9'],\n",
      "      dtype='object')\n",
      "(10, 2)\n",
      "10\n",
      "['col 0' 'col 1']\n",
      "['row 0' 'row 1' 'row 2' 'row 3' 'row 4' 'row 5' 'row 6' 'row 7' 'row 8'\n",
      " 'row 9']\n"
     ]
    }
   ],
   "source": [
    "print(df.index)\n",
    "print(df.shape)\n",
    "print(len(df))\n",
    "print(df.columns.values)\n",
    "print(df.index.values)"
   ]
  },
  {
   "cell_type": "code",
   "execution_count": 24,
   "metadata": {},
   "outputs": [
    {
     "name": "stdout",
     "output_type": "stream",
     "text": [
      "row 0   -0.091057\n",
      "row 1    0.368660\n",
      "row 2    0.717226\n",
      "row 3   -0.596685\n",
      "row 4    0.099367\n",
      "row 5    0.657254\n",
      "row 6   -0.581482\n",
      "row 7    0.262404\n",
      "row 8    0.412667\n",
      "row 9   -0.905959\n",
      "Name: col 0, dtype: float64\n",
      "(10,)\n"
     ]
    }
   ],
   "source": [
    "print(df['col 0'])\n",
    "print(df['col 0'].shape)"
   ]
  },
  {
   "cell_type": "code",
   "execution_count": 30,
   "metadata": {},
   "outputs": [
    {
     "name": "stdout",
     "output_type": "stream",
     "text": [
      "col 0   -0.091057\n",
      "col 1   -0.291930\n",
      "Name: row 0, dtype: float64\n",
      "row 0   -0.091057\n",
      "row 1    0.368660\n",
      "row 2    0.717226\n",
      "row 3   -0.596685\n",
      "Name: col 0, dtype: float64\n"
     ]
    }
   ],
   "source": [
    "print(df.loc['row 0'])\n",
    "print(df.loc['row 0':'row 3', 'col 0'])"
   ]
  }
 ],
 "metadata": {
  "kernelspec": {
   "display_name": "Python 3",
   "language": "python",
   "name": "python3"
  },
  "language_info": {
   "codemirror_mode": {
    "name": "ipython",
    "version": 3
   },
   "file_extension": ".py",
   "mimetype": "text/x-python",
   "name": "python",
   "nbconvert_exporter": "python",
   "pygments_lexer": "ipython3",
   "version": "3.6.3"
  }
 },
 "nbformat": 4,
 "nbformat_minor": 2
}
