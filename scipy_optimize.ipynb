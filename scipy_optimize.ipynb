{
 "cells": [
  {
   "cell_type": "code",
   "execution_count": 56,
   "metadata": {},
   "outputs": [],
   "source": [
    "import numpy\n",
    "import scipy.optimize\n",
    "import matplotlib.pyplot as plt"
   ]
  },
  {
   "cell_type": "code",
   "execution_count": 7,
   "metadata": {},
   "outputs": [
    {
     "name": "stdout",
     "output_type": "stream",
     "text": [
      "Minimum = -1.888464e-08\n",
      "Minimum = 0.000000e+00\n",
      "Minimum = 1.888464e-08\n"
     ]
    }
   ],
   "source": [
    "def square(x, a, b, c):\n",
    "    return a*x[0]*x[0] + b*x[0] + c\n",
    "\n",
    "def analyticalMinimum(a, b, c):\n",
    "    return -b/(2*a)\n",
    "\n",
    "a, b, c = 1, 0, 0\n",
    "xo = numpy.array([2])\n",
    "minimum = scipy.optimize.minimize(square, xo, args=(a,b,c))\n",
    "error = numpy.abs(minimum.x[0] - analyticalMinimum(a,b,c))\n",
    "print('Minimum = {:e}'.format(minimum.x[0]))\n",
    "print('Minimum = {:e}'.format(analyticalMinimum(a,b,c)))\n",
    "print('Minimum = {:e}'.format(error))"
   ]
  },
  {
   "cell_type": "code",
   "execution_count": 10,
   "metadata": {},
   "outputs": [
    {
     "name": "stdout",
     "output_type": "stream",
     "text": [
      "Minimum = 8.333333e-01\n",
      "Minimum = 8.333333e-01\n",
      "Minimum = 1.101604e-08\n"
     ]
    }
   ],
   "source": [
    "def square(x, a, b, c):\n",
    "    return a*x[0]*x[0] + b*x[0] + c\n",
    "\n",
    "def analyticalMinimum(a, b, c):\n",
    "    return -b/(2*a)\n",
    "\n",
    "a, b, c = 3, -5, -4\n",
    "xo = numpy.array([2])\n",
    "minimum = scipy.optimize.minimize(square, xo, args=(a,b,c))\n",
    "error = numpy.abs(minimum.x[0] - analyticalMinimum(a,b,c))\n",
    "print('Minimum = {:e}'.format(minimum.x[0]))\n",
    "print('Minimum = {:e}'.format(analyticalMinimum(a,b,c)))\n",
    "print('Minimum = {:e}'.format(error))"
   ]
  },
  {
   "cell_type": "code",
   "execution_count": 19,
   "metadata": {},
   "outputs": [
    {
     "name": "stdout",
     "output_type": "stream",
     "text": [
      "Minimum = 8.333333e-01\n",
      "Minimum = 8.333333e-01\n",
      "Minimum = 1.234333e-08\n"
     ]
    }
   ],
   "source": [
    "def square(x, a, b, c):\n",
    "    return a*x*x + b*x + c\n",
    "\n",
    "def analyticalMinimum(a, b, c):\n",
    "    return -b/(2*a)\n",
    "\n",
    "a, b, c = 3, -5, -4\n",
    "xo = 2\n",
    "minimum = scipy.optimize.minimize_scalar(square, args=(a,b,c))\n",
    "error = numpy.abs(minimum.x - analyticalMinimum(a,b,c))\n",
    "print('Minimum = {:e}'.format(minimum.x))\n",
    "print('Minimum = {:e}'.format(analyticalMinimum(a,b,c)))\n",
    "print('Minimum = {:e}'.format(error))"
   ]
  },
  {
   "cell_type": "code",
   "execution_count": 40,
   "metadata": {},
   "outputs": [
    {
     "name": "stdout",
     "output_type": "stream",
     "text": [
      "0.8603335890193798\n",
      "-2.220446049250313e-16\n",
      "\n",
      "0.8603335890193646\n",
      "5.595524044110789e-14\n",
      "\n",
      "0.8603335890193797\n",
      "0.0\n",
      "\n",
      "0.8603335890193586\n",
      "7.838174553853605e-14\n",
      "\n",
      "0.8603335890193831\n",
      "-1.2212453270876722e-14\n"
     ]
    }
   ],
   "source": [
    "def f(x, b):\n",
    "    return b/x - numpy.tan(x)\n",
    "\n",
    "xo = 1e-4\n",
    "xf = numpy.pi / 2 - 1e-4\n",
    "b = 1.0\n",
    "\n",
    "rootFunctions = [\n",
    "    scipy.optimize.brentq,\n",
    "    scipy.optimize.brenth,\n",
    "    scipy.optimize.ridder,\n",
    "    scipy.optimize.bisect,\n",
    "]\n",
    "\n",
    "for rootFunction in rootFunctions:\n",
    "    minimum = rootFunction(f, xo, xf, args=(b))\n",
    "    print(minimum)\n",
    "    print( f(minimum,b) )\n",
    "    print()\n",
    "\n",
    "initialValue = numpy.pi/4\n",
    "minimum = scipy.optimize.newton(f, initialValue, args=[b])\n",
    "print(minimum)\n",
    "print( f(minimum,b) )"
   ]
  },
  {
   "cell_type": "code",
   "execution_count": 64,
   "metadata": {},
   "outputs": [
    {
     "name": "stdout",
     "output_type": "stream",
     "text": [
      "a = 1.007887\n",
      "b = 0.031569\n"
     ]
    },
    {
     "data": {
      "image/png": "[encoded data removed]",
      "text/plain": [
       "<Figure size 432x288 with 1 Axes>"
      ]
     },
     "metadata": {},
     "output_type": "display_data"
    }
   ],
   "source": [
    "x = numpy.linspace(0,1,50)\n",
    "y = 0.07*numpy.random.rand(*x.shape) + x\n",
    "def f(x, a, b):\n",
    "    return a*x + b\n",
    "(a,b), _ = scipy.optimize.curve_fit(f, x, y)\n",
    "print('a = {:f}\\nb = {:f}'.format(a,b))\n",
    "plt.scatter(x, y, marker='.', color='k')\n",
    "plt.plot(x, f(x,a,b), 'r')\n",
    "plt.grid(True)\n",
    "plt.xlim([0,1])\n",
    "plt.ylim([0,1])\n",
    "plt.show()"
   ]
  }
 ],
 "metadata": {
  "kernelspec": {
   "display_name": "Python 3",
   "language": "python",
   "name": "python3"
  },
  "language_info": {
   "codemirror_mode": {
    "name": "ipython",
    "version": 3
   },
   "file_extension": ".py",
   "mimetype": "text/x-python",
   "name": "python",
   "nbconvert_exporter": "python",
   "pygments_lexer": "ipython3",
   "version": "3.6.5"
  }
 },
 "nbformat": 4,
 "nbformat_minor": 2
}
