{
 "cells": [
  {
   "cell_type": "code",
   "execution_count": 55,
   "metadata": {},
   "outputs": [],
   "source": [
    "import numpy"
   ]
  },
  {
   "cell_type": "code",
   "execution_count": 56,
   "metadata": {},
   "outputs": [
    {
     "name": "stdout",
     "output_type": "stream",
     "text": [
      "[[0.92845352 0.16938755 0.82839833 0.15504204 0.49611233]\n",
      " [0.27286495 0.74974838 0.60870984 0.40007035 0.64929246]\n",
      " [0.15948101 0.78485431 0.34317342 0.66937784 0.32755384]\n",
      " [0.62122364 0.33721088 0.02496979 0.56059521 0.68150808]] \n",
      "\n",
      "[0.40007035 0.32755384 0.82839833]\n"
     ]
    }
   ],
   "source": [
    "array = numpy.random.rand(4,5)\n",
    "print(array, '\\n')\n",
    "print(array[[1,2,0], [3,4,2]])"
   ]
  },
  {
   "cell_type": "code",
   "execution_count": 57,
   "metadata": {},
   "outputs": [
    {
     "name": "stdout",
     "output_type": "stream",
     "text": [
      "[[0.27521959 0.27861057 0.58297759 0.44583877 0.28807746]\n",
      " [0.34750637 0.66642227 0.80867967 0.56621334 0.35838841]\n",
      " [0.75531196 0.79968002 0.9084849  0.2111054  0.23396348]\n",
      " [0.63656177 0.24238441 0.53381965 0.38665224 0.07821964]\n",
      " [0.2061978  0.10815649 0.02311696 0.79217029 0.6970535 ]] \n",
      "\n",
      "[[0.27521959 0.58297759 0.28807746]\n",
      " [0.75531196 0.9084849  0.23396348]\n",
      " [0.2061978  0.02311696 0.6970535 ]]\n"
     ]
    }
   ],
   "source": [
    "array = numpy.random.rand(5,5)\n",
    "print(array, '\\n')\n",
    "print(array[0:5:2,0:5:2])"
   ]
  },
  {
   "cell_type": "code",
   "execution_count": 58,
   "metadata": {},
   "outputs": [
    {
     "name": "stdout",
     "output_type": "stream",
     "text": [
      "[[ 0.  1.  2.]\n",
      " [ 3.  4.  5.]\n",
      " [ 6.  7.  8.]\n",
      " [ 9. 10. 11.]]\n",
      "[5.]\n",
      "[ 5. 11.]\n",
      "[[ 5.]\n",
      " [11.]]\n",
      "[ 5. 10.]\n",
      "[5. 4.]\n",
      "[[5.]\n",
      " [4.]]\n"
     ]
    }
   ],
   "source": [
    "array = numpy.array([\n",
    "        [0,  1,  2],\n",
    "        [3,  4,  5],\n",
    "        [6,  7,  8],\n",
    "        [9, 10, 11]\n",
    "    ],\n",
    "    dtype=numpy.float_\n",
    ")\n",
    "print(array)\n",
    "rows = numpy.array([1]) ; columns = numpy.array([2]) ; print(array[rows, columns])\n",
    "rows = numpy.array([1, 3]) ; columns = numpy.array([2]) ; print(array[rows, columns])\n",
    "rows = numpy.array([[1], [3]]) ; columns = numpy.array([2]) ; print(array[rows, columns])\n",
    "rows = numpy.array([1, 3]) ; columns = numpy.array([2,1]) ; print(array[rows, columns])\n",
    "rows = numpy.array([1]) ; columns = numpy.array([2,1]) ; print(array[rows, columns])\n",
    "rows = numpy.array([1]) ; columns = numpy.array([[2],[1]]) ; print(array[rows, columns])"
   ]
  },
  {
   "cell_type": "code",
   "execution_count": 59,
   "metadata": {},
   "outputs": [
    {
     "name": "stdout",
     "output_type": "stream",
     "text": [
      "[[ 0.  1.  2.]\n",
      " [ 3.  4.  5.]\n",
      " [ 6.  7.  8.]\n",
      " [ 9. 10. 11.]] \n",
      "\n",
      "[[ 0.  2.]\n",
      " [ 3.  5.]\n",
      " [ 6.  8.]\n",
      " [ 9. 11.]] \n",
      "\n",
      "[[3. 5.]\n",
      " [6. 8.]] \n",
      "\n"
     ]
    }
   ],
   "source": [
    "array = numpy.array([\n",
    "        [0,  1,  2],\n",
    "        [3,  4,  5],\n",
    "        [6,  7,  8],\n",
    "        [9, 10, 11]\n",
    "    ],\n",
    "    dtype=numpy.float_\n",
    ")\n",
    "print(array, '\\n')\n",
    "print(array[:,[0,2]], '\\n')\n",
    "print(array[1:3,[0,2]], '\\n')"
   ]
  },
  {
   "cell_type": "code",
   "execution_count": 60,
   "metadata": {},
   "outputs": [
    {
     "name": "stdout",
     "output_type": "stream",
     "text": [
      "[[ 0.  1.  2.]\n",
      " [ 3.  4.  5.]\n",
      " [ 6.  7.  8.]\n",
      " [ 9. 10. 11.]] \n",
      "\n",
      "[[False False False]\n",
      " [False  True  True]\n",
      " [ True  True  True]\n",
      " [ True  True  True]]\n",
      "[ 4.  5.  6.  7.  8.  9. 10. 11.]\n"
     ]
    }
   ],
   "source": [
    "array = numpy.array([\n",
    "        [0,  1,  2],\n",
    "        [3,  4,  5],\n",
    "        [6,  7,  8],\n",
    "        [9, 10, 11]\n",
    "    ],\n",
    "    dtype=numpy.float_\n",
    ")\n",
    "print(array, '\\n')\n",
    "print(array>3)\n",
    "print(array[array>3])"
   ]
  },
  {
   "cell_type": "code",
   "execution_count": 61,
   "metadata": {},
   "outputs": [
    {
     "name": "stdout",
     "output_type": "stream",
     "text": [
      "[[ 0.  1.  2.]\n",
      " [ 3.  4.  5.]\n",
      " [ 6.  7.  8.]\n",
      " [ 9. 10. 11.]] \n",
      "\n",
      "[[False False False]\n",
      " [False False  True]\n",
      " [False False False]\n",
      " [False False False]]\n",
      "[5.]\n"
     ]
    }
   ],
   "source": [
    "array = numpy.array([\n",
    "        [0,  1,  2],\n",
    "        [3,  4,  5],\n",
    "        [6,  7,  8],\n",
    "        [9, 10, 11]\n",
    "    ],\n",
    "    dtype=numpy.float_\n",
    ")\n",
    "print(array, '\\n')\n",
    "print(array==5)\n",
    "print(array[array==5])\n",
    "# It can be used to select specific values"
   ]
  },
  {
   "cell_type": "code",
   "execution_count": 62,
   "metadata": {},
   "outputs": [
    {
     "name": "stdout",
     "output_type": "stream",
     "text": [
      "[False  True  True False  True  True  True]\n",
      "[1. 2. 3. 4. 5.]\n"
     ]
    }
   ],
   "source": [
    "array = numpy.array([numpy.nan, 1, 2, numpy.nan, 3, 4, 5]) \n",
    "print(~numpy.isnan(array))\n",
    "print(array[~numpy.isnan(array)])\n",
    "# It can be used to filter values!"
   ]
  }
 ],
 "metadata": {
  "kernelspec": {
   "display_name": "Python 3",
   "language": "python",
   "name": "python3"
  },
  "language_info": {
   "codemirror_mode": {
    "name": "ipython",
    "version": 3
   },
   "file_extension": ".py",
   "mimetype": "text/x-python",
   "name": "python",
   "nbconvert_exporter": "python",
   "pygments_lexer": "ipython3",
   "version": "3.6.5"
  }
 },
 "nbformat": 4,
 "nbformat_minor": 2
}
