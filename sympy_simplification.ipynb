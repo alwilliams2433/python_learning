{
 "cells": [
  {
   "cell_type": "code",
   "execution_count": 6,
   "metadata": {},
   "outputs": [],
   "source": [
    "import sympy\n",
    "sympy.init_printing()\n",
    "x, y, z, t = sympy.symbols('x, y, z, t')"
   ]
  },
  {
   "cell_type": "code",
   "execution_count": 9,
   "metadata": {},
   "outputs": [
    {
     "data": {
      "image/png": "[encoded data removed]",
      "text/latex": [
       "$$x + 1$$"
      ],
      "text/plain": [
       "x + 1"
      ]
     },
     "execution_count": 9,
     "metadata": {},
     "output_type": "execute_result"
    }
   ],
   "source": [
    "sympy.simplify( (x**2 + 2*x + 1) / (x + 1) )"
   ]
  },
  {
   "cell_type": "code",
   "execution_count": 14,
   "metadata": {},
   "outputs": [
    {
     "data": {
      "image/png": "[encoded data removed]",
      "text/latex": [
       "$$x - 1$$"
      ],
      "text/plain": [
       "x - 1"
      ]
     },
     "execution_count": 14,
     "metadata": {},
     "output_type": "execute_result"
    }
   ],
   "source": [
    "sympy.simplify( (x**2 - 1) / (x + 1) )"
   ]
  },
  {
   "cell_type": "code",
   "execution_count": 16,
   "metadata": {},
   "outputs": [
    {
     "data": {
      "image/png": "[encoded data removed]",
      "text/latex": [
       "$$x^{5} + 5 x^{4} + 10 x^{3} + 10 x^{2} + 5 x + 1$$"
      ],
      "text/plain": [
       " 5      4       3       2          \n",
       "x  + 5⋅x  + 10⋅x  + 10⋅x  + 5⋅x + 1"
      ]
     },
     "execution_count": 16,
     "metadata": {},
     "output_type": "execute_result"
    }
   ],
   "source": [
    "sympy.expand( (x+1)**5 )"
   ]
  },
  {
   "cell_type": "code",
   "execution_count": 18,
   "metadata": {},
   "outputs": [
    {
     "data": {
      "image/png": "[encoded data removed]",
      "text/latex": [
       "$$x + 1$$"
      ],
      "text/plain": [
       "x + 1"
      ]
     },
     "execution_count": 18,
     "metadata": {},
     "output_type": "execute_result"
    }
   ],
   "source": [
    "sympy.expand( (x+1)**2 - x**2 -x )"
   ]
  },
  {
   "cell_type": "code",
   "execution_count": 23,
   "metadata": {},
   "outputs": [
    {
     "data": {
      "image/png": "[encoded data removed]",
      "text/latex": [
       "$$x^{2} y z \\left(y^{2} + z^{5} + 1\\right)$$"
      ],
      "text/plain": [
       " 2     ⎛ 2    5    ⎞\n",
       "x ⋅y⋅z⋅⎝y  + z  + 1⎠"
      ]
     },
     "execution_count": 23,
     "metadata": {},
     "output_type": "execute_result"
    }
   ],
   "source": [
    "sympy.factor( (x**2 * y**3 * z) + (z**6 * x**2 * y) + (x**2*y*z) )"
   ]
  },
  {
   "cell_type": "code",
   "execution_count": 25,
   "metadata": {},
   "outputs": [
    {
     "data": {
      "image/png": "[encoded data removed]",
      "text/latex": [
       "$$\\sin^{2}{\\left (x \\right )} + 2 \\sin{\\left (x \\right )} \\cos{\\left (x \\right )} + \\cos^{2}{\\left (x \\right )}$$"
      ],
      "text/plain": [
       "   2                           2   \n",
       "sin (x) + 2⋅sin(x)⋅cos(x) + cos (x)"
      ]
     },
     "execution_count": 25,
     "metadata": {},
     "output_type": "execute_result"
    }
   ],
   "source": [
    "sympy.expand( '(sin(x)+cos(x))**2')"
   ]
  },
  {
   "cell_type": "code",
   "execution_count": 42,
   "metadata": {},
   "outputs": [
    {
     "data": {
      "image/png": "[encoded data removed]",
      "text/latex": [
       "$$x y + 2 x + y + 2$$"
      ],
      "text/plain": [
       "x⋅y + 2⋅x + y + 2"
      ]
     },
     "execution_count": 42,
     "metadata": {},
     "output_type": "execute_result"
    }
   ],
   "source": [
    "expr = (x+1)*(y+2)\n",
    "sympy.expand(expr)"
   ]
  },
  {
   "cell_type": "code",
   "execution_count": 47,
   "metadata": {},
   "outputs": [
    {
     "data": {
      "image/png": "[encoded data removed]",
      "text/latex": [
       "$$x^{9} y^{2} \\left(z + 3\\right) + x^{5} z^{2} \\left(y + 2\\right)$$"
      ],
      "text/plain": [
       " 9  2            5  2        \n",
       "x ⋅y ⋅(z + 3) + x ⋅z ⋅(y + 2)"
      ]
     },
     "execution_count": 47,
     "metadata": {},
     "output_type": "execute_result"
    }
   ],
   "source": [
    "expr = (3+z)*y**2*x**9 + x**5*z**2*(y+2)\n",
    "expr"
   ]
  },
  {
   "cell_type": "code",
   "execution_count": 48,
   "metadata": {},
   "outputs": [
    {
     "data": {
      "image/png": "[encoded data removed]",
      "text/latex": [
       "$$x^{9} y^{2} z + 3 x^{9} y^{2} + x^{5} y z^{2} + 2 x^{5} z^{2}$$"
      ],
      "text/plain": [
       " 9  2        9  2    5    2      5  2\n",
       "x ⋅y ⋅z + 3⋅x ⋅y  + x ⋅y⋅z  + 2⋅x ⋅z "
      ]
     },
     "execution_count": 48,
     "metadata": {},
     "output_type": "execute_result"
    }
   ],
   "source": [
    "sympy.expand(expr)"
   ]
  },
  {
   "cell_type": "code",
   "execution_count": 43,
   "metadata": {},
   "outputs": [
    {
     "data": {
      "image/png": "[encoded data removed]",
      "text/latex": [
       "$$x^{9} \\left(y^{2} z + 3 y^{2}\\right) + x^{5} \\left(y z^{2} + 2 z^{2}\\right)$$"
      ],
      "text/plain": [
       " 9 ⎛ 2        2⎞    5 ⎛   2      2⎞\n",
       "x ⋅⎝y ⋅z + 3⋅y ⎠ + x ⋅⎝y⋅z  + 2⋅z ⎠"
      ]
     },
     "execution_count": 43,
     "metadata": {},
     "output_type": "execute_result"
    }
   ],
   "source": [
    "sympy.collect( sympy.expand((3+z)*y**2*x**9 + x**5*z**2*(y+2)) , x)"
   ]
  },
  {
   "cell_type": "code",
   "execution_count": 44,
   "metadata": {},
   "outputs": [
    {
     "data": {
      "image/png": "[encoded data removed]",
      "text/latex": [
       "$$x^{5} y z^{2} + 2 x^{5} z^{2} + y^{2} \\left(x^{9} z + 3 x^{9}\\right)$$"
      ],
      "text/plain": [
       " 5    2      5  2    2 ⎛ 9        9⎞\n",
       "x ⋅y⋅z  + 2⋅x ⋅z  + y ⋅⎝x ⋅z + 3⋅x ⎠"
      ]
     },
     "execution_count": 44,
     "metadata": {},
     "output_type": "execute_result"
    }
   ],
   "source": [
    "sympy.collect( sympy.expand((3+z)*y**2*x**9 + x**5*z**2*(y+2)) , y)"
   ]
  },
  {
   "cell_type": "code",
   "execution_count": 46,
   "metadata": {},
   "outputs": [
    {
     "data": {
      "image/png": "[encoded data removed]",
      "text/latex": [
       "$$3 x^{9} y^{2}$$"
      ],
      "text/plain": [
       "   9  2\n",
       "3⋅x ⋅y "
      ]
     },
     "execution_count": 46,
     "metadata": {},
     "output_type": "execute_result"
    }
   ],
   "source": [
    "sympy.collect( sympy.expand((3+z)*y**2*x**9 + x**5*z**2*(y+2)) , z).coeff(z, 0)"
   ]
  },
  {
   "cell_type": "code",
   "execution_count": 49,
   "metadata": {},
   "outputs": [
    {
     "data": {
      "image/png": "[encoded data removed]",
      "text/latex": [
       "$$x^{9} y^{2}$$"
      ],
      "text/plain": [
       " 9  2\n",
       "x ⋅y "
      ]
     },
     "execution_count": 49,
     "metadata": {},
     "output_type": "execute_result"
    }
   ],
   "source": [
    "sympy.collect( sympy.expand((3+z)*y**2*x**9 + x**5*z**2*(y+2)) , z).coeff(z, 1)"
   ]
  },
  {
   "cell_type": "code",
   "execution_count": 51,
   "metadata": {},
   "outputs": [
    {
     "data": {
      "image/png": "[encoded data removed]",
      "text/latex": [
       "$$\\frac{x^{2}}{2 x + 1} + \\frac{3 x^{3} + 9}{x^{2} - 1}$$"
      ],
      "text/plain": [
       "    2        3    \n",
       "   x      3⋅x  + 9\n",
       "─────── + ────────\n",
       "2⋅x + 1     2     \n",
       "           x  - 1 "
      ]
     },
     "execution_count": 51,
     "metadata": {},
     "output_type": "execute_result"
    }
   ],
   "source": [
    "expr = x**2/(2*x+1) + (3*x**3 + 9)/(x**2-1)\n",
    "expr"
   ]
  },
  {
   "cell_type": "code",
   "execution_count": 54,
   "metadata": {},
   "outputs": [
    {
     "data": {
      "image/png": "[encoded data removed]",
      "text/latex": [
       "$$\\frac{7 x^{4} + 3 x^{3} - x^{2} + 18 x + 9}{2 x^{3} + x^{2} - 2 x - 1}$$"
      ],
      "text/plain": [
       "   4      3    2           \n",
       "7⋅x  + 3⋅x  - x  + 18⋅x + 9\n",
       "───────────────────────────\n",
       "       3    2              \n",
       "    2⋅x  + x  - 2⋅x - 1    "
      ]
     },
     "execution_count": 54,
     "metadata": {},
     "output_type": "execute_result"
    }
   ],
   "source": [
    "sympy.cancel(expr) # return in the format (numerator)/(denominator)"
   ]
  },
  {
   "cell_type": "code",
   "execution_count": 55,
   "metadata": {},
   "outputs": [
    {
     "data": {
      "image/png": "[encoded data removed]",
      "text/latex": [
       "$$\\frac{7 x}{2} - \\frac{1}{4} + \\frac{1}{4 \\left(2 x + 1\\right)} - \\frac{3}{x + 1} + \\frac{6}{x - 1}$$"
      ],
      "text/plain": [
       "7⋅x   1        1          3       6  \n",
       "─── - ─ + ─────────── - ───── + ─────\n",
       " 2    4   4⋅(2⋅x + 1)   x + 1   x - 1"
      ]
     },
     "execution_count": 55,
     "metadata": {},
     "output_type": "execute_result"
    }
   ],
   "source": [
    "sympy.apart(expr) # return the partial fractions decomposition"
   ]
  },
  {
   "cell_type": "code",
   "execution_count": 59,
   "metadata": {},
   "outputs": [
    {
     "data": {
      "image/png": "[encoded data removed]",
      "text/latex": [
       "$$\\sin{\\left (x \\right )} \\cos{\\left (y \\right )} + \\sin{\\left (y \\right )} \\cos{\\left (x \\right )}$$"
      ],
      "text/plain": [
       "sin(x)⋅cos(y) + sin(y)⋅cos(x)"
      ]
     },
     "execution_count": 59,
     "metadata": {},
     "output_type": "execute_result"
    }
   ],
   "source": [
    "sympy.expand_trig(sympy.sin(x+y))"
   ]
  },
  {
   "cell_type": "code",
   "execution_count": 62,
   "metadata": {},
   "outputs": [
    {
     "data": {
      "image/png": "[encoded data removed]",
      "text/latex": [
       "$$1$$"
      ],
      "text/plain": [
       "1"
      ]
     },
     "execution_count": 62,
     "metadata": {},
     "output_type": "execute_result"
    }
   ],
   "source": [
    "sympy.trigsimp(sympy.cos(x)**2 + sympy.sin(x)**2)"
   ]
  },
  {
   "cell_type": "code",
   "execution_count": 67,
   "metadata": {},
   "outputs": [
    {
     "data": {
      "image/png": "[encoded data removed]",
      "text/latex": [
       "$$\\frac{\\sin{\\left (2 x \\right )}}{2}$$"
      ],
      "text/plain": [
       "sin(2⋅x)\n",
       "────────\n",
       "   2    "
      ]
     },
     "execution_count": 67,
     "metadata": {},
     "output_type": "execute_result"
    }
   ],
   "source": [
    "sympy.trigsimp(sympy.sin(x)*sympy.cos(x))"
   ]
  },
  {
   "cell_type": "code",
   "execution_count": 72,
   "metadata": {},
   "outputs": [
    {
     "name": "stdout",
     "output_type": "stream",
     "text": [
      "x\n",
      "sqrt(y**2)\n"
     ]
    }
   ],
   "source": [
    "x = sympy.symbols('x', positive=True)\n",
    "y = sympy.symbols('y')\n",
    "print(sympy.sqrt(x**2))\n",
    "print(sympy.sqrt(y**2)) # by default, symbols are complex numbers"
   ]
  },
  {
   "cell_type": "code",
   "execution_count": 81,
   "metadata": {},
   "outputs": [
    {
     "name": "stdout",
     "output_type": "stream",
     "text": [
      "x**a*y**a => (x*y)**a\n",
      "X**A*Y**A => X**A*Y**A\n",
      "X**A*Y**A => (X*Y)**A\n"
     ]
    }
   ],
   "source": [
    "x, y = sympy.symbols('x, y', real=True, positive=True)\n",
    "X, Y = sympy.symbols('X, Y')\n",
    "a = sympy.symbols('a', positive=True)\n",
    "A = sympy.symbols('A')\n",
    "expr = x**a * y**a\n",
    "EXPR = X**A * Y**A\n",
    "print(expr, '=>', sympy.powsimp(expr))\n",
    "print(EXPR, '=>', sympy.powsimp(EXPR)) # Simplifications done only when guaranteed.\n",
    "print(EXPR, '=>', sympy.powsimp(EXPR, force=True)) # Or forced."
   ]
  },
  {
   "cell_type": "code",
   "execution_count": 86,
   "metadata": {},
   "outputs": [
    {
     "name": "stdout",
     "output_type": "stream",
     "text": [
      "log(x*y) => log(x) + log(y)\n",
      "log(X*Y) => log(X*Y)\n"
     ]
    }
   ],
   "source": [
    "x, y = sympy.symbols('x, y', positive=True)\n",
    "expr = sympy.log(x*y)\n",
    "print(expr, '=>', sympy.expand_log(expr))\n",
    "\n",
    "X, Y = sympy.symbols('X, Y')\n",
    "EXPR = sympy.log(X*Y)\n",
    "print(EXPR, '=>', sympy.expand_log(EXPR))"
   ]
  },
  {
   "cell_type": "code",
   "execution_count": 94,
   "metadata": {},
   "outputs": [
    {
     "data": {
      "image/png": "[encoded data removed]",
      "text/latex": [
       "$$\\frac{2 \\sin^{2}{\\left (x \\right )}}{\\sin{\\left (2 x \\right )}}$$"
      ],
      "text/plain": [
       "     2   \n",
       "2⋅sin (x)\n",
       "─────────\n",
       " sin(2⋅x)"
      ]
     },
     "execution_count": 94,
     "metadata": {},
     "output_type": "execute_result"
    }
   ],
   "source": [
    "x = sympy.symbols('x')\n",
    "expr = sympy.tan(x)\n",
    "expr.rewrite(sympy.sin)"
   ]
  },
  {
   "cell_type": "code",
   "execution_count": 100,
   "metadata": {},
   "outputs": [
    {
     "data": {
      "image/png": "[encoded data removed]",
      "text/latex": [
       "$$\\frac{i \\left(- e^{i x} + e^{- i x}\\right)}{e^{i x} + e^{- i x}}$$"
      ],
      "text/plain": [
       "  ⎛   ⅈ⋅x    -ⅈ⋅x⎞\n",
       "ⅈ⋅⎝- ℯ    + ℯ    ⎠\n",
       "──────────────────\n",
       "    ⅈ⋅x    -ⅈ⋅x   \n",
       "   ℯ    + ℯ       "
      ]
     },
     "execution_count": 100,
     "metadata": {},
     "output_type": "execute_result"
    }
   ],
   "source": [
    "x = sympy.symbols('x')\n",
    "expr = sympy.tan(x)\n",
    "expr.rewrite(sympy.exp)"
   ]
  }
 ],
 "metadata": {
  "kernelspec": {
   "display_name": "Python 3",
   "language": "python",
   "name": "python3"
  },
  "language_info": {
   "codemirror_mode": {
    "name": "ipython",
    "version": 3
   },
   "file_extension": ".py",
   "mimetype": "text/x-python",
   "name": "python",
   "nbconvert_exporter": "python",
   "pygments_lexer": "ipython3",
   "version": "3.6.5"
  }
 },
 "nbformat": 4,
 "nbformat_minor": 2
}
