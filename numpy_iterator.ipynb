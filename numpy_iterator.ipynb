{
 "cells": [
  {
   "cell_type": "code",
   "execution_count": 1,
   "metadata": {},
   "outputs": [],
   "source": [
    "import numpy"
   ]
  },
  {
   "cell_type": "code",
   "execution_count": 9,
   "metadata": {},
   "outputs": [
    {
     "name": "stdout",
     "output_type": "stream",
     "text": [
      "array:\n",
      " [[  1   2   4]\n",
      " [  8  16  32]\n",
      " [ 64 128 256]]\n",
      "\n",
      "Using iterator:\n",
      "1, 2, 4, 8, 16, 32, 64, 128, 256, \n",
      "\n",
      "Transposed array:\n",
      " [[  1   8  64]\n",
      " [  2  16 128]\n",
      " [  4  32 256]]\n",
      "\n",
      "Iterators consider the way the data is stored in memory:\n",
      "1, 2, 4, 8, 16, 32, 64, 128, 256, "
     ]
    }
   ],
   "source": [
    "array = numpy.arange(9)\n",
    "array = 2**array\n",
    "array = array.reshape(3,3)\n",
    "print('array:\\n', array)\n",
    "print('\\nUsing iterator:')\n",
    "for val in numpy.nditer(array):\n",
    "    print(val, end=', ')\n",
    "    \n",
    "array = numpy.transpose(array)\n",
    "print('\\n\\nTransposed array:\\n', array)\n",
    "print('\\nIterators consider the way the data is stored in memory:')\n",
    "for val in numpy.nditer(array):\n",
    "    print(val, end=', ')"
   ]
  },
  {
   "cell_type": "code",
   "execution_count": 31,
   "metadata": {},
   "outputs": [
    {
     "name": "stdout",
     "output_type": "stream",
     "text": [
      "[[  1.   2.   4.]\n",
      " [  8.  16.  32.]\n",
      " [ 64. 128. 256.]]\n",
      "[[4. 4. 4.]\n",
      " [4. 4. 4.]\n",
      " [4. 4. 4.]]\n"
     ]
    }
   ],
   "source": [
    "array = numpy.arange(9.)\n",
    "array = 2**array\n",
    "array = array.reshape(3,3)\n",
    "print(array)\n",
    "for val in numpy.nditer(array,op_flags=['readwrite']):\n",
    "    val[...] = 4 # don't ask me why the ellipse makes it works...\n",
    "print(array)"
   ]
  },
  {
   "cell_type": "code",
   "execution_count": 32,
   "metadata": {},
   "outputs": [
    {
     "name": "stdout",
     "output_type": "stream",
     "text": [
      "[[  1.   2.   4.]\n",
      " [  8.  16.  32.]\n",
      " [ 64. 128. 256.]]\n"
     ]
    },
    {
     "ename": "ValueError",
     "evalue": "assignment destination is read-only",
     "output_type": "error",
     "traceback": [
      "\u001b[0;31m---------------------------------------------------------------------------\u001b[0m",
      "\u001b[0;31mValueError\u001b[0m                                Traceback (most recent call last)",
      "\u001b[0;32m<ipython-input-32-67d87f73e379>\u001b[0m in \u001b[0;36m<module>\u001b[0;34m()\u001b[0m\n\u001b[1;32m      4\u001b[0m \u001b[0mprint\u001b[0m\u001b[0;34m(\u001b[0m\u001b[0marray\u001b[0m\u001b[0;34m)\u001b[0m\u001b[0;34m\u001b[0m\u001b[0m\n\u001b[1;32m      5\u001b[0m \u001b[0;32mfor\u001b[0m \u001b[0mval\u001b[0m \u001b[0;32min\u001b[0m \u001b[0mnumpy\u001b[0m\u001b[0;34m.\u001b[0m\u001b[0mnditer\u001b[0m\u001b[0;34m(\u001b[0m\u001b[0marray\u001b[0m\u001b[0;34m,\u001b[0m\u001b[0mop_flags\u001b[0m\u001b[0;34m=\u001b[0m\u001b[0;34m[\u001b[0m\u001b[0;34m'readonly'\u001b[0m\u001b[0;34m]\u001b[0m\u001b[0;34m)\u001b[0m\u001b[0;34m:\u001b[0m\u001b[0;34m\u001b[0m\u001b[0m\n\u001b[0;32m----> 6\u001b[0;31m     \u001b[0mval\u001b[0m\u001b[0;34m[\u001b[0m\u001b[0;34m...\u001b[0m\u001b[0;34m]\u001b[0m \u001b[0;34m=\u001b[0m \u001b[0;36m4\u001b[0m \u001b[0;31m# don't ask me why the ellipse makes it works...\u001b[0m\u001b[0;34m\u001b[0m\u001b[0m\n\u001b[0m\u001b[1;32m      7\u001b[0m \u001b[0mprint\u001b[0m\u001b[0;34m(\u001b[0m\u001b[0marray\u001b[0m\u001b[0;34m)\u001b[0m\u001b[0;34m\u001b[0m\u001b[0m\n",
      "\u001b[0;31mValueError\u001b[0m: assignment destination is read-only"
     ]
    }
   ],
   "source": [
    "array = numpy.arange(9.)\n",
    "array = 2**array\n",
    "array = array.reshape(3,3)\n",
    "print(array)\n",
    "for val in numpy.nditer(array,op_flags=['readonly']):\n",
    "    val[...] = 4 # don't ask me why the ellipse makes it works...\n",
    "print(array)"
   ]
  },
  {
   "cell_type": "code",
   "execution_count": 40,
   "metadata": {},
   "outputs": [
    {
     "name": "stdout",
     "output_type": "stream",
     "text": [
      "[[  1.   2.   4.]\n",
      " [  8.  16.  32.]\n",
      " [ 64. 128. 256.]]\n",
      "[ 1.  8. 64.] <class 'numpy.ndarray'> (3,)\n",
      "[  2.  16. 128.] <class 'numpy.ndarray'> (3,)\n",
      "[  4.  32. 256.] <class 'numpy.ndarray'> (3,)\n",
      "[  1.   2.   4.   8.  16.  32.  64. 128. 256.] <class 'numpy.ndarray'> (9,)\n"
     ]
    }
   ],
   "source": [
    "# it is possible iterate by groups\n",
    "array = numpy.arange(9.)\n",
    "array = 2**array\n",
    "array = array.reshape(3,3)\n",
    "\n",
    "print(array)\n",
    "\n",
    "for val in numpy.nditer(array, flags=['external_loop'], order='F'):\n",
    "    print(val, type(val), val.shape)\n",
    "\n",
    "for val in numpy.nditer(array, flags=['external_loop']): # order='C'\n",
    "    print(val, type(val), val.shape)"
   ]
  },
  {
   "cell_type": "code",
   "execution_count": 48,
   "metadata": {},
   "outputs": [
    {
     "name": "stdout",
     "output_type": "stream",
     "text": [
      "A:\n",
      " [[  1.   2.   4.]\n",
      " [  8.  16.  32.]\n",
      " [ 64. 128. 256.]]\n",
      "B:\n",
      " [0. 1. 2.]\n",
      "\n",
      "A        B\n",
      "1.0  ,  0.0\n",
      "2.0  ,  1.0\n",
      "4.0  ,  2.0\n",
      "8.0  ,  0.0\n",
      "16.0  ,  1.0\n",
      "32.0  ,  2.0\n",
      "64.0  ,  0.0\n",
      "128.0  ,  1.0\n",
      "256.0  ,  2.0\n"
     ]
    }
   ],
   "source": [
    "arrayA = numpy.arange(9.)\n",
    "arrayA = 2**arrayA\n",
    "arrayA = arrayA.reshape(3,3)\n",
    "\n",
    "arrayB = numpy.arange(3.)\n",
    "\n",
    "print('A:\\n', arrayA)\n",
    "print('B:\\n', arrayB)\n",
    "\n",
    "print('\\nA        B')\n",
    "for valA, valB in numpy.nditer([arrayA, arrayB]):\n",
    "    print(valA, ' , ', valB)"
   ]
  },
  {
   "cell_type": "code",
   "execution_count": null,
   "metadata": {},
   "outputs": [],
   "source": []
  }
 ],
 "metadata": {
  "kernelspec": {
   "display_name": "Python 3",
   "language": "python",
   "name": "python3"
  },
  "language_info": {
   "codemirror_mode": {
    "name": "ipython",
    "version": 3
   },
   "file_extension": ".py",
   "mimetype": "text/x-python",
   "name": "python",
   "nbconvert_exporter": "python",
   "pygments_lexer": "ipython3",
   "version": "3.6.5"
  }
 },
 "nbformat": 4,
 "nbformat_minor": 2
}
