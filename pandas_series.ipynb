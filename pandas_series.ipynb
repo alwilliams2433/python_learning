{
 "cells": [
  {
   "cell_type": "code",
   "execution_count": 35,
   "metadata": {},
   "outputs": [],
   "source": [
    "import numpy as np\n",
    "import pandas as pd"
   ]
  },
  {
   "cell_type": "code",
   "execution_count": 36,
   "metadata": {},
   "outputs": [
    {
     "data": {
      "text/plain": [
       "0    -0.245415\n",
       "10   -0.553009\n",
       "20   -0.641614\n",
       "30   -0.280918\n",
       "40    0.831355\n",
       "Name: series, dtype: float64"
      ]
     },
     "execution_count": 36,
     "metadata": {},
     "output_type": "execute_result"
    }
   ],
   "source": [
    "data = np.random.uniform(low=-1, high=1, size=(5,))\n",
    "index = [str(num) for num in 10*np.arange(len(data))]\n",
    "series = pd.Series(data=data, index=index, name='series')\n",
    "series"
   ]
  },
  {
   "cell_type": "code",
   "execution_count": 37,
   "metadata": {},
   "outputs": [
    {
     "data": {
      "text/plain": [
       "0     0.682666\n",
       "20    0.006568\n",
       "40   -0.078002\n",
       "60    0.972024\n",
       "80   -0.436534\n",
       "Name: series 2, dtype: float64"
      ]
     },
     "execution_count": 37,
     "metadata": {},
     "output_type": "execute_result"
    }
   ],
   "source": [
    "data_2 = np.random.uniform(low=-1, high=1, size=(5,))\n",
    "index = [str(num) for num in 20*np.arange(len(data))]\n",
    "series_2 = pd.Series(data=data_2, index=index_2, name='series 2')\n",
    "series_2"
   ]
  },
  {
   "cell_type": "code",
   "execution_count": 38,
   "metadata": {},
   "outputs": [
    {
     "data": {
      "text/plain": [
       "0    NaN\n",
       "10   NaN\n",
       "20   NaN\n",
       "30   NaN\n",
       "40   NaN\n",
       "0    NaN\n",
       "20   NaN\n",
       "40   NaN\n",
       "60   NaN\n",
       "80   NaN\n",
       "dtype: float64"
      ]
     },
     "execution_count": 38,
     "metadata": {},
     "output_type": "execute_result"
    }
   ],
   "source": [
    "series_sum = series + series_2\n",
    "series_sum"
   ]
  },
  {
   "cell_type": "code",
   "execution_count": 41,
   "metadata": {},
   "outputs": [
    {
     "name": "stdout",
     "output_type": "stream",
     "text": [
      "-0.2454145814546187\n",
      "Error!\n",
      "-0.5530090713667928\n"
     ]
    }
   ],
   "source": [
    "print(series[0])\n",
    "try:\n",
    "    print(series[10])\n",
    "except:\n",
    "    print('Error!')\n",
    "print(series['10'])"
   ]
  },
  {
   "cell_type": "code",
   "execution_count": null,
   "metadata": {},
   "outputs": [],
   "source": []
  }
 ],
 "metadata": {
  "kernelspec": {
   "display_name": "Python 3",
   "language": "python",
   "name": "python3"
  },
  "language_info": {
   "codemirror_mode": {
    "name": "ipython",
    "version": 3
   },
   "file_extension": ".py",
   "mimetype": "text/x-python",
   "name": "python",
   "nbconvert_exporter": "python",
   "pygments_lexer": "ipython3",
   "version": "3.6.6"
  }
 },
 "nbformat": 4,
 "nbformat_minor": 2
}
