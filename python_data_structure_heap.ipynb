{
 "cells": [
  {
   "cell_type": "code",
   "execution_count": 3,
   "metadata": {},
   "outputs": [],
   "source": [
    "import heapq\n",
    "import numpy"
   ]
  },
  {
   "cell_type": "code",
   "execution_count": 15,
   "metadata": {},
   "outputs": [
    {
     "name": "stdout",
     "output_type": "stream",
     "text": [
      "[6, 7, 49, 7, 31, 70, 81, 93, 59, 44] \n",
      "\n",
      "6\n",
      "[7, 7, 49, 44, 31, 70, 81, 93, 59]\n",
      "\n",
      "\n",
      "7\n",
      "[7, 31, 49, 44, 59, 70, 81, 93]\n",
      "\n",
      "\n",
      "7\n",
      "[31, 44, 49, 93, 59, 70, 81]\n",
      "\n",
      "\n",
      "31\n",
      "[44, 59, 49, 93, 81, 70]\n",
      "\n",
      "\n",
      "44\n",
      "[49, 59, 70, 93, 81]\n",
      "\n",
      "\n",
      "49\n",
      "[59, 81, 70, 93]\n",
      "\n",
      "\n",
      "59\n",
      "[70, 81, 93]\n",
      "\n",
      "\n",
      "70\n",
      "[81, 93]\n",
      "\n",
      "\n",
      "81\n",
      "[93]\n",
      "\n",
      "\n",
      "93\n",
      "[]\n",
      "\n",
      "\n"
     ]
    }
   ],
   "source": [
    "H = list(numpy.random.randint(100,size=10))\n",
    "heapq.heapify(H)\n",
    "print(H, '\\n')\n",
    "for i in range(len(H)):\n",
    "    print(heapq.heappop(H))\n",
    "    print(H)\n",
    "    print('\\n')"
   ]
  },
  {
   "cell_type": "code",
   "execution_count": null,
   "metadata": {},
   "outputs": [],
   "source": []
  }
 ],
 "metadata": {
  "kernelspec": {
   "display_name": "Python 3",
   "language": "python",
   "name": "python3"
  },
  "language_info": {
   "codemirror_mode": {
    "name": "ipython",
    "version": 3
   },
   "file_extension": ".py",
   "mimetype": "text/x-python",
   "name": "python",
   "nbconvert_exporter": "python",
   "pygments_lexer": "ipython3",
   "version": "3.6.5"
  }
 },
 "nbformat": 4,
 "nbformat_minor": 2
}
