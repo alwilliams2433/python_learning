{
 "cells": [
  {
   "cell_type": "code",
   "execution_count": 21,
   "metadata": {},
   "outputs": [],
   "source": [
    "import time\n",
    "import numpy"
   ]
  },
  {
   "cell_type": "code",
   "execution_count": 22,
   "metadata": {},
   "outputs": [
    {
     "name": "stdout",
     "output_type": "stream",
     "text": [
      "Build time: 0.10738539695739746\n",
      "Python build-in sort time:     1.2976417541503906\n",
      "Numpy quicksort time:          0.2184605598449707\n",
      "Numpy mergesort time:          0.1446528434753418\n",
      "Numpy heapsort time:           0.27124714851379395\n"
     ]
    }
   ],
   "source": [
    "start = time.time()\n",
    "randomValues = numpy.random.randn(1_000_000)\n",
    "end = time.time()\n",
    "print('Build time:', end-start)\n",
    "\n",
    "start = time.time()\n",
    "sortedValues = sorted(randomValues)\n",
    "end = time.time()\n",
    "print('Python build-in sort time:'.ljust(30), end-start)\n",
    "\n",
    "start = time.time()\n",
    "sortedValues = numpy.sort(randomValues, kind='quicksort')\n",
    "end = time.time()\n",
    "print('Numpy quicksort time:'.ljust(30), end-start)\n",
    "\n",
    "start = time.time()\n",
    "sortedValues = numpy.sort(randomValues, kind='mergesort')\n",
    "end = time.time()\n",
    "print('Numpy mergesort time:'.ljust(30), end-start)\n",
    "\n",
    "start = time.time()\n",
    "sortedValues = numpy.sort(randomValues, kind='heapsort')\n",
    "end = time.time()\n",
    "print('Numpy heapsort time:'.ljust(30), end-start)"
   ]
  },
  {
   "cell_type": "code",
   "execution_count": null,
   "metadata": {},
   "outputs": [],
   "source": []
  },
  {
   "cell_type": "code",
   "execution_count": null,
   "metadata": {},
   "outputs": [],
   "source": []
  }
 ],
 "metadata": {
  "kernelspec": {
   "display_name": "Python 3",
   "language": "python",
   "name": "python3"
  },
  "language_info": {
   "codemirror_mode": {
    "name": "ipython",
    "version": 3
   },
   "file_extension": ".py",
   "mimetype": "text/x-python",
   "name": "python",
   "nbconvert_exporter": "python",
   "pygments_lexer": "ipython3",
   "version": "3.6.5"
  }
 },
 "nbformat": 4,
 "nbformat_minor": 2
}
