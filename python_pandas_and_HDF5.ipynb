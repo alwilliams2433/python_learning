{
 "cells": [
  {
   "cell_type": "code",
   "execution_count": 4,
   "metadata": {
    "collapsed": true
   },
   "outputs": [],
   "source": [
    "import pandas as pd\n",
    "import numpy as np\n",
    "import os\n",
    "import h5py"
   ]
  },
  {
   "cell_type": "code",
   "execution_count": 10,
   "metadata": {},
   "outputs": [],
   "source": [
    "hdfFileName = '.pandas_hdf5_test.h5'\n",
    "hdfFile = h5py.File(hdfFileName, mode='w')\n",
    "\n",
    "hdfFile.attrs['explanation'] = 'Test file.'\n",
    "\n",
    "numberOfColumns = 10_000\n",
    "numberOfRows = 10_000\n",
    "datasetShape = (numberOfRows, numberOfColumns)\n",
    "\n",
    "trainGroup = hdfFile.create_group('train')\n",
    "\n",
    "dataset = trainGroup.create_dataset('features', datasetShape, dtype=np.float_)\n",
    "\n",
    "for row in range(numberOfRows):\n",
    "    dataset[row,:] = np.random.rand(numberOfColumns)\n",
    "\n",
    "hdfFile.close()"
   ]
  },
  {
   "cell_type": "code",
   "execution_count": 11,
   "metadata": {},
   "outputs": [],
   "source": [
    "hdfFile.close()"
   ]
  },
  {
   "cell_type": "code",
   "execution_count": 18,
   "metadata": {},
   "outputs": [
    {
     "name": "stdout",
     "output_type": "stream",
     "text": [
      "File attributes:\n",
      "Name                 Value               \n",
      "explanation          Test file.          \n",
      "\n",
      "File groups:\n",
      "Group name           Type                \n",
      "train                <HDF5 group \"/train\" (1 members)>\n"
     ]
    }
   ],
   "source": [
    "hdfFile = h5py.File(hdfFileName, mode='r')\n",
    "\n",
    "print('File attributes:')\n",
    "print('{:20} {:20}'.format('Name', 'Value'))\n",
    "for attribute in hdfFile.attrs.items():\n",
    "    print('{:20} {:20}'.format(attribute[0], attribute[1]))\n",
    "\n",
    "print('\\nFile groups:')\n",
    "print('{:20} {:20}'.format('Group name', 'Type'))\n",
    "for group in hdfFile.items():\n",
    "    print('{:20} {}'.format(group[0], group[1]))\n",
    "\n",
    "hdfFile.close()"
   ]
  },
  {
   "cell_type": "code",
   "execution_count": 20,
   "metadata": {},
   "outputs": [
    {
     "ename": "PermissionError",
     "evalue": "[WinError 32] Der Prozess kann nicht auf die Datei zugreifen, da sie von einem anderen Prozess verwendet wird: '.pandas_hdf5_test.h5'",
     "output_type": "error",
     "traceback": [
      "\u001b[1;31m---------------------------------------------------------------------------\u001b[0m",
      "\u001b[1;31mPermissionError\u001b[0m                           Traceback (most recent call last)",
      "\u001b[1;32m<ipython-input-20-94e3321dd5f3>\u001b[0m in \u001b[0;36m<module>\u001b[1;34m()\u001b[0m\n\u001b[1;32m----> 1\u001b[1;33m \u001b[0mos\u001b[0m\u001b[1;33m.\u001b[0m\u001b[0mremove\u001b[0m\u001b[1;33m(\u001b[0m\u001b[0mhdfFileName\u001b[0m\u001b[1;33m)\u001b[0m\u001b[1;33m\u001b[0m\u001b[0m\n\u001b[0m",
      "\u001b[1;31mPermissionError\u001b[0m: [WinError 32] Der Prozess kann nicht auf die Datei zugreifen, da sie von einem anderen Prozess verwendet wird: '.pandas_hdf5_test.h5'"
     ]
    }
   ],
   "source": [
    "os.remove(hdfFileName)"
   ]
  }
 ],
 "metadata": {
  "kernelspec": {
   "display_name": "Python 3",
   "language": "python",
   "name": "python3"
  },
  "language_info": {
   "codemirror_mode": {
    "name": "ipython",
    "version": 3
   },
   "file_extension": ".py",
   "mimetype": "text/x-python",
   "name": "python",
   "nbconvert_exporter": "python",
   "pygments_lexer": "ipython3",
   "version": "3.6.3"
  }
 },
 "nbformat": 4,
 "nbformat_minor": 2
}
