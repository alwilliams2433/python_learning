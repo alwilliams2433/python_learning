{
 "cells": [
  {
   "cell_type": "code",
   "execution_count": 100,
   "metadata": {},
   "outputs": [],
   "source": [
    "import matplotlib.pyplot as plt\n",
    "import numpy\n",
    "import scipy.linalg\n",
    "from scipy.cluster.vq import kmeans"
   ]
  },
  {
   "cell_type": "markdown",
   "metadata": {},
   "source": [
    "# Introduction\n",
    "\n",
    "Let's create a Principal Component Analysis exmaple. We don't have a set of data, so we need to create one. Let's create it in a way that we know the clusters we will get.\n",
    "\n",
    "$$ N = 38 $$\n",
    "\n",
    "$$ F = 12 $$\n",
    "\n",
    "Each family will have $F$ vectors.\n",
    "\n",
    "$$\n",
    "M_1 = ones(N,1) + \\mbox{randomData}\n",
    "$$\n",
    "\n",
    "$$\n",
    "M_2 = zeros(N,1) + \\mbox{randomData}\n",
    "$$\n",
    "\n",
    "$$\n",
    "M_3 = range(N).reshape(N,1) + \\mbox{randomData}\n",
    "$$\n",
    "\n",
    "Therefore, we will have three clusters, one for the family of of matrices 1, another for family 2 and one more for family 3.\n",
    "\n",
    "First, let's create those data."
   ]
  },
  {
   "cell_type": "markdown",
   "metadata": {},
   "source": [
    "# Random Numbers\n",
    "\n",
    "$numpy.random.rand$ returns numbers in the range $[0,1]$. To make its range smaller, simply multiply by a range controller $randomRange$:\n",
    "\n",
    "$$ randomRange \\cdot numpy.random.rand(N,N) $$"
   ]
  },
  {
   "cell_type": "code",
   "execution_count": 101,
   "metadata": {},
   "outputs": [],
   "source": [
    "N = 38\n",
    "randomRange = 0.5\n",
    "familySize = 12\n",
    "\n",
    "matrixFamily_1 = [ numpy.ones((1,N)) + randomRange*numpy.random.rand(1,N) for i in range(familySize) ]\n",
    "matrixFamily_2 = [ numpy.zeros((1,N)) + randomRange*numpy.random.rand(1,N) for i in range(familySize) ]\n",
    "matrixFamily_3 = [ numpy.arange(N).reshape(1,N) + randomRange*numpy.random.rand(1,N) for i in range(familySize) ]"
   ]
  },
  {
   "cell_type": "markdown",
   "metadata": {},
   "source": [
    "# Matrix Assembly\n",
    "\n",
    "To assmbly the matrix, simply insert each vector inside each matrix family into a column."
   ]
  },
  {
   "cell_type": "code",
   "execution_count": 102,
   "metadata": {},
   "outputs": [],
   "source": [
    "matrix = numpy.empty((N, 3*familySize))\n",
    "for index, vector in enumerate(matrixFamily_1 + matrixFamily_2 + matrixFamily_3):\n",
    "    matrix[:,index] = vector"
   ]
  },
  {
   "cell_type": "markdown",
   "metadata": {},
   "source": [
    "# Principal Component Analysis\n",
    "\n",
    "Now let's follow the principal component analysis steps.\n",
    "\n",
    "1. Compute the average vector and subtract it from all the others.\n",
    "2. Compute the SVD factoration.\n",
    "\n",
    "$$\n",
    "\\mathcal{M} = U \\cdot \\Sigma \\cdot V^t\n",
    "$$"
   ]
  },
  {
   "cell_type": "code",
   "execution_count": 103,
   "metadata": {},
   "outputs": [],
   "source": [
    "averageVector = numpy.sum(matrix, axis=1).reshape(N,1)\n",
    "matrix = matrix - averageVector # numpy will broadcast the vector\n",
    "\n",
    "U, singularValues, Vt = scipy.linalg.svd(matrix, full_matrices=False, compute_uv=True, check_finite=True)"
   ]
  },
  {
   "cell_type": "markdown",
   "metadata": {},
   "source": [
    "# Singular Values Plot"
   ]
  },
  {
   "cell_type": "code",
   "execution_count": 104,
   "metadata": {},
   "outputs": [
    {
     "data": {
      "image/png": "[encoded data removed]",
      "text/plain": [
       "<Figure size 504x360 with 1 Axes>"
      ]
     },
     "metadata": {},
     "output_type": "display_data"
    }
   ],
   "source": [
    "fig = plt.figure(1, figsize=(7,5))\n",
    "ax = fig.add_subplot(1,1,1)\n",
    "ax.semilogy(numpy.arange(len(singularValues)), singularValues, color='k', linestyle='-', marker='o')\n",
    "ax.grid()\n",
    "fig.suptitle('Singular Values')\n",
    "ax.set_ylabel('$\\sigma$')\n",
    "ax.set_xlabel('singular value number'.title())\n",
    "ax.grid(which='major', axis='y')\n",
    "ax.grid(which='minor', axis='y', linestyle=':')\n",
    "\n",
    "plt.show()\n",
    "plt.close(fig)"
   ]
  },
  {
   "cell_type": "markdown",
   "metadata": {},
   "source": [
    "It is possible to see that only the first two singular values are relevant."
   ]
  },
  {
   "cell_type": "markdown",
   "metadata": {},
   "source": [
    "# Scatter Plot\n",
    "\n",
    "Now we'd like to see the clusters being formed. To be able to create the plane plot, we will use the first two singular values. We will reduce the matrices size and then make the plot.\n",
    "\n",
    "To reduce the size:\n",
    "\n",
    "$$ k = 2 $$\n",
    "\n",
    "$$\n",
    "\\tilde{\\Sigma} = \\Sigma[:k,:k]\n",
    "$$\n",
    "\n",
    "$$\n",
    "\\tilde{U} = U[:,:k]\n",
    "$$\n",
    "\n",
    "$$\n",
    "\\tilde{V^t} = V^t[:k,:]\n",
    "$$"
   ]
  },
  {
   "cell_type": "code",
   "execution_count": 105,
   "metadata": {},
   "outputs": [],
   "source": [
    "k = 2\n",
    "\n",
    "reducedU = U[:,:k]\n",
    "reducedSingularValues = singularValues[:k]\n",
    "reducedVt = Vt[:k,:]"
   ]
  },
  {
   "cell_type": "markdown",
   "metadata": {},
   "source": [
    "Now they are reduced, the points will be located at the positions:\n",
    "\n",
    "$$\n",
    "\\left[\n",
    "\\begin{array}{c}\n",
    "    X\\\\\n",
    "    Y\n",
    "\\end{array}\n",
    "\\right]\n",
    "=\n",
    "\\tilde{\\Sigma} \\cdot \\tilde{V^t}\n",
    "\\in\n",
    "\\mathbb{M}(2,3 \\cdot F)\n",
    "$$\n",
    "\n",
    "To plot, simply use the first line as $x$ position and the second line as $y$ position.\n",
    "One more detail, the families will be separated by colors. Red for family <font color='red'>$M_1$</font>, blue for family <font color='blue'>$M_2$</font> and green for family <font color='green'>$M_3$</font>."
   ]
  },
  {
   "cell_type": "code",
   "execution_count": 106,
   "metadata": {},
   "outputs": [
    {
     "data": {
      "image/png": "[encoded data removed]",
      "text/plain": [
       "<Figure size 504x360 with 1 Axes>"
      ]
     },
     "metadata": {},
     "output_type": "display_data"
    }
   ],
   "source": [
    "positions = numpy.diag(reducedSingularValues) @ reducedVt\n",
    "\n",
    "fig = plt.figure(1, figsize=(7,5))\n",
    "ax = fig.add_subplot(1,1,1)\n",
    "ax.scatter(positions[0,0*familySize:1*familySize], positions[1,0*familySize:1*familySize], color='red')\n",
    "ax.scatter(positions[0,1*familySize:2*familySize], positions[1,1*familySize:2*familySize], color='blue')\n",
    "ax.scatter(positions[0,2*familySize:3*familySize], positions[1,2*familySize:3*familySize], color='green')\n",
    "ax.grid()\n",
    "fig.suptitle('Vectors positions according\\nto the first two singular values'.title())\n",
    "ax.set_xlabel('$\\sigma_1$')\n",
    "ax.set_ylabel('$\\sigma_2$')\n",
    "ax.grid(True)\n",
    "\n",
    "plt.show()\n",
    "plt.close(fig)"
   ]
  },
  {
   "cell_type": "markdown",
   "metadata": {},
   "source": [
    "# Analysis\n",
    "\n",
    "WOW! It works as it should!\n",
    "\n",
    "It is possible to see in the above graph that the families are grouped together. It is exactly what we want. With the above data, it is possible to calculate clusters using the K-means algorithm.\n",
    "\n",
    "Well, let's do that."
   ]
  },
  {
   "cell_type": "code",
   "execution_count": 107,
   "metadata": {},
   "outputs": [],
   "source": [
    "samples = numpy.transpose(positions)\n",
    "clusters, _ = kmeans(samples, k_or_guess=3)"
   ]
  },
  {
   "cell_type": "markdown",
   "metadata": {},
   "source": [
    "I must enphasize that I am not doing that as the [scipy documentation](https://docs.scipy.org/doc/scipy/reference/generated/scipy.cluster.vq.kmeans.html#scipy.cluster.vq.kmeans) says, I'm not using the 'whiten' function. But I don't care for now, the plot is good."
   ]
  },
  {
   "cell_type": "code",
   "execution_count": 108,
   "metadata": {},
   "outputs": [
    {
     "data": {
      "image/png": "[encoded data removed]",
      "text/plain": [
       "<Figure size 504x360 with 1 Axes>"
      ]
     },
     "metadata": {},
     "output_type": "display_data"
    }
   ],
   "source": [
    "positions = numpy.diag(reducedSingularValues) @ reducedVt\n",
    "\n",
    "fig = plt.figure(1, figsize=(7,5))\n",
    "ax = fig.add_subplot(1,1,1)\n",
    "ax.scatter(positions[0,0*familySize:1*familySize], positions[1,0*familySize:1*familySize], color='red', label=r'Family $M_1$')\n",
    "ax.scatter(positions[0,1*familySize:2*familySize], positions[1,1*familySize:2*familySize], color='blue', label=r'Family $M_2$')\n",
    "ax.scatter(positions[0,2*familySize:3*familySize], positions[1,2*familySize:3*familySize], color='green', label=r'Family $M_3$')\n",
    "ax.scatter(clusters[:,0], clusters[:, 1], color='yellow', marker='x', s=100, label='clusters center'.title())\n",
    "ax.grid()\n",
    "fig.suptitle('Vectors positions according\\nto the first two singular values'.title())\n",
    "ax.set_xlabel('$\\sigma_1$')\n",
    "ax.set_ylabel('$\\sigma_2$')\n",
    "ax.legend(loc='best')\n",
    "ax.grid(True)\n",
    "\n",
    "plt.show()\n",
    "plt.close(fig)"
   ]
  }
 ],
 "metadata": {
  "kernelspec": {
   "display_name": "Python 3",
   "language": "python",
   "name": "python3"
  },
  "language_info": {
   "codemirror_mode": {
    "name": "ipython",
    "version": 3
   },
   "file_extension": ".py",
   "mimetype": "text/x-python",
   "name": "python",
   "nbconvert_exporter": "python",
   "pygments_lexer": "ipython3",
   "version": "3.6.5"
  }
 },
 "nbformat": 4,
 "nbformat_minor": 2
}
