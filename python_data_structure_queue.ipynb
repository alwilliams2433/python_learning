{
 "cells": [
  {
   "cell_type": "code",
   "execution_count": 25,
   "metadata": {},
   "outputs": [],
   "source": [
    "import queue\n",
    "import numpy"
   ]
  },
  {
   "cell_type": "code",
   "execution_count": 26,
   "metadata": {},
   "outputs": [
    {
     "name": "stdout",
     "output_type": "stream",
     "text": [
      "<queue.Queue object at 0x7f71f5255cc0> <class 'queue.Queue'>\n",
      "True\n"
     ]
    }
   ],
   "source": [
    "q = queue.Queue()\n",
    "print(q, type(q))\n",
    "print(q.empty())"
   ]
  },
  {
   "cell_type": "code",
   "execution_count": 29,
   "metadata": {},
   "outputs": [
    {
     "name": "stdout",
     "output_type": "stream",
     "text": [
      "Numbers: \n",
      " [0.14843539 0.97342784 0.84971098 0.19789217 0.14798763 0.78604268\n",
      " 0.27459641 0.18500718 0.67036708 0.80790443]\n",
      "\n",
      "Queue (first in, first out):\n",
      "\n",
      "0.14843539421359842\n",
      "0.9734278361772606\n",
      "0.8497109817238484\n",
      "0.1978921696126159\n",
      "0.1479876336403575\n",
      "0.7860426798603561\n",
      "0.27459641116358746\n",
      "0.18500718381468784\n",
      "0.6703670838258552\n",
      "0.807904430431384\n",
      "\n",
      "LifoQueue (last in, first out):\n",
      "\n",
      "0.807904430431384\n",
      "0.6703670838258552\n",
      "0.18500718381468784\n",
      "0.27459641116358746\n",
      "0.7860426798603561\n",
      "0.1479876336403575\n",
      "0.1978921696126159\n",
      "0.8497109817238484\n",
      "0.9734278361772606\n",
      "0.14843539421359842\n",
      "\n",
      "PriorityQueue (smallers first):\n",
      "\n",
      "0.1479876336403575\n",
      "0.14843539421359842\n",
      "0.18500718381468784\n",
      "0.1978921696126159\n",
      "0.27459641116358746\n",
      "0.6703670838258552\n",
      "0.7860426798603561\n",
      "0.807904430431384\n",
      "0.8497109817238484\n",
      "0.9734278361772606\n"
     ]
    }
   ],
   "source": [
    "q = queue.Queue()\n",
    "stack = queue.LifoQueue()\n",
    "priorityQueue = queue.PriorityQueue()\n",
    "numbers = numpy.random.rand(10)\n",
    "print('Numbers: \\n', numbers)\n",
    "for val in numbers:\n",
    "    q.put(val)\n",
    "    stack.put(val)\n",
    "    priorityQueue.put(val)\n",
    "print('\\nQueue (first in, first out):\\n')\n",
    "for i in range(q.qsize()):\n",
    "    print(q.get())\n",
    "print('\\nLifoQueue (last in, first out):\\n')\n",
    "for i in range(stack.qsize()):\n",
    "    print(stack.get())\n",
    "print('\\nPriorityQueue (smallers first):\\n')\n",
    "for i in range(priorityQueue.qsize()):\n",
    "    print(priorityQueue.get())"
   ]
  }
 ],
 "metadata": {
  "kernelspec": {
   "display_name": "Python 3",
   "language": "python",
   "name": "python3"
  },
  "language_info": {
   "codemirror_mode": {
    "name": "ipython",
    "version": 3
   },
   "file_extension": ".py",
   "mimetype": "text/x-python",
   "name": "python",
   "nbconvert_exporter": "python",
   "pygments_lexer": "ipython3",
   "version": "3.6.5"
  }
 },
 "nbformat": 4,
 "nbformat_minor": 2
}
