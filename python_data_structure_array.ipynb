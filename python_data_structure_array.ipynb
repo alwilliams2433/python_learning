{
 "cells": [
  {
   "cell_type": "code",
   "execution_count": 1,
   "metadata": {},
   "outputs": [],
   "source": [
    "from array import *\n",
    "import copy"
   ]
  },
  {
   "cell_type": "code",
   "execution_count": 2,
   "metadata": {},
   "outputs": [
    {
     "name": "stdout",
     "output_type": "stream",
     "text": [
      "array('b', [1, 5, 1, 2, 3, 1, 2])\n",
      "integer array size:  1\n",
      "integer array number of ones:  3\n",
      "integer array type code:  b\n"
     ]
    }
   ],
   "source": [
    "intArray = array(\"b\", [1, 5, 1, 2, 3, 1, 2])\n",
    "print(intArray)\n",
    "print(\"integer array size: \", intArray.itemsize)\n",
    "print(\"integer array number of ones: \", intArray.count(1))\n",
    "print(\"integer array type code: \", intArray.typecode)"
   ]
  },
  {
   "cell_type": "code",
   "execution_count": 3,
   "metadata": {},
   "outputs": [
    {
     "ename": "OverflowError",
     "evalue": "can't convert negative value to unsigned int",
     "output_type": "error",
     "traceback": [
      "\u001b[0;31m---------------------------------------------------------------------------\u001b[0m",
      "\u001b[0;31mOverflowError\u001b[0m                             Traceback (most recent call last)",
      "\u001b[0;32m<ipython-input-3-b13fa25cc574>\u001b[0m in \u001b[0;36m<module>\u001b[0;34m()\u001b[0m\n\u001b[0;32m----> 1\u001b[0;31m \u001b[0mnotAllowedArray\u001b[0m \u001b[0;34m=\u001b[0m \u001b[0marray\u001b[0m\u001b[0;34m(\u001b[0m\u001b[0;34m\"I\"\u001b[0m\u001b[0;34m,\u001b[0m \u001b[0;34m[\u001b[0m\u001b[0;34m-\u001b[0m\u001b[0;36m2\u001b[0m\u001b[0;34m]\u001b[0m\u001b[0;34m)\u001b[0m\u001b[0;34m\u001b[0m\u001b[0m\n\u001b[0m",
      "\u001b[0;31mOverflowError\u001b[0m: can't convert negative value to unsigned int"
     ]
    }
   ],
   "source": [
    "notAllowedArray = array(\"I\", [-2])"
   ]
  },
  {
   "cell_type": "code",
   "execution_count": 4,
   "metadata": {},
   "outputs": [
    {
     "name": "stdout",
     "output_type": "stream",
     "text": [
      "intArray[3] == 2 ?  True\n"
     ]
    }
   ],
   "source": [
    "print(\"intArray[3] == 2 ? \", intArray[3]==2)"
   ]
  },
  {
   "cell_type": "code",
   "execution_count": 5,
   "metadata": {},
   "outputs": [
    {
     "name": "stdout",
     "output_type": "stream",
     "text": [
      "array('b', [1, 5, 1, 2, 3, 1, 2])\n",
      "array('b', [2, 1, 3, 2, 1, 5, 1])\n",
      "array('b', [1, 5, 1, 2, 3, 1, 2])\n"
     ]
    }
   ],
   "source": [
    "originalArray = copy.copy(intArray)\n",
    "intArray.reverse()\n",
    "reverseArray = copy.copy(intArray)\n",
    "intArray.reverse()\n",
    "print(originalArray)\n",
    "print(reverseArray)\n",
    "print(intArray)"
   ]
  },
  {
   "cell_type": "code",
   "execution_count": 6,
   "metadata": {},
   "outputs": [
    {
     "name": "stdout",
     "output_type": "stream",
     "text": [
      "array('b', [1, 5, 1, 2, 3, 1, 2])\n",
      "array('b', [1, 5, 1, 55, 2, 3, 1, 2])\n",
      "55\n",
      "4\n",
      "0\n",
      "3\n"
     ]
    }
   ],
   "source": [
    "val = 55\n",
    "index = 3\n",
    "print(intArray)\n",
    "intArray.insert(index,val)\n",
    "print(intArray)\n",
    "print(intArray[index])\n",
    "print(intArray.index(2))\n",
    "intArray.remove(val)\n",
    "print(intArray.count(val))\n",
    "print(intArray.index(2))"
   ]
  },
  {
   "cell_type": "code",
   "execution_count": 7,
   "metadata": {},
   "outputs": [
    {
     "name": "stdout",
     "output_type": "stream",
     "text": [
      "array('b', [1, 5, 1, 2, 3, 1, 2, 14])\n"
     ]
    }
   ],
   "source": [
    "intArray.append(14)\n",
    "print(intArray)"
   ]
  },
  {
   "cell_type": "code",
   "execution_count": null,
   "metadata": {},
   "outputs": [],
   "source": []
  }
 ],
 "metadata": {
  "kernelspec": {
   "display_name": "Python 3",
   "language": "python",
   "name": "python3"
  },
  "language_info": {
   "codemirror_mode": {
    "name": "ipython",
    "version": 3
   },
   "file_extension": ".py",
   "mimetype": "text/x-python",
   "name": "python",
   "nbconvert_exporter": "python",
   "pygments_lexer": "ipython3",
   "version": "3.6.5"
  }
 },
 "nbformat": 4,
 "nbformat_minor": 2
}
