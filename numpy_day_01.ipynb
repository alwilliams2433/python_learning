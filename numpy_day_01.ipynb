{
 "cells": [
  {
   "cell_type": "code",
   "execution_count": 1,
   "metadata": {},
   "outputs": [],
   "source": [
    "import numpy"
   ]
  },
  {
   "cell_type": "code",
   "execution_count": 10,
   "metadata": {},
   "outputs": [
    {
     "name": "stdout",
     "output_type": "stream",
     "text": [
      "[[  5.   6.   7.   8.   9.  10.]\n",
      " [ -5.  -6.  -7.  -8.  -9. -10.]]\n"
     ]
    }
   ],
   "source": [
    "array0 = numpy.array([range(5,11), range(-5,-11,-1)], dtype=numpy.float64)\n",
    "print(array0)"
   ]
  },
  {
   "cell_type": "code",
   "execution_count": 13,
   "metadata": {},
   "outputs": [
    {
     "name": "stdout",
     "output_type": "stream",
     "text": [
      "[[ 3. +4.j  -5. +8.5j]\n",
      " [ 6.2-9.1j  0. +2.j ]]\n"
     ]
    }
   ],
   "source": [
    "array1 = numpy.array([\n",
    "        [numpy.complex(3,4), numpy.complex(-5,8.5)],\n",
    "        [numpy.complex(6.2,-9.1), numpy.complex(0,2)]],\n",
    "        dtype=numpy.complex_)\n",
    "print(array1)"
   ]
  },
  {
   "cell_type": "code",
   "execution_count": 37,
   "metadata": {},
   "outputs": [
    {
     "name": "stdout",
     "output_type": "stream",
     "text": [
      ">f8\n",
      "[1. 2. 3.]\n"
     ]
    }
   ],
   "source": [
    "dataType = numpy.dtype(\">f8\", True, True)\n",
    "array2 = numpy.array([1, 2, 3], dtype = dataType)\n",
    "print(array2.dtype)\n",
    "print(array2)"
   ]
  },
  {
   "cell_type": "code",
   "execution_count": 52,
   "metadata": {},
   "outputs": [
    {
     "name": "stdout",
     "output_type": "stream",
     "text": [
      "[('hour', '<i8'), ('minute', '<i8')]\n",
      "\n",
      "hours and minutes:\n",
      " [[(12,  7) ( 9, 18)]\n",
      " [( 8, 14) ( 5, 21)]]\n",
      "\n",
      "hours:\n",
      " [[12  9]\n",
      " [ 8  5]]\n",
      "\n",
      "minutes:\n",
      " [[ 7 18]\n",
      " [14 21]]\n"
     ]
    }
   ],
   "source": [
    "dataType = numpy.dtype([(\"hour\", numpy.int_), (\"minute\", numpy.int_)])\n",
    "print(dataType)\n",
    "array3 = numpy.array([\n",
    "        [(12,7), (9,18)],\n",
    "        [(8,14), (5,21)]],\n",
    "    dtype=dataType)\n",
    "print(\"\\nhours and minutes:\\n\", array3)\n",
    "print(\"\\nhours:\\n\", array3[\"hour\"])\n",
    "print(\"\\nminutes:\\n\", array3[\"minute\"])"
   ]
  },
  {
   "cell_type": "code",
   "execution_count": 56,
   "metadata": {},
   "outputs": [
    {
     "name": "stdout",
     "output_type": "stream",
     "text": [
      "[[ 5.  -2.   9.4]\n",
      " [ 7.   4.   2.6]]\n",
      "\n",
      "array4 shape:  (2, 3)\n",
      "\n",
      "array4 reshaped:\n",
      " [[ 5.  -2. ]\n",
      " [ 9.4  7. ]\n",
      " [ 4.   2.6]]\n"
     ]
    }
   ],
   "source": [
    "array4 = numpy.array([\n",
    "        [5, -2, 9.4],\n",
    "        [7, 4, 2.6]])\n",
    "print(array4)\n",
    "print(\"\\narray4 shape: \", array4.shape)\n",
    "array4.shape = (3,2)\n",
    "print(\"\\narray4 reshaped:\\n\", array4)"
   ]
  },
  {
   "cell_type": "code",
   "execution_count": 64,
   "metadata": {},
   "outputs": [
    {
     "name": "stdout",
     "output_type": "stream",
     "text": [
      "1\n",
      "[1 2 3 1 2 3 1 2 3]\n",
      "\n",
      "\n",
      "2\n",
      "8\n",
      "int64\n",
      "[[1 2 3]\n",
      " [1 2 3]\n",
      " [1 2 3]]\n"
     ]
    }
   ],
   "source": [
    "T = numpy.array(\n",
    "    [\n",
    "        1, 2, 3, 1, 2, 3, 1, 2, 3\n",
    "    ])\n",
    "print(T.ndim)\n",
    "print(T)\n",
    "print(\"\\n\")\n",
    "T = T.reshape(3,3)\n",
    "print(T.ndim)\n",
    "print(T.itemsize)\n",
    "print(T.dtype)\n",
    "print(T)"
   ]
  },
  {
   "cell_type": "code",
   "execution_count": 80,
   "metadata": {},
   "outputs": [
    {
     "name": "stdout",
     "output_type": "stream",
     "text": [
      "\n",
      "original:\n",
      " [[1. 2. 3.]\n",
      " [1. 2. 3.]]\n",
      "\n",
      "modified:\n",
      " [[7. 2. 3.]\n",
      " [1. 2. 3.]]\n"
     ]
    },
    {
     "ename": "ValueError",
     "evalue": "assignment destination is read-only",
     "output_type": "error",
     "traceback": [
      "\u001b[0;31m---------------------------------------------------------------------------\u001b[0m",
      "\u001b[0;31mValueError\u001b[0m                                Traceback (most recent call last)",
      "\u001b[0;32m<ipython-input-80-5fd88a5a9a88>\u001b[0m in \u001b[0;36m<module>\u001b[0;34m()\u001b[0m\n\u001b[1;32m      9\u001b[0m \u001b[0mprint\u001b[0m\u001b[0;34m(\u001b[0m\u001b[0;34m\"\\nmodified:\\n\"\u001b[0m\u001b[0;34m,\u001b[0m \u001b[0marray5\u001b[0m\u001b[0;34m)\u001b[0m\u001b[0;34m\u001b[0m\u001b[0m\n\u001b[1;32m     10\u001b[0m \u001b[0marray5\u001b[0m\u001b[0;34m.\u001b[0m\u001b[0mflags\u001b[0m\u001b[0;34m.\u001b[0m\u001b[0mwriteable\u001b[0m \u001b[0;34m=\u001b[0m \u001b[0;32mFalse\u001b[0m\u001b[0;34m\u001b[0m\u001b[0m\n\u001b[0;32m---> 11\u001b[0;31m \u001b[0marray5\u001b[0m\u001b[0;34m[\u001b[0m\u001b[0;36m0\u001b[0m\u001b[0;34m,\u001b[0m\u001b[0;36m0\u001b[0m\u001b[0;34m]\u001b[0m \u001b[0;34m=\u001b[0m \u001b[0;36m14\u001b[0m\u001b[0;34m\u001b[0m\u001b[0m\n\u001b[0m",
      "\u001b[0;31mValueError\u001b[0m: assignment destination is read-only"
     ]
    }
   ],
   "source": [
    "array5 = numpy.array(\n",
    "    [\n",
    "        [1, 2, 3],\n",
    "        [1, 2, 3]\n",
    "    ],\n",
    "    dtype=numpy.float_)\n",
    "print(\"\\noriginal:\\n\", array5)\n",
    "array5[0,0] = 7\n",
    "print(\"\\nmodified:\\n\", array5)\n",
    "array5.flags.writeable = False\n",
    "array5[0,0] = 14"
   ]
  }
 ],
 "metadata": {
  "kernelspec": {
   "display_name": "Python 3",
   "language": "python",
   "name": "python3"
  },
  "language_info": {
   "codemirror_mode": {
    "name": "ipython",
    "version": 3
   },
   "file_extension": ".py",
   "mimetype": "text/x-python",
   "name": "python",
   "nbconvert_exporter": "python",
   "pygments_lexer": "ipython3",
   "version": "3.6.5"
  }
 },
 "nbformat": 4,
 "nbformat_minor": 2
}
