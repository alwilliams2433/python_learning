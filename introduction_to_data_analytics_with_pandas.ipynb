{
 "cells": [
  {
   "cell_type": "code",
   "execution_count": 1,
   "metadata": {
    "collapsed": true,
    "slideshow": {
     "slide_type": "slide"
    }
   },
   "outputs": [],
   "source": [
    "# Reference: https://youtu.be/WrAkpobchUk"
   ]
  },
  {
   "cell_type": "code",
   "execution_count": 2,
   "metadata": {
    "collapsed": true,
    "slideshow": {
     "slide_type": "slide"
    }
   },
   "outputs": [],
   "source": [
    "import pandas as pd\n",
    "%matplotlib inline\n",
    "data = pd.read_csv('data/coffees.csv')"
   ]
  },
  {
   "cell_type": "code",
   "execution_count": 3,
   "metadata": {
    "slideshow": {
     "slide_type": "subslide"
    }
   },
   "outputs": [
    {
     "data": {
      "text/html": [
       "<div>\n",
       "<style>\n",
       "    .dataframe thead tr:only-child th {\n",
       "        text-align: right;\n",
       "    }\n",
       "\n",
       "    .dataframe thead th {\n",
       "        text-align: left;\n",
       "    }\n",
       "\n",
       "    .dataframe tbody tr th {\n",
       "        vertical-align: top;\n",
       "    }\n",
       "</style>\n",
       "<table border=\"1\" class=\"dataframe\">\n",
       "  <thead>\n",
       "    <tr style=\"text-align: right;\">\n",
       "      <th></th>\n",
       "      <th>timestamp</th>\n",
       "      <th>coffees</th>\n",
       "      <th>contributor</th>\n",
       "    </tr>\n",
       "  </thead>\n",
       "  <tbody>\n",
       "    <tr>\n",
       "      <th>0</th>\n",
       "      <td>2011-10-03 08:22:00</td>\n",
       "      <td>397.0</td>\n",
       "      <td>Quentin</td>\n",
       "    </tr>\n",
       "    <tr>\n",
       "      <th>1</th>\n",
       "      <td>2011-10-04 11:48:00</td>\n",
       "      <td>410.0</td>\n",
       "      <td>Quentin</td>\n",
       "    </tr>\n",
       "    <tr>\n",
       "      <th>2</th>\n",
       "      <td>2011-10-05 07:02:00</td>\n",
       "      <td>testing</td>\n",
       "      <td>Anthony</td>\n",
       "    </tr>\n",
       "    <tr>\n",
       "      <th>3</th>\n",
       "      <td>2011-10-05 08:25:00</td>\n",
       "      <td>NaN</td>\n",
       "      <td>Quentin</td>\n",
       "    </tr>\n",
       "    <tr>\n",
       "      <th>4</th>\n",
       "      <td>2011-10-05 10:47:00</td>\n",
       "      <td>464.0</td>\n",
       "      <td>Quentin</td>\n",
       "    </tr>\n",
       "  </tbody>\n",
       "</table>\n",
       "</div>"
      ],
      "text/plain": [
       "             timestamp  coffees contributor\n",
       "0  2011-10-03 08:22:00    397.0     Quentin\n",
       "1  2011-10-04 11:48:00    410.0     Quentin\n",
       "2  2011-10-05 07:02:00  testing     Anthony\n",
       "3  2011-10-05 08:25:00      NaN     Quentin\n",
       "4  2011-10-05 10:47:00    464.0     Quentin"
      ]
     },
     "execution_count": 3,
     "metadata": {},
     "output_type": "execute_result"
    }
   ],
   "source": [
    "data.head()"
   ]
  },
  {
   "cell_type": "code",
   "execution_count": 4,
   "metadata": {
    "slideshow": {
     "slide_type": "subslide"
    }
   },
   "outputs": [
    {
     "data": {
      "text/plain": [
       "timestamp      2011-10-05 07:02:00\n",
       "coffees                    testing\n",
       "contributor                Anthony\n",
       "Name: 2, dtype: object"
      ]
     },
     "execution_count": 4,
     "metadata": {},
     "output_type": "execute_result"
    }
   ],
   "source": [
    "data.loc[2]"
   ]
  },
  {
   "cell_type": "code",
   "execution_count": 5,
   "metadata": {
    "slideshow": {
     "slide_type": "slide"
    }
   },
   "outputs": [
    {
     "data": {
      "text/plain": [
       "0      397.0\n",
       "1      410.0\n",
       "2    testing\n",
       "3        NaN\n",
       "4      464.0\n",
       "Name: coffees, dtype: object"
      ]
     },
     "execution_count": 5,
     "metadata": {},
     "output_type": "execute_result"
    }
   ],
   "source": [
    "data.coffees[:5]"
   ]
  },
  {
   "cell_type": "code",
   "execution_count": 6,
   "metadata": {
    "slideshow": {
     "slide_type": "fragment"
    }
   },
   "outputs": [
    {
     "name": "stdout",
     "output_type": "stream",
     "text": [
      "671\n"
     ]
    }
   ],
   "source": [
    "print(len(data))"
   ]
  },
  {
   "cell_type": "code",
   "execution_count": 7,
   "metadata": {
    "slideshow": {
     "slide_type": "fragment"
    }
   },
   "outputs": [
    {
     "data": {
      "text/html": [
       "<div>\n",
       "<style>\n",
       "    .dataframe thead tr:only-child th {\n",
       "        text-align: right;\n",
       "    }\n",
       "\n",
       "    .dataframe thead th {\n",
       "        text-align: left;\n",
       "    }\n",
       "\n",
       "    .dataframe tbody tr th {\n",
       "        vertical-align: top;\n",
       "    }\n",
       "</style>\n",
       "<table border=\"1\" class=\"dataframe\">\n",
       "  <thead>\n",
       "    <tr style=\"text-align: right;\">\n",
       "      <th></th>\n",
       "      <th>timestamp</th>\n",
       "      <th>coffees</th>\n",
       "      <th>contributor</th>\n",
       "    </tr>\n",
       "  </thead>\n",
       "  <tbody>\n",
       "    <tr>\n",
       "      <th>count</th>\n",
       "      <td>671</td>\n",
       "      <td>658</td>\n",
       "      <td>671</td>\n",
       "    </tr>\n",
       "    <tr>\n",
       "      <th>unique</th>\n",
       "      <td>671</td>\n",
       "      <td>654</td>\n",
       "      <td>9</td>\n",
       "    </tr>\n",
       "    <tr>\n",
       "      <th>top</th>\n",
       "      <td>2011-12-09 10:32:00</td>\n",
       "      <td>13523.0</td>\n",
       "      <td>Quentin</td>\n",
       "    </tr>\n",
       "    <tr>\n",
       "      <th>freq</th>\n",
       "      <td>1</td>\n",
       "      <td>2</td>\n",
       "      <td>367</td>\n",
       "    </tr>\n",
       "  </tbody>\n",
       "</table>\n",
       "</div>"
      ],
      "text/plain": [
       "                  timestamp  coffees contributor\n",
       "count                   671      658         671\n",
       "unique                  671      654           9\n",
       "top     2011-12-09 10:32:00  13523.0     Quentin\n",
       "freq                      1        2         367"
      ]
     },
     "execution_count": 7,
     "metadata": {},
     "output_type": "execute_result"
    }
   ],
   "source": [
    "data.describe()"
   ]
  },
  {
   "cell_type": "code",
   "execution_count": 8,
   "metadata": {
    "slideshow": {
     "slide_type": "slide"
    }
   },
   "outputs": [
    {
     "data": {
      "text/html": [
       "<div>\n",
       "<style>\n",
       "    .dataframe thead tr:only-child th {\n",
       "        text-align: right;\n",
       "    }\n",
       "\n",
       "    .dataframe thead th {\n",
       "        text-align: left;\n",
       "    }\n",
       "\n",
       "    .dataframe tbody tr th {\n",
       "        vertical-align: top;\n",
       "    }\n",
       "</style>\n",
       "<table border=\"1\" class=\"dataframe\">\n",
       "  <thead>\n",
       "    <tr style=\"text-align: right;\">\n",
       "      <th></th>\n",
       "      <th>timestamp</th>\n",
       "      <th>coffees</th>\n",
       "      <th>contributor</th>\n",
       "    </tr>\n",
       "  </thead>\n",
       "  <tbody>\n",
       "    <tr>\n",
       "      <th>3</th>\n",
       "      <td>2011-10-05 08:25:00</td>\n",
       "      <td>NaN</td>\n",
       "      <td>Quentin</td>\n",
       "    </tr>\n",
       "    <tr>\n",
       "      <th>15</th>\n",
       "      <td>2011-10-07 14:10:00</td>\n",
       "      <td>NaN</td>\n",
       "      <td>Ben</td>\n",
       "    </tr>\n",
       "    <tr>\n",
       "      <th>72</th>\n",
       "      <td>2011-10-28 10:53:00</td>\n",
       "      <td>NaN</td>\n",
       "      <td>Mike M</td>\n",
       "    </tr>\n",
       "    <tr>\n",
       "      <th>95</th>\n",
       "      <td>2011-11-11 11:13:00</td>\n",
       "      <td>NaN</td>\n",
       "      <td>Quentin</td>\n",
       "    </tr>\n",
       "    <tr>\n",
       "      <th>323</th>\n",
       "      <td>2012-06-10 16:10:00</td>\n",
       "      <td>NaN</td>\n",
       "      <td>Sergio</td>\n",
       "    </tr>\n",
       "    <tr>\n",
       "      <th>370</th>\n",
       "      <td>2012-07-13 13:59:00</td>\n",
       "      <td>NaN</td>\n",
       "      <td>Mike</td>\n",
       "    </tr>\n",
       "    <tr>\n",
       "      <th>394</th>\n",
       "      <td>2012-08-03 14:35:00</td>\n",
       "      <td>NaN</td>\n",
       "      <td>Sergio</td>\n",
       "    </tr>\n",
       "    <tr>\n",
       "      <th>479</th>\n",
       "      <td>2012-09-21 10:15:00</td>\n",
       "      <td>NaN</td>\n",
       "      <td>Sergio</td>\n",
       "    </tr>\n",
       "    <tr>\n",
       "      <th>562</th>\n",
       "      <td>2012-11-01 09:45:00</td>\n",
       "      <td>NaN</td>\n",
       "      <td>Quentin</td>\n",
       "    </tr>\n",
       "    <tr>\n",
       "      <th>606</th>\n",
       "      <td>2012-11-30 13:11:00</td>\n",
       "      <td>NaN</td>\n",
       "      <td>Quentin</td>\n",
       "    </tr>\n",
       "    <tr>\n",
       "      <th>641</th>\n",
       "      <td>2013-01-28 10:43:00</td>\n",
       "      <td>NaN</td>\n",
       "      <td>Sergio</td>\n",
       "    </tr>\n",
       "    <tr>\n",
       "      <th>642</th>\n",
       "      <td>2013-01-28 13:13:00</td>\n",
       "      <td>NaN</td>\n",
       "      <td>Quentin</td>\n",
       "    </tr>\n",
       "    <tr>\n",
       "      <th>653</th>\n",
       "      <td>2013-02-18 12:04:00</td>\n",
       "      <td>NaN</td>\n",
       "      <td>Quentin</td>\n",
       "    </tr>\n",
       "  </tbody>\n",
       "</table>\n",
       "</div>"
      ],
      "text/plain": [
       "               timestamp coffees contributor\n",
       "3    2011-10-05 08:25:00     NaN     Quentin\n",
       "15   2011-10-07 14:10:00     NaN         Ben\n",
       "72   2011-10-28 10:53:00     NaN      Mike M\n",
       "95   2011-11-11 11:13:00     NaN     Quentin\n",
       "323  2012-06-10 16:10:00     NaN      Sergio\n",
       "370  2012-07-13 13:59:00     NaN        Mike\n",
       "394  2012-08-03 14:35:00     NaN      Sergio\n",
       "479  2012-09-21 10:15:00     NaN      Sergio\n",
       "562  2012-11-01 09:45:00     NaN     Quentin\n",
       "606  2012-11-30 13:11:00     NaN     Quentin\n",
       "641  2013-01-28 10:43:00     NaN      Sergio\n",
       "642  2013-01-28 13:13:00     NaN     Quentin\n",
       "653  2013-02-18 12:04:00     NaN     Quentin"
      ]
     },
     "execution_count": 8,
     "metadata": {},
     "output_type": "execute_result"
    }
   ],
   "source": [
    "data[data.coffees.isnull()]"
   ]
  },
  {
   "cell_type": "code",
   "execution_count": 9,
   "metadata": {
    "slideshow": {
     "slide_type": "skip"
    }
   },
   "outputs": [
    {
     "data": {
      "text/plain": [
       "timestamp      object\n",
       "coffees        object\n",
       "contributor    object\n",
       "dtype: object"
      ]
     },
     "execution_count": 9,
     "metadata": {},
     "output_type": "execute_result"
    }
   ],
   "source": [
    "data.dtypes"
   ]
  },
  {
   "cell_type": "code",
   "execution_count": 10,
   "metadata": {
    "slideshow": {
     "slide_type": "skip"
    }
   },
   "outputs": [
    {
     "data": {
      "text/html": [
       "<div>\n",
       "<style>\n",
       "    .dataframe thead tr:only-child th {\n",
       "        text-align: right;\n",
       "    }\n",
       "\n",
       "    .dataframe thead th {\n",
       "        text-align: left;\n",
       "    }\n",
       "\n",
       "    .dataframe tbody tr th {\n",
       "        vertical-align: top;\n",
       "    }\n",
       "</style>\n",
       "<table border=\"1\" class=\"dataframe\">\n",
       "  <thead>\n",
       "    <tr style=\"text-align: right;\">\n",
       "      <th></th>\n",
       "      <th>timestamp</th>\n",
       "      <th>coffees</th>\n",
       "      <th>contributor</th>\n",
       "    </tr>\n",
       "  </thead>\n",
       "  <tbody>\n",
       "    <tr>\n",
       "      <th>0</th>\n",
       "      <td>2011-10-03 08:22:00</td>\n",
       "      <td>397.0</td>\n",
       "      <td>Quentin</td>\n",
       "    </tr>\n",
       "    <tr>\n",
       "      <th>1</th>\n",
       "      <td>2011-10-04 11:48:00</td>\n",
       "      <td>410.0</td>\n",
       "      <td>Quentin</td>\n",
       "    </tr>\n",
       "    <tr>\n",
       "      <th>2</th>\n",
       "      <td>2011-10-05 07:02:00</td>\n",
       "      <td>NaN</td>\n",
       "      <td>Anthony</td>\n",
       "    </tr>\n",
       "    <tr>\n",
       "      <th>3</th>\n",
       "      <td>2011-10-05 08:25:00</td>\n",
       "      <td>NaN</td>\n",
       "      <td>Quentin</td>\n",
       "    </tr>\n",
       "    <tr>\n",
       "      <th>4</th>\n",
       "      <td>2011-10-05 10:47:00</td>\n",
       "      <td>464.0</td>\n",
       "      <td>Quentin</td>\n",
       "    </tr>\n",
       "  </tbody>\n",
       "</table>\n",
       "</div>"
      ],
      "text/plain": [
       "             timestamp  coffees contributor\n",
       "0  2011-10-03 08:22:00    397.0     Quentin\n",
       "1  2011-10-04 11:48:00    410.0     Quentin\n",
       "2  2011-10-05 07:02:00      NaN     Anthony\n",
       "3  2011-10-05 08:25:00      NaN     Quentin\n",
       "4  2011-10-05 10:47:00    464.0     Quentin"
      ]
     },
     "execution_count": 10,
     "metadata": {},
     "output_type": "execute_result"
    }
   ],
   "source": [
    "data.coffees = pd.to_numeric(data.coffees, errors='coerce')\n",
    "\n",
    "data.head()"
   ]
  },
  {
   "cell_type": "code",
   "execution_count": 11,
   "metadata": {
    "slideshow": {
     "slide_type": "skip"
    }
   },
   "outputs": [
    {
     "data": {
      "text/plain": [
       "timestamp       object\n",
       "coffees        float64\n",
       "contributor     object\n",
       "dtype: object"
      ]
     },
     "execution_count": 11,
     "metadata": {},
     "output_type": "execute_result"
    }
   ],
   "source": [
    "data.dtypes"
   ]
  },
  {
   "cell_type": "code",
   "execution_count": 12,
   "metadata": {
    "slideshow": {
     "slide_type": "slide"
    }
   },
   "outputs": [
    {
     "data": {
      "text/html": [
       "<div>\n",
       "<style>\n",
       "    .dataframe thead tr:only-child th {\n",
       "        text-align: right;\n",
       "    }\n",
       "\n",
       "    .dataframe thead th {\n",
       "        text-align: left;\n",
       "    }\n",
       "\n",
       "    .dataframe tbody tr th {\n",
       "        vertical-align: top;\n",
       "    }\n",
       "</style>\n",
       "<table border=\"1\" class=\"dataframe\">\n",
       "  <thead>\n",
       "    <tr style=\"text-align: right;\">\n",
       "      <th></th>\n",
       "      <th>timestamp</th>\n",
       "      <th>coffees</th>\n",
       "      <th>contributor</th>\n",
       "    </tr>\n",
       "  </thead>\n",
       "  <tbody>\n",
       "    <tr>\n",
       "      <th>0</th>\n",
       "      <td>2011-10-03 08:22:00</td>\n",
       "      <td>397.0</td>\n",
       "      <td>Quentin</td>\n",
       "    </tr>\n",
       "    <tr>\n",
       "      <th>1</th>\n",
       "      <td>2011-10-04 11:48:00</td>\n",
       "      <td>410.0</td>\n",
       "      <td>Quentin</td>\n",
       "    </tr>\n",
       "    <tr>\n",
       "      <th>4</th>\n",
       "      <td>2011-10-05 10:47:00</td>\n",
       "      <td>464.0</td>\n",
       "      <td>Quentin</td>\n",
       "    </tr>\n",
       "    <tr>\n",
       "      <th>5</th>\n",
       "      <td>2011-10-05 13:15:00</td>\n",
       "      <td>481.0</td>\n",
       "      <td>Quentin</td>\n",
       "    </tr>\n",
       "    <tr>\n",
       "      <th>6</th>\n",
       "      <td>2011-10-06 07:21:00</td>\n",
       "      <td>503.0</td>\n",
       "      <td>Anthony</td>\n",
       "    </tr>\n",
       "  </tbody>\n",
       "</table>\n",
       "</div>"
      ],
      "text/plain": [
       "             timestamp  coffees contributor\n",
       "0  2011-10-03 08:22:00    397.0     Quentin\n",
       "1  2011-10-04 11:48:00    410.0     Quentin\n",
       "4  2011-10-05 10:47:00    464.0     Quentin\n",
       "5  2011-10-05 13:15:00    481.0     Quentin\n",
       "6  2011-10-06 07:21:00    503.0     Anthony"
      ]
     },
     "execution_count": 12,
     "metadata": {},
     "output_type": "execute_result"
    }
   ],
   "source": [
    "data.dropna(inplace=True)\n",
    "data.head()"
   ]
  },
  {
   "cell_type": "code",
   "execution_count": 15,
   "metadata": {
    "slideshow": {
     "slide_type": "notes"
    }
   },
   "outputs": [
    {
     "name": "stdout",
     "output_type": "stream",
     "text": [
      "timestamp      datetime64[ns]\n",
      "coffees                 int32\n",
      "contributor            object\n",
      "dtype: object\n"
     ]
    },
    {
     "data": {
      "text/html": [
       "<div>\n",
       "<style>\n",
       "    .dataframe thead tr:only-child th {\n",
       "        text-align: right;\n",
       "    }\n",
       "\n",
       "    .dataframe thead th {\n",
       "        text-align: left;\n",
       "    }\n",
       "\n",
       "    .dataframe tbody tr th {\n",
       "        vertical-align: top;\n",
       "    }\n",
       "</style>\n",
       "<table border=\"1\" class=\"dataframe\">\n",
       "  <thead>\n",
       "    <tr style=\"text-align: right;\">\n",
       "      <th></th>\n",
       "      <th>timestamp</th>\n",
       "      <th>coffees</th>\n",
       "      <th>contributor</th>\n",
       "    </tr>\n",
       "  </thead>\n",
       "  <tbody>\n",
       "    <tr>\n",
       "      <th>0</th>\n",
       "      <td>2011-10-03 08:22:00</td>\n",
       "      <td>397</td>\n",
       "      <td>Quentin</td>\n",
       "    </tr>\n",
       "    <tr>\n",
       "      <th>1</th>\n",
       "      <td>2011-10-04 11:48:00</td>\n",
       "      <td>410</td>\n",
       "      <td>Quentin</td>\n",
       "    </tr>\n",
       "    <tr>\n",
       "      <th>4</th>\n",
       "      <td>2011-10-05 10:47:00</td>\n",
       "      <td>464</td>\n",
       "      <td>Quentin</td>\n",
       "    </tr>\n",
       "    <tr>\n",
       "      <th>5</th>\n",
       "      <td>2011-10-05 13:15:00</td>\n",
       "      <td>481</td>\n",
       "      <td>Quentin</td>\n",
       "    </tr>\n",
       "    <tr>\n",
       "      <th>6</th>\n",
       "      <td>2011-10-06 07:21:00</td>\n",
       "      <td>503</td>\n",
       "      <td>Anthony</td>\n",
       "    </tr>\n",
       "  </tbody>\n",
       "</table>\n",
       "</div>"
      ],
      "text/plain": [
       "            timestamp  coffees contributor\n",
       "0 2011-10-03 08:22:00      397     Quentin\n",
       "1 2011-10-04 11:48:00      410     Quentin\n",
       "4 2011-10-05 10:47:00      464     Quentin\n",
       "5 2011-10-05 13:15:00      481     Quentin\n",
       "6 2011-10-06 07:21:00      503     Anthony"
      ]
     },
     "execution_count": 15,
     "metadata": {},
     "output_type": "execute_result"
    }
   ],
   "source": [
    "data.coffees = data.coffees.astype(int)\n",
    "data.timestamp = pd.to_datetime(data.timestamp)\n",
    "print(data.dtypes)\n",
    "data.head()"
   ]
  },
  {
   "cell_type": "code",
   "execution_count": 16,
   "metadata": {},
   "outputs": [
    {
     "data": {
      "text/plain": [
       "Timestamp('2011-10-03 08:22:00')"
      ]
     },
     "execution_count": 16,
     "metadata": {},
     "output_type": "execute_result"
    }
   ],
   "source": [
    "data.timestamp[0]"
   ]
  },
  {
   "cell_type": "code",
   "execution_count": null,
   "metadata": {},
   "outputs": [],
   "source": [
    "data.describe(include='all')"
   ]
  },
  {
   "cell_type": "code",
   "execution_count": 18,
   "metadata": {},
   "outputs": [
    {
     "data": {
      "text/plain": [
       "<matplotlib.axes._subplots.AxesSubplot at 0xa7604e0>"
      ]
     },
     "execution_count": 18,
     "metadata": {},
     "output_type": "execute_result"
    },
    {
     "data": {
      "image/png": "[encoded data removed]",
      "text/plain": [
       "<matplotlib.figure.Figure at 0xa6bbf60>"
      ]
     },
     "metadata": {},
     "output_type": "display_data"
    }
   ],
   "source": [
    "data.coffees.plot()"
   ]
  },
  {
   "cell_type": "code",
   "execution_count": 19,
   "metadata": {},
   "outputs": [
    {
     "data": {
      "text/plain": [
       "<matplotlib.axes._subplots.AxesSubplot at 0xa942668>"
      ]
     },
     "execution_count": 19,
     "metadata": {},
     "output_type": "execute_result"
    },
    {
     "data": {
      "image/png": "[encoded data removed]",
      "text/plain": [
       "<matplotlib.figure.Figure at 0xa7607b8>"
      ]
     },
     "metadata": {},
     "output_type": "display_data"
    }
   ],
   "source": [
    "data.plot(x=data.timestamp, style='.-')"
   ]
  },
  {
   "cell_type": "code",
   "execution_count": 20,
   "metadata": {},
   "outputs": [
    {
     "data": {
      "text/html": [
       "<div>\n",
       "<style>\n",
       "    .dataframe thead tr:only-child th {\n",
       "        text-align: right;\n",
       "    }\n",
       "\n",
       "    .dataframe thead th {\n",
       "        text-align: left;\n",
       "    }\n",
       "\n",
       "    .dataframe tbody tr th {\n",
       "        vertical-align: top;\n",
       "    }\n",
       "</style>\n",
       "<table border=\"1\" class=\"dataframe\">\n",
       "  <thead>\n",
       "    <tr style=\"text-align: right;\">\n",
       "      <th></th>\n",
       "      <th>timestamp</th>\n",
       "      <th>coffees</th>\n",
       "      <th>contributor</th>\n",
       "    </tr>\n",
       "  </thead>\n",
       "  <tbody>\n",
       "    <tr>\n",
       "      <th>661</th>\n",
       "      <td>2013-03-04 11:12:00</td>\n",
       "      <td>17793</td>\n",
       "      <td>Quentin</td>\n",
       "    </tr>\n",
       "    <tr>\n",
       "      <th>662</th>\n",
       "      <td>2013-03-04 16:43:00</td>\n",
       "      <td>17824</td>\n",
       "      <td>Quentin</td>\n",
       "    </tr>\n",
       "    <tr>\n",
       "      <th>663</th>\n",
       "      <td>2013-03-05 10:42:00</td>\n",
       "      <td>17852</td>\n",
       "      <td>Quentin</td>\n",
       "    </tr>\n",
       "    <tr>\n",
       "      <th>664</th>\n",
       "      <td>2013-03-05 13:29:00</td>\n",
       "      <td>17868</td>\n",
       "      <td>Quentin</td>\n",
       "    </tr>\n",
       "    <tr>\n",
       "      <th>665</th>\n",
       "      <td>2013-03-08 10:28:00</td>\n",
       "      <td>18062</td>\n",
       "      <td>Quentin</td>\n",
       "    </tr>\n",
       "    <tr>\n",
       "      <th>666</th>\n",
       "      <td>2013-03-12 08:28:00</td>\n",
       "      <td>18235</td>\n",
       "      <td>Sergio</td>\n",
       "    </tr>\n",
       "    <tr>\n",
       "      <th>667</th>\n",
       "      <td>2013-04-05 11:20:00</td>\n",
       "      <td>18942</td>\n",
       "      <td>Sergio</td>\n",
       "    </tr>\n",
       "    <tr>\n",
       "      <th>668</th>\n",
       "      <td>2013-04-27 11:04:00</td>\n",
       "      <td>19698</td>\n",
       "      <td>Sergio</td>\n",
       "    </tr>\n",
       "    <tr>\n",
       "      <th>669</th>\n",
       "      <td>2013-09-12 15:38:00</td>\n",
       "      <td>24450</td>\n",
       "      <td>Quentin</td>\n",
       "    </tr>\n",
       "    <tr>\n",
       "      <th>670</th>\n",
       "      <td>2013-09-13 10:28:00</td>\n",
       "      <td>24463</td>\n",
       "      <td>Quentin</td>\n",
       "    </tr>\n",
       "  </tbody>\n",
       "</table>\n",
       "</div>"
      ],
      "text/plain": [
       "              timestamp  coffees contributor\n",
       "661 2013-03-04 11:12:00    17793     Quentin\n",
       "662 2013-03-04 16:43:00    17824     Quentin\n",
       "663 2013-03-05 10:42:00    17852     Quentin\n",
       "664 2013-03-05 13:29:00    17868     Quentin\n",
       "665 2013-03-08 10:28:00    18062     Quentin\n",
       "666 2013-03-12 08:28:00    18235      Sergio\n",
       "667 2013-04-05 11:20:00    18942      Sergio\n",
       "668 2013-04-27 11:04:00    19698      Sergio\n",
       "669 2013-09-12 15:38:00    24450     Quentin\n",
       "670 2013-09-13 10:28:00    24463     Quentin"
      ]
     },
     "execution_count": 20,
     "metadata": {},
     "output_type": "execute_result"
    }
   ],
   "source": [
    "data.tail(10)"
   ]
  },
  {
   "cell_type": "code",
   "execution_count": 21,
   "metadata": {
    "collapsed": true
   },
   "outputs": [],
   "source": [
    "data = data[data.timestamp < '2013-03-01']"
   ]
  },
  {
   "cell_type": "code",
   "execution_count": 22,
   "metadata": {},
   "outputs": [
    {
     "data": {
      "text/html": [
       "<div>\n",
       "<style>\n",
       "    .dataframe thead tr:only-child th {\n",
       "        text-align: right;\n",
       "    }\n",
       "\n",
       "    .dataframe thead th {\n",
       "        text-align: left;\n",
       "    }\n",
       "\n",
       "    .dataframe tbody tr th {\n",
       "        vertical-align: top;\n",
       "    }\n",
       "</style>\n",
       "<table border=\"1\" class=\"dataframe\">\n",
       "  <thead>\n",
       "    <tr style=\"text-align: right;\">\n",
       "      <th></th>\n",
       "      <th>timestamp</th>\n",
       "      <th>coffees</th>\n",
       "      <th>contributor</th>\n",
       "    </tr>\n",
       "  </thead>\n",
       "  <tbody>\n",
       "    <tr>\n",
       "      <th>655</th>\n",
       "      <td>2013-02-21 13:44:00</td>\n",
       "      <td>17345</td>\n",
       "      <td>Quentin</td>\n",
       "    </tr>\n",
       "    <tr>\n",
       "      <th>656</th>\n",
       "      <td>2013-02-21 15:02:00</td>\n",
       "      <td>17354</td>\n",
       "      <td>Quentin</td>\n",
       "    </tr>\n",
       "    <tr>\n",
       "      <th>657</th>\n",
       "      <td>2013-02-25 13:33:00</td>\n",
       "      <td>17468</td>\n",
       "      <td>Quentin</td>\n",
       "    </tr>\n",
       "    <tr>\n",
       "      <th>658</th>\n",
       "      <td>2013-02-25 17:25:00</td>\n",
       "      <td>17489</td>\n",
       "      <td>Quentin</td>\n",
       "    </tr>\n",
       "    <tr>\n",
       "      <th>659</th>\n",
       "      <td>2013-02-27 09:33:00</td>\n",
       "      <td>17564</td>\n",
       "      <td>Quentin</td>\n",
       "    </tr>\n",
       "  </tbody>\n",
       "</table>\n",
       "</div>"
      ],
      "text/plain": [
       "              timestamp  coffees contributor\n",
       "655 2013-02-21 13:44:00    17345     Quentin\n",
       "656 2013-02-21 15:02:00    17354     Quentin\n",
       "657 2013-02-25 13:33:00    17468     Quentin\n",
       "658 2013-02-25 17:25:00    17489     Quentin\n",
       "659 2013-02-27 09:33:00    17564     Quentin"
      ]
     },
     "execution_count": 22,
     "metadata": {},
     "output_type": "execute_result"
    }
   ],
   "source": [
    "data.tail()"
   ]
  },
  {
   "cell_type": "code",
   "execution_count": 23,
   "metadata": {},
   "outputs": [
    {
     "data": {
      "text/plain": [
       "<matplotlib.axes._subplots.AxesSubplot at 0xa912940>"
      ]
     },
     "execution_count": 23,
     "metadata": {},
     "output_type": "execute_result"
    },
    {
     "data": {
      "image/png": "[encoded data removed]",
      "text/plain": [
       "<matplotlib.figure.Figure at 0xbbd52b0>"
      ]
     },
     "metadata": {},
     "output_type": "display_data"
    }
   ],
   "source": [
    "data.plot(x=data.timestamp, style='.-')"
   ]
  },
  {
   "cell_type": "code",
   "execution_count": 24,
   "metadata": {},
   "outputs": [
    {
     "name": "stdout",
     "output_type": "stream",
     "text": [
      "Type: <class 'pandas.core.series.Series'>\n",
      "Indices: Index(['Quentin', 'Mike', 'Sergio', 'Mike M', 'Colm', 'Anthony', 'Ben',\n",
      "       'Stefano', 'Arturo'],\n",
      "      dtype='object')\n",
      "Values: [354 152  89  29  12   4   3   2   1]\n",
      "\n",
      "Quentin    354\n",
      "Mike       152\n",
      "Sergio      89\n",
      "Mike M      29\n",
      "Colm        12\n",
      "Anthony      4\n",
      "Ben          3\n",
      "Stefano      2\n",
      "Arturo       1\n",
      "Name: contributor, dtype: int64\n"
     ]
    }
   ],
   "source": [
    "vc = data.contributor.value_counts()\n",
    "print('Type:', type(vc))\n",
    "print('Indices:', vc.index)\n",
    "print('Values:', vc.values)\n",
    "print()\n",
    "print(vc)"
   ]
  },
  {
   "cell_type": "code",
   "execution_count": 25,
   "metadata": {},
   "outputs": [
    {
     "data": {
      "text/plain": [
       "<matplotlib.axes._subplots.AxesSubplot at 0xbbf64a8>"
      ]
     },
     "execution_count": 25,
     "metadata": {},
     "output_type": "execute_result"
    },
    {
     "data": {
      "image/png": "[encoded data removed]",
      "text/plain": [
       "<matplotlib.figure.Figure at 0xbc084e0>"
      ]
     },
     "metadata": {},
     "output_type": "display_data"
    }
   ],
   "source": [
    "data.contributor.value_counts().plot(kind='bar')"
   ]
  },
  {
   "cell_type": "code",
   "execution_count": 26,
   "metadata": {},
   "outputs": [
    {
     "data": {
      "text/html": [
       "<div>\n",
       "<style>\n",
       "    .dataframe thead tr:only-child th {\n",
       "        text-align: right;\n",
       "    }\n",
       "\n",
       "    .dataframe thead th {\n",
       "        text-align: left;\n",
       "    }\n",
       "\n",
       "    .dataframe tbody tr th {\n",
       "        vertical-align: top;\n",
       "    }\n",
       "</style>\n",
       "<table border=\"1\" class=\"dataframe\">\n",
       "  <thead>\n",
       "    <tr style=\"text-align: right;\">\n",
       "      <th></th>\n",
       "      <th>timestamp</th>\n",
       "      <th>coffees</th>\n",
       "      <th>contributor</th>\n",
       "      <th>weekdays</th>\n",
       "    </tr>\n",
       "  </thead>\n",
       "  <tbody>\n",
       "    <tr>\n",
       "      <th>0</th>\n",
       "      <td>2011-10-03 08:22:00</td>\n",
       "      <td>397</td>\n",
       "      <td>Quentin</td>\n",
       "      <td>Monday</td>\n",
       "    </tr>\n",
       "    <tr>\n",
       "      <th>1</th>\n",
       "      <td>2011-10-04 11:48:00</td>\n",
       "      <td>410</td>\n",
       "      <td>Quentin</td>\n",
       "      <td>Tuesday</td>\n",
       "    </tr>\n",
       "    <tr>\n",
       "      <th>4</th>\n",
       "      <td>2011-10-05 10:47:00</td>\n",
       "      <td>464</td>\n",
       "      <td>Quentin</td>\n",
       "      <td>Wednesday</td>\n",
       "    </tr>\n",
       "    <tr>\n",
       "      <th>5</th>\n",
       "      <td>2011-10-05 13:15:00</td>\n",
       "      <td>481</td>\n",
       "      <td>Quentin</td>\n",
       "      <td>Wednesday</td>\n",
       "    </tr>\n",
       "    <tr>\n",
       "      <th>6</th>\n",
       "      <td>2011-10-06 07:21:00</td>\n",
       "      <td>503</td>\n",
       "      <td>Anthony</td>\n",
       "      <td>Thursday</td>\n",
       "    </tr>\n",
       "  </tbody>\n",
       "</table>\n",
       "</div>"
      ],
      "text/plain": [
       "            timestamp  coffees contributor   weekdays\n",
       "0 2011-10-03 08:22:00      397     Quentin     Monday\n",
       "1 2011-10-04 11:48:00      410     Quentin    Tuesday\n",
       "4 2011-10-05 10:47:00      464     Quentin  Wednesday\n",
       "5 2011-10-05 13:15:00      481     Quentin  Wednesday\n",
       "6 2011-10-06 07:21:00      503     Anthony   Thursday"
      ]
     },
     "execution_count": 26,
     "metadata": {},
     "output_type": "execute_result"
    }
   ],
   "source": [
    "weekdays = data.timestamp.dt.weekday_name\n",
    "\n",
    "data = data.assign(weekdays=weekdays)\n",
    "data.head()"
   ]
  },
  {
   "cell_type": "code",
   "execution_count": 27,
   "metadata": {},
   "outputs": [
    {
     "data": {
      "text/html": [
       "<div>\n",
       "<style>\n",
       "    .dataframe thead tr:only-child th {\n",
       "        text-align: right;\n",
       "    }\n",
       "\n",
       "    .dataframe thead th {\n",
       "        text-align: left;\n",
       "    }\n",
       "\n",
       "    .dataframe tbody tr th {\n",
       "        vertical-align: top;\n",
       "    }\n",
       "</style>\n",
       "<table border=\"1\" class=\"dataframe\">\n",
       "  <thead>\n",
       "    <tr style=\"text-align: right;\">\n",
       "      <th></th>\n",
       "      <th>timestamp</th>\n",
       "      <th>coffees</th>\n",
       "      <th>contributor</th>\n",
       "    </tr>\n",
       "    <tr>\n",
       "      <th>weekdays</th>\n",
       "      <th></th>\n",
       "      <th></th>\n",
       "      <th></th>\n",
       "    </tr>\n",
       "  </thead>\n",
       "  <tbody>\n",
       "    <tr>\n",
       "      <th>Monday</th>\n",
       "      <td>145</td>\n",
       "      <td>145</td>\n",
       "      <td>145</td>\n",
       "    </tr>\n",
       "    <tr>\n",
       "      <th>Tuesday</th>\n",
       "      <td>97</td>\n",
       "      <td>97</td>\n",
       "      <td>97</td>\n",
       "    </tr>\n",
       "    <tr>\n",
       "      <th>Wednesday</th>\n",
       "      <td>131</td>\n",
       "      <td>131</td>\n",
       "      <td>131</td>\n",
       "    </tr>\n",
       "    <tr>\n",
       "      <th>Thursday</th>\n",
       "      <td>117</td>\n",
       "      <td>117</td>\n",
       "      <td>117</td>\n",
       "    </tr>\n",
       "    <tr>\n",
       "      <th>Friday</th>\n",
       "      <td>114</td>\n",
       "      <td>114</td>\n",
       "      <td>114</td>\n",
       "    </tr>\n",
       "    <tr>\n",
       "      <th>Saturday</th>\n",
       "      <td>29</td>\n",
       "      <td>29</td>\n",
       "      <td>29</td>\n",
       "    </tr>\n",
       "    <tr>\n",
       "      <th>Sunday</th>\n",
       "      <td>13</td>\n",
       "      <td>13</td>\n",
       "      <td>13</td>\n",
       "    </tr>\n",
       "  </tbody>\n",
       "</table>\n",
       "</div>"
      ],
      "text/plain": [
       "           timestamp  coffees  contributor\n",
       "weekdays                                  \n",
       "Monday           145      145          145\n",
       "Tuesday           97       97           97\n",
       "Wednesday        131      131          131\n",
       "Thursday         117      117          117\n",
       "Friday           114      114          114\n",
       "Saturday          29       29           29\n",
       "Sunday            13       13           13"
      ]
     },
     "execution_count": 27,
     "metadata": {},
     "output_type": "execute_result"
    }
   ],
   "source": [
    "weekday_names = ['Monday', 'Tuesday', 'Wednesday', 'Thursday', 'Friday', 'Saturday', 'Sunday']\n",
    "weekday_count = data.groupby('weekdays').count()\n",
    "weekday_count = weekday_count.loc[weekday_names]\n",
    "\n",
    "weekday_count"
   ]
  },
  {
   "cell_type": "code",
   "execution_count": 28,
   "metadata": {},
   "outputs": [
    {
     "data": {
      "text/plain": [
       "<matplotlib.axes._subplots.AxesSubplot at 0xbcb99b0>"
      ]
     },
     "execution_count": 28,
     "metadata": {},
     "output_type": "execute_result"
    },
    {
     "data": {
      "image/png": "[encoded data removed]",
      "text/plain": [
       "<matplotlib.figure.Figure at 0xbcaab38>"
      ]
     },
     "metadata": {},
     "output_type": "display_data"
    }
   ],
   "source": [
    "weekday_count.coffees.plot(kind='bar')"
   ]
  },
  {
   "cell_type": "code",
   "execution_count": 29,
   "metadata": {},
   "outputs": [
    {
     "data": {
      "text/html": [
       "<div>\n",
       "<style>\n",
       "    .dataframe thead tr:only-child th {\n",
       "        text-align: right;\n",
       "    }\n",
       "\n",
       "    .dataframe thead th {\n",
       "        text-align: left;\n",
       "    }\n",
       "\n",
       "    .dataframe tbody tr th {\n",
       "        vertical-align: top;\n",
       "    }\n",
       "</style>\n",
       "<table border=\"1\" class=\"dataframe\">\n",
       "  <thead>\n",
       "    <tr style=\"text-align: right;\">\n",
       "      <th></th>\n",
       "      <th>timestamp</th>\n",
       "      <th>coffees</th>\n",
       "      <th>contributor</th>\n",
       "      <th>weekdays</th>\n",
       "    </tr>\n",
       "    <tr>\n",
       "      <th>timestamp</th>\n",
       "      <th></th>\n",
       "      <th></th>\n",
       "      <th></th>\n",
       "      <th></th>\n",
       "    </tr>\n",
       "  </thead>\n",
       "  <tbody>\n",
       "    <tr>\n",
       "      <th>2011-10-03 08:22:00</th>\n",
       "      <td>2011-10-03 08:22:00</td>\n",
       "      <td>397</td>\n",
       "      <td>Quentin</td>\n",
       "      <td>Monday</td>\n",
       "    </tr>\n",
       "    <tr>\n",
       "      <th>2011-10-04 11:48:00</th>\n",
       "      <td>2011-10-04 11:48:00</td>\n",
       "      <td>410</td>\n",
       "      <td>Quentin</td>\n",
       "      <td>Tuesday</td>\n",
       "    </tr>\n",
       "    <tr>\n",
       "      <th>2011-10-05 10:47:00</th>\n",
       "      <td>2011-10-05 10:47:00</td>\n",
       "      <td>464</td>\n",
       "      <td>Quentin</td>\n",
       "      <td>Wednesday</td>\n",
       "    </tr>\n",
       "    <tr>\n",
       "      <th>2011-10-05 13:15:00</th>\n",
       "      <td>2011-10-05 13:15:00</td>\n",
       "      <td>481</td>\n",
       "      <td>Quentin</td>\n",
       "      <td>Wednesday</td>\n",
       "    </tr>\n",
       "    <tr>\n",
       "      <th>2011-10-06 07:21:00</th>\n",
       "      <td>2011-10-06 07:21:00</td>\n",
       "      <td>503</td>\n",
       "      <td>Anthony</td>\n",
       "      <td>Thursday</td>\n",
       "    </tr>\n",
       "  </tbody>\n",
       "</table>\n",
       "</div>"
      ],
      "text/plain": [
       "                              timestamp  coffees contributor   weekdays\n",
       "timestamp                                                              \n",
       "2011-10-03 08:22:00 2011-10-03 08:22:00      397     Quentin     Monday\n",
       "2011-10-04 11:48:00 2011-10-04 11:48:00      410     Quentin    Tuesday\n",
       "2011-10-05 10:47:00 2011-10-05 10:47:00      464     Quentin  Wednesday\n",
       "2011-10-05 13:15:00 2011-10-05 13:15:00      481     Quentin  Wednesday\n",
       "2011-10-06 07:21:00 2011-10-06 07:21:00      503     Anthony   Thursday"
      ]
     },
     "execution_count": 29,
     "metadata": {},
     "output_type": "execute_result"
    }
   ],
   "source": [
    "data.index = data.timestamp\n",
    "data.head()"
   ]
  },
  {
   "cell_type": "code",
   "execution_count": 30,
   "metadata": {},
   "outputs": [
    {
     "data": {
      "text/html": [
       "<div>\n",
       "<style>\n",
       "    .dataframe thead tr:only-child th {\n",
       "        text-align: right;\n",
       "    }\n",
       "\n",
       "    .dataframe thead th {\n",
       "        text-align: left;\n",
       "    }\n",
       "\n",
       "    .dataframe tbody tr th {\n",
       "        vertical-align: top;\n",
       "    }\n",
       "</style>\n",
       "<table border=\"1\" class=\"dataframe\">\n",
       "  <thead>\n",
       "    <tr style=\"text-align: right;\">\n",
       "      <th></th>\n",
       "      <th>coffees</th>\n",
       "      <th>contributor</th>\n",
       "      <th>weekdays</th>\n",
       "    </tr>\n",
       "    <tr>\n",
       "      <th>timestamp</th>\n",
       "      <th></th>\n",
       "      <th></th>\n",
       "      <th></th>\n",
       "    </tr>\n",
       "  </thead>\n",
       "  <tbody>\n",
       "    <tr>\n",
       "      <th>2011-10-03 08:22:00</th>\n",
       "      <td>397</td>\n",
       "      <td>Quentin</td>\n",
       "      <td>Monday</td>\n",
       "    </tr>\n",
       "    <tr>\n",
       "      <th>2011-10-04 11:48:00</th>\n",
       "      <td>410</td>\n",
       "      <td>Quentin</td>\n",
       "      <td>Tuesday</td>\n",
       "    </tr>\n",
       "    <tr>\n",
       "      <th>2011-10-05 10:47:00</th>\n",
       "      <td>464</td>\n",
       "      <td>Quentin</td>\n",
       "      <td>Wednesday</td>\n",
       "    </tr>\n",
       "    <tr>\n",
       "      <th>2011-10-05 13:15:00</th>\n",
       "      <td>481</td>\n",
       "      <td>Quentin</td>\n",
       "      <td>Wednesday</td>\n",
       "    </tr>\n",
       "    <tr>\n",
       "      <th>2011-10-06 07:21:00</th>\n",
       "      <td>503</td>\n",
       "      <td>Anthony</td>\n",
       "      <td>Thursday</td>\n",
       "    </tr>\n",
       "  </tbody>\n",
       "</table>\n",
       "</div>"
      ],
      "text/plain": [
       "                     coffees contributor   weekdays\n",
       "timestamp                                          \n",
       "2011-10-03 08:22:00      397     Quentin     Monday\n",
       "2011-10-04 11:48:00      410     Quentin    Tuesday\n",
       "2011-10-05 10:47:00      464     Quentin  Wednesday\n",
       "2011-10-05 13:15:00      481     Quentin  Wednesday\n",
       "2011-10-06 07:21:00      503     Anthony   Thursday"
      ]
     },
     "execution_count": 30,
     "metadata": {},
     "output_type": "execute_result"
    }
   ],
   "source": [
    "data.drop(['timestamp'], axis=1, inplace=True)\n",
    "data.head()"
   ]
  },
  {
   "cell_type": "code",
   "execution_count": 31,
   "metadata": {},
   "outputs": [
    {
     "data": {
      "text/plain": [
       "<matplotlib.axes._subplots.AxesSubplot at 0xbf155f8>"
      ]
     },
     "execution_count": 31,
     "metadata": {},
     "output_type": "execute_result"
    },
    {
     "data": {
      "image/png": "[encoded data removed]",
      "text/plain": [
       "<matplotlib.figure.Figure at 0xbf47ef0>"
      ]
     },
     "metadata": {},
     "output_type": "display_data"
    }
   ],
   "source": [
    "data.plot(style='.-', grid=True)"
   ]
  },
  {
   "cell_type": "code",
   "execution_count": 33,
   "metadata": {},
   "outputs": [
    {
     "data": {
      "text/plain": [
       "DatetimeIndex(['2011-10-03', '2011-10-04', '2011-10-05', '2011-10-06',\n",
       "               '2011-10-07', '2011-10-08', '2011-10-09', '2011-10-10',\n",
       "               '2011-10-11', '2011-10-12',\n",
       "               ...\n",
       "               '2013-02-18', '2013-02-19', '2013-02-20', '2013-02-21',\n",
       "               '2013-02-22', '2013-02-23', '2013-02-24', '2013-02-25',\n",
       "               '2013-02-26', '2013-02-27'],\n",
       "              dtype='datetime64[ns]', length=514, freq='D')"
      ]
     },
     "execution_count": 33,
     "metadata": {},
     "output_type": "execute_result"
    }
   ],
   "source": [
    "midnights = pd.date_range(data.index[0], data.index[-1], freq='D', normalize=True)\n",
    "midnights"
   ]
  },
  {
   "cell_type": "code",
   "execution_count": 34,
   "metadata": {},
   "outputs": [
    {
     "data": {
      "text/plain": [
       "DatetimeIndex(['2011-10-03 00:00:00', '2011-10-03 08:22:00',\n",
       "               '2011-10-04 00:00:00', '2011-10-04 11:48:00',\n",
       "               '2011-10-05 00:00:00', '2011-10-05 10:47:00',\n",
       "               '2011-10-05 13:15:00', '2011-10-06 00:00:00',\n",
       "               '2011-10-06 07:21:00', '2011-10-06 10:04:00',\n",
       "               ...\n",
       "               '2013-02-21 15:02:00', '2013-02-22 00:00:00',\n",
       "               '2013-02-23 00:00:00', '2013-02-24 00:00:00',\n",
       "               '2013-02-25 00:00:00', '2013-02-25 13:33:00',\n",
       "               '2013-02-25 17:25:00', '2013-02-26 00:00:00',\n",
       "               '2013-02-27 00:00:00', '2013-02-27 09:33:00'],\n",
       "              dtype='datetime64[ns]', length=1160, freq=None)"
      ]
     },
     "execution_count": 34,
     "metadata": {},
     "output_type": "execute_result"
    }
   ],
   "source": [
    "new_index = midnights.union(data.index)\n",
    "new_index"
   ]
  },
  {
   "cell_type": "code",
   "execution_count": 35,
   "metadata": {},
   "outputs": [
    {
     "data": {
      "text/html": [
       "<div>\n",
       "<style>\n",
       "    .dataframe thead tr:only-child th {\n",
       "        text-align: right;\n",
       "    }\n",
       "\n",
       "    .dataframe thead th {\n",
       "        text-align: left;\n",
       "    }\n",
       "\n",
       "    .dataframe tbody tr th {\n",
       "        vertical-align: top;\n",
       "    }\n",
       "</style>\n",
       "<table border=\"1\" class=\"dataframe\">\n",
       "  <thead>\n",
       "    <tr style=\"text-align: right;\">\n",
       "      <th></th>\n",
       "      <th>coffees</th>\n",
       "      <th>contributor</th>\n",
       "      <th>weekdays</th>\n",
       "    </tr>\n",
       "  </thead>\n",
       "  <tbody>\n",
       "    <tr>\n",
       "      <th>2011-10-03 00:00:00</th>\n",
       "      <td>NaN</td>\n",
       "      <td>NaN</td>\n",
       "      <td>NaN</td>\n",
       "    </tr>\n",
       "    <tr>\n",
       "      <th>2011-10-03 08:22:00</th>\n",
       "      <td>397.0</td>\n",
       "      <td>Quentin</td>\n",
       "      <td>Monday</td>\n",
       "    </tr>\n",
       "    <tr>\n",
       "      <th>2011-10-04 00:00:00</th>\n",
       "      <td>NaN</td>\n",
       "      <td>NaN</td>\n",
       "      <td>NaN</td>\n",
       "    </tr>\n",
       "    <tr>\n",
       "      <th>2011-10-04 11:48:00</th>\n",
       "      <td>410.0</td>\n",
       "      <td>Quentin</td>\n",
       "      <td>Tuesday</td>\n",
       "    </tr>\n",
       "    <tr>\n",
       "      <th>2011-10-05 00:00:00</th>\n",
       "      <td>NaN</td>\n",
       "      <td>NaN</td>\n",
       "      <td>NaN</td>\n",
       "    </tr>\n",
       "    <tr>\n",
       "      <th>2011-10-05 10:47:00</th>\n",
       "      <td>464.0</td>\n",
       "      <td>Quentin</td>\n",
       "      <td>Wednesday</td>\n",
       "    </tr>\n",
       "    <tr>\n",
       "      <th>2011-10-05 13:15:00</th>\n",
       "      <td>481.0</td>\n",
       "      <td>Quentin</td>\n",
       "      <td>Wednesday</td>\n",
       "    </tr>\n",
       "    <tr>\n",
       "      <th>2011-10-06 00:00:00</th>\n",
       "      <td>NaN</td>\n",
       "      <td>NaN</td>\n",
       "      <td>NaN</td>\n",
       "    </tr>\n",
       "    <tr>\n",
       "      <th>2011-10-06 07:21:00</th>\n",
       "      <td>503.0</td>\n",
       "      <td>Anthony</td>\n",
       "      <td>Thursday</td>\n",
       "    </tr>\n",
       "    <tr>\n",
       "      <th>2011-10-06 10:04:00</th>\n",
       "      <td>513.0</td>\n",
       "      <td>Quentin</td>\n",
       "      <td>Thursday</td>\n",
       "    </tr>\n",
       "  </tbody>\n",
       "</table>\n",
       "</div>"
      ],
      "text/plain": [
       "                     coffees contributor   weekdays\n",
       "2011-10-03 00:00:00      NaN         NaN        NaN\n",
       "2011-10-03 08:22:00    397.0     Quentin     Monday\n",
       "2011-10-04 00:00:00      NaN         NaN        NaN\n",
       "2011-10-04 11:48:00    410.0     Quentin    Tuesday\n",
       "2011-10-05 00:00:00      NaN         NaN        NaN\n",
       "2011-10-05 10:47:00    464.0     Quentin  Wednesday\n",
       "2011-10-05 13:15:00    481.0     Quentin  Wednesday\n",
       "2011-10-06 00:00:00      NaN         NaN        NaN\n",
       "2011-10-06 07:21:00    503.0     Anthony   Thursday\n",
       "2011-10-06 10:04:00    513.0     Quentin   Thursday"
      ]
     },
     "execution_count": 35,
     "metadata": {},
     "output_type": "execute_result"
    }
   ],
   "source": [
    "unsampled_data = data.reindex(new_index)\n",
    "unsampled_data.head(10)"
   ]
  },
  {
   "cell_type": "code",
   "execution_count": 36,
   "metadata": {},
   "outputs": [
    {
     "data": {
      "text/html": [
       "<div>\n",
       "<style>\n",
       "    .dataframe thead tr:only-child th {\n",
       "        text-align: right;\n",
       "    }\n",
       "\n",
       "    .dataframe thead th {\n",
       "        text-align: left;\n",
       "    }\n",
       "\n",
       "    .dataframe tbody tr th {\n",
       "        vertical-align: top;\n",
       "    }\n",
       "</style>\n",
       "<table border=\"1\" class=\"dataframe\">\n",
       "  <thead>\n",
       "    <tr style=\"text-align: right;\">\n",
       "      <th></th>\n",
       "      <th>coffees</th>\n",
       "      <th>contributor</th>\n",
       "      <th>weekdays</th>\n",
       "    </tr>\n",
       "  </thead>\n",
       "  <tbody>\n",
       "    <tr>\n",
       "      <th>2011-10-03 00:00:00</th>\n",
       "      <td>NaN</td>\n",
       "      <td>NaN</td>\n",
       "      <td>NaN</td>\n",
       "    </tr>\n",
       "    <tr>\n",
       "      <th>2011-10-03 08:22:00</th>\n",
       "      <td>397.0</td>\n",
       "      <td>Quentin</td>\n",
       "      <td>Monday</td>\n",
       "    </tr>\n",
       "    <tr>\n",
       "      <th>2011-10-04 00:00:00</th>\n",
       "      <td>403.5</td>\n",
       "      <td>NaN</td>\n",
       "      <td>NaN</td>\n",
       "    </tr>\n",
       "    <tr>\n",
       "      <th>2011-10-04 11:48:00</th>\n",
       "      <td>410.0</td>\n",
       "      <td>Quentin</td>\n",
       "      <td>Tuesday</td>\n",
       "    </tr>\n",
       "    <tr>\n",
       "      <th>2011-10-05 00:00:00</th>\n",
       "      <td>437.0</td>\n",
       "      <td>NaN</td>\n",
       "      <td>NaN</td>\n",
       "    </tr>\n",
       "    <tr>\n",
       "      <th>2011-10-05 10:47:00</th>\n",
       "      <td>464.0</td>\n",
       "      <td>Quentin</td>\n",
       "      <td>Wednesday</td>\n",
       "    </tr>\n",
       "    <tr>\n",
       "      <th>2011-10-05 13:15:00</th>\n",
       "      <td>481.0</td>\n",
       "      <td>Quentin</td>\n",
       "      <td>Wednesday</td>\n",
       "    </tr>\n",
       "    <tr>\n",
       "      <th>2011-10-06 00:00:00</th>\n",
       "      <td>492.0</td>\n",
       "      <td>NaN</td>\n",
       "      <td>NaN</td>\n",
       "    </tr>\n",
       "    <tr>\n",
       "      <th>2011-10-06 07:21:00</th>\n",
       "      <td>503.0</td>\n",
       "      <td>Anthony</td>\n",
       "      <td>Thursday</td>\n",
       "    </tr>\n",
       "    <tr>\n",
       "      <th>2011-10-06 10:04:00</th>\n",
       "      <td>513.0</td>\n",
       "      <td>Quentin</td>\n",
       "      <td>Thursday</td>\n",
       "    </tr>\n",
       "  </tbody>\n",
       "</table>\n",
       "</div>"
      ],
      "text/plain": [
       "                     coffees contributor   weekdays\n",
       "2011-10-03 00:00:00      NaN         NaN        NaN\n",
       "2011-10-03 08:22:00    397.0     Quentin     Monday\n",
       "2011-10-04 00:00:00    403.5         NaN        NaN\n",
       "2011-10-04 11:48:00    410.0     Quentin    Tuesday\n",
       "2011-10-05 00:00:00    437.0         NaN        NaN\n",
       "2011-10-05 10:47:00    464.0     Quentin  Wednesday\n",
       "2011-10-05 13:15:00    481.0     Quentin  Wednesday\n",
       "2011-10-06 00:00:00    492.0         NaN        NaN\n",
       "2011-10-06 07:21:00    503.0     Anthony   Thursday\n",
       "2011-10-06 10:04:00    513.0     Quentin   Thursday"
      ]
     },
     "execution_count": 36,
     "metadata": {},
     "output_type": "execute_result"
    }
   ],
   "source": [
    "unsampled_data = unsampled_data.interpolate(methoid='time')\n",
    "unsampled_data.head(10)"
   ]
  },
  {
   "cell_type": "code",
   "execution_count": 41,
   "metadata": {},
   "outputs": [
    {
     "data": {
      "text/html": [
       "<div>\n",
       "<style>\n",
       "    .dataframe thead tr:only-child th {\n",
       "        text-align: right;\n",
       "    }\n",
       "\n",
       "    .dataframe thead th {\n",
       "        text-align: left;\n",
       "    }\n",
       "\n",
       "    .dataframe tbody tr th {\n",
       "        vertical-align: top;\n",
       "    }\n",
       "</style>\n",
       "<table border=\"1\" class=\"dataframe\">\n",
       "  <thead>\n",
       "    <tr style=\"text-align: right;\">\n",
       "      <th></th>\n",
       "      <th>coffees</th>\n",
       "      <th>weekdays</th>\n",
       "    </tr>\n",
       "  </thead>\n",
       "  <tbody>\n",
       "    <tr>\n",
       "      <th>2011-10-03</th>\n",
       "      <td>NaN</td>\n",
       "      <td>Monday</td>\n",
       "    </tr>\n",
       "    <tr>\n",
       "      <th>2011-10-04</th>\n",
       "      <td>403.500000</td>\n",
       "      <td>Tuesday</td>\n",
       "    </tr>\n",
       "    <tr>\n",
       "      <th>2011-10-05</th>\n",
       "      <td>437.000000</td>\n",
       "      <td>Wednesday</td>\n",
       "    </tr>\n",
       "    <tr>\n",
       "      <th>2011-10-06</th>\n",
       "      <td>492.000000</td>\n",
       "      <td>Thursday</td>\n",
       "    </tr>\n",
       "    <tr>\n",
       "      <th>2011-10-07</th>\n",
       "      <td>572.000000</td>\n",
       "      <td>Friday</td>\n",
       "    </tr>\n",
       "    <tr>\n",
       "      <th>2011-10-08</th>\n",
       "      <td>640.000000</td>\n",
       "      <td>Saturday</td>\n",
       "    </tr>\n",
       "    <tr>\n",
       "      <th>2011-10-09</th>\n",
       "      <td>645.000000</td>\n",
       "      <td>Sunday</td>\n",
       "    </tr>\n",
       "    <tr>\n",
       "      <th>2011-10-10</th>\n",
       "      <td>653.000000</td>\n",
       "      <td>Monday</td>\n",
       "    </tr>\n",
       "    <tr>\n",
       "      <th>2011-10-11</th>\n",
       "      <td>741.500000</td>\n",
       "      <td>Tuesday</td>\n",
       "    </tr>\n",
       "    <tr>\n",
       "      <th>2011-10-12</th>\n",
       "      <td>780.000000</td>\n",
       "      <td>Wednesday</td>\n",
       "    </tr>\n",
       "    <tr>\n",
       "      <th>2011-10-13</th>\n",
       "      <td>851.500000</td>\n",
       "      <td>Thursday</td>\n",
       "    </tr>\n",
       "    <tr>\n",
       "      <th>2011-10-14</th>\n",
       "      <td>928.500000</td>\n",
       "      <td>Friday</td>\n",
       "    </tr>\n",
       "    <tr>\n",
       "      <th>2011-10-15</th>\n",
       "      <td>983.250000</td>\n",
       "      <td>Saturday</td>\n",
       "    </tr>\n",
       "    <tr>\n",
       "      <th>2011-10-16</th>\n",
       "      <td>992.500000</td>\n",
       "      <td>Sunday</td>\n",
       "    </tr>\n",
       "    <tr>\n",
       "      <th>2011-10-17</th>\n",
       "      <td>1001.750000</td>\n",
       "      <td>Monday</td>\n",
       "    </tr>\n",
       "    <tr>\n",
       "      <th>2011-10-18</th>\n",
       "      <td>1057.500000</td>\n",
       "      <td>Tuesday</td>\n",
       "    </tr>\n",
       "    <tr>\n",
       "      <th>2011-10-19</th>\n",
       "      <td>1114.000000</td>\n",
       "      <td>Wednesday</td>\n",
       "    </tr>\n",
       "    <tr>\n",
       "      <th>2011-10-20</th>\n",
       "      <td>1220.000000</td>\n",
       "      <td>Thursday</td>\n",
       "    </tr>\n",
       "    <tr>\n",
       "      <th>2011-10-21</th>\n",
       "      <td>1276.500000</td>\n",
       "      <td>Friday</td>\n",
       "    </tr>\n",
       "    <tr>\n",
       "      <th>2011-10-22</th>\n",
       "      <td>1319.000000</td>\n",
       "      <td>Saturday</td>\n",
       "    </tr>\n",
       "    <tr>\n",
       "      <th>2011-10-23</th>\n",
       "      <td>1328.000000</td>\n",
       "      <td>Sunday</td>\n",
       "    </tr>\n",
       "    <tr>\n",
       "      <th>2011-10-24</th>\n",
       "      <td>1337.000000</td>\n",
       "      <td>Monday</td>\n",
       "    </tr>\n",
       "    <tr>\n",
       "      <th>2011-10-25</th>\n",
       "      <td>1399.000000</td>\n",
       "      <td>Tuesday</td>\n",
       "    </tr>\n",
       "    <tr>\n",
       "      <th>2011-10-26</th>\n",
       "      <td>1475.000000</td>\n",
       "      <td>Wednesday</td>\n",
       "    </tr>\n",
       "    <tr>\n",
       "      <th>2011-10-27</th>\n",
       "      <td>1540.000000</td>\n",
       "      <td>Thursday</td>\n",
       "    </tr>\n",
       "    <tr>\n",
       "      <th>2011-10-28</th>\n",
       "      <td>1611.000000</td>\n",
       "      <td>Friday</td>\n",
       "    </tr>\n",
       "    <tr>\n",
       "      <th>2011-10-29</th>\n",
       "      <td>1656.500000</td>\n",
       "      <td>Saturday</td>\n",
       "    </tr>\n",
       "    <tr>\n",
       "      <th>2011-10-30</th>\n",
       "      <td>1673.000000</td>\n",
       "      <td>Sunday</td>\n",
       "    </tr>\n",
       "    <tr>\n",
       "      <th>2011-10-31</th>\n",
       "      <td>1689.500000</td>\n",
       "      <td>Monday</td>\n",
       "    </tr>\n",
       "    <tr>\n",
       "      <th>2011-11-01</th>\n",
       "      <td>1742.000000</td>\n",
       "      <td>Tuesday</td>\n",
       "    </tr>\n",
       "    <tr>\n",
       "      <th>...</th>\n",
       "      <td>...</td>\n",
       "      <td>...</td>\n",
       "    </tr>\n",
       "    <tr>\n",
       "      <th>2013-01-29</th>\n",
       "      <td>16216.000000</td>\n",
       "      <td>Tuesday</td>\n",
       "    </tr>\n",
       "    <tr>\n",
       "      <th>2013-01-30</th>\n",
       "      <td>16293.571429</td>\n",
       "      <td>Wednesday</td>\n",
       "    </tr>\n",
       "    <tr>\n",
       "      <th>2013-01-31</th>\n",
       "      <td>16330.142857</td>\n",
       "      <td>Thursday</td>\n",
       "    </tr>\n",
       "    <tr>\n",
       "      <th>2013-02-01</th>\n",
       "      <td>16366.714286</td>\n",
       "      <td>Friday</td>\n",
       "    </tr>\n",
       "    <tr>\n",
       "      <th>2013-02-02</th>\n",
       "      <td>16403.285714</td>\n",
       "      <td>Saturday</td>\n",
       "    </tr>\n",
       "    <tr>\n",
       "      <th>2013-02-03</th>\n",
       "      <td>16439.857143</td>\n",
       "      <td>Sunday</td>\n",
       "    </tr>\n",
       "    <tr>\n",
       "      <th>2013-02-04</th>\n",
       "      <td>16476.428571</td>\n",
       "      <td>Monday</td>\n",
       "    </tr>\n",
       "    <tr>\n",
       "      <th>2013-02-05</th>\n",
       "      <td>16561.666667</td>\n",
       "      <td>Tuesday</td>\n",
       "    </tr>\n",
       "    <tr>\n",
       "      <th>2013-02-06</th>\n",
       "      <td>16610.333333</td>\n",
       "      <td>Wednesday</td>\n",
       "    </tr>\n",
       "    <tr>\n",
       "      <th>2013-02-07</th>\n",
       "      <td>16686.500000</td>\n",
       "      <td>Thursday</td>\n",
       "    </tr>\n",
       "    <tr>\n",
       "      <th>2013-02-08</th>\n",
       "      <td>16743.500000</td>\n",
       "      <td>Friday</td>\n",
       "    </tr>\n",
       "    <tr>\n",
       "      <th>2013-02-09</th>\n",
       "      <td>16773.000000</td>\n",
       "      <td>Saturday</td>\n",
       "    </tr>\n",
       "    <tr>\n",
       "      <th>2013-02-10</th>\n",
       "      <td>16802.500000</td>\n",
       "      <td>Sunday</td>\n",
       "    </tr>\n",
       "    <tr>\n",
       "      <th>2013-02-11</th>\n",
       "      <td>16832.000000</td>\n",
       "      <td>Monday</td>\n",
       "    </tr>\n",
       "    <tr>\n",
       "      <th>2013-02-12</th>\n",
       "      <td>16861.500000</td>\n",
       "      <td>Tuesday</td>\n",
       "    </tr>\n",
       "    <tr>\n",
       "      <th>2013-02-13</th>\n",
       "      <td>16943.000000</td>\n",
       "      <td>Wednesday</td>\n",
       "    </tr>\n",
       "    <tr>\n",
       "      <th>2013-02-14</th>\n",
       "      <td>17008.750000</td>\n",
       "      <td>Thursday</td>\n",
       "    </tr>\n",
       "    <tr>\n",
       "      <th>2013-02-15</th>\n",
       "      <td>17040.500000</td>\n",
       "      <td>Friday</td>\n",
       "    </tr>\n",
       "    <tr>\n",
       "      <th>2013-02-16</th>\n",
       "      <td>17072.250000</td>\n",
       "      <td>Saturday</td>\n",
       "    </tr>\n",
       "    <tr>\n",
       "      <th>2013-02-17</th>\n",
       "      <td>17124.333333</td>\n",
       "      <td>Sunday</td>\n",
       "    </tr>\n",
       "    <tr>\n",
       "      <th>2013-02-18</th>\n",
       "      <td>17144.666667</td>\n",
       "      <td>Monday</td>\n",
       "    </tr>\n",
       "    <tr>\n",
       "      <th>2013-02-19</th>\n",
       "      <td>17210.000000</td>\n",
       "      <td>Tuesday</td>\n",
       "    </tr>\n",
       "    <tr>\n",
       "      <th>2013-02-20</th>\n",
       "      <td>17255.000000</td>\n",
       "      <td>Wednesday</td>\n",
       "    </tr>\n",
       "    <tr>\n",
       "      <th>2013-02-21</th>\n",
       "      <td>17300.000000</td>\n",
       "      <td>Thursday</td>\n",
       "    </tr>\n",
       "    <tr>\n",
       "      <th>2013-02-22</th>\n",
       "      <td>17376.800000</td>\n",
       "      <td>Friday</td>\n",
       "    </tr>\n",
       "    <tr>\n",
       "      <th>2013-02-23</th>\n",
       "      <td>17399.600000</td>\n",
       "      <td>Saturday</td>\n",
       "    </tr>\n",
       "    <tr>\n",
       "      <th>2013-02-24</th>\n",
       "      <td>17422.400000</td>\n",
       "      <td>Sunday</td>\n",
       "    </tr>\n",
       "    <tr>\n",
       "      <th>2013-02-25</th>\n",
       "      <td>17445.200000</td>\n",
       "      <td>Monday</td>\n",
       "    </tr>\n",
       "    <tr>\n",
       "      <th>2013-02-26</th>\n",
       "      <td>17514.000000</td>\n",
       "      <td>Tuesday</td>\n",
       "    </tr>\n",
       "    <tr>\n",
       "      <th>2013-02-27</th>\n",
       "      <td>17539.000000</td>\n",
       "      <td>Wednesday</td>\n",
       "    </tr>\n",
       "  </tbody>\n",
       "</table>\n",
       "<p>514 rows × 2 columns</p>\n",
       "</div>"
      ],
      "text/plain": [
       "                 coffees   weekdays\n",
       "2011-10-03           NaN     Monday\n",
       "2011-10-04    403.500000    Tuesday\n",
       "2011-10-05    437.000000  Wednesday\n",
       "2011-10-06    492.000000   Thursday\n",
       "2011-10-07    572.000000     Friday\n",
       "2011-10-08    640.000000   Saturday\n",
       "2011-10-09    645.000000     Sunday\n",
       "2011-10-10    653.000000     Monday\n",
       "2011-10-11    741.500000    Tuesday\n",
       "2011-10-12    780.000000  Wednesday\n",
       "2011-10-13    851.500000   Thursday\n",
       "2011-10-14    928.500000     Friday\n",
       "2011-10-15    983.250000   Saturday\n",
       "2011-10-16    992.500000     Sunday\n",
       "2011-10-17   1001.750000     Monday\n",
       "2011-10-18   1057.500000    Tuesday\n",
       "2011-10-19   1114.000000  Wednesday\n",
       "2011-10-20   1220.000000   Thursday\n",
       "2011-10-21   1276.500000     Friday\n",
       "2011-10-22   1319.000000   Saturday\n",
       "2011-10-23   1328.000000     Sunday\n",
       "2011-10-24   1337.000000     Monday\n",
       "2011-10-25   1399.000000    Tuesday\n",
       "2011-10-26   1475.000000  Wednesday\n",
       "2011-10-27   1540.000000   Thursday\n",
       "2011-10-28   1611.000000     Friday\n",
       "2011-10-29   1656.500000   Saturday\n",
       "2011-10-30   1673.000000     Sunday\n",
       "2011-10-31   1689.500000     Monday\n",
       "2011-11-01   1742.000000    Tuesday\n",
       "...                  ...        ...\n",
       "2013-01-29  16216.000000    Tuesday\n",
       "2013-01-30  16293.571429  Wednesday\n",
       "2013-01-31  16330.142857   Thursday\n",
       "2013-02-01  16366.714286     Friday\n",
       "2013-02-02  16403.285714   Saturday\n",
       "2013-02-03  16439.857143     Sunday\n",
       "2013-02-04  16476.428571     Monday\n",
       "2013-02-05  16561.666667    Tuesday\n",
       "2013-02-06  16610.333333  Wednesday\n",
       "2013-02-07  16686.500000   Thursday\n",
       "2013-02-08  16743.500000     Friday\n",
       "2013-02-09  16773.000000   Saturday\n",
       "2013-02-10  16802.500000     Sunday\n",
       "2013-02-11  16832.000000     Monday\n",
       "2013-02-12  16861.500000    Tuesday\n",
       "2013-02-13  16943.000000  Wednesday\n",
       "2013-02-14  17008.750000   Thursday\n",
       "2013-02-15  17040.500000     Friday\n",
       "2013-02-16  17072.250000   Saturday\n",
       "2013-02-17  17124.333333     Sunday\n",
       "2013-02-18  17144.666667     Monday\n",
       "2013-02-19  17210.000000    Tuesday\n",
       "2013-02-20  17255.000000  Wednesday\n",
       "2013-02-21  17300.000000   Thursday\n",
       "2013-02-22  17376.800000     Friday\n",
       "2013-02-23  17399.600000   Saturday\n",
       "2013-02-24  17422.400000     Sunday\n",
       "2013-02-25  17445.200000     Monday\n",
       "2013-02-26  17514.000000    Tuesday\n",
       "2013-02-27  17539.000000  Wednesday\n",
       "\n",
       "[514 rows x 2 columns]"
      ]
     },
     "execution_count": 41,
     "metadata": {},
     "output_type": "execute_result"
    }
   ],
   "source": [
    "daily_data = unsampled_data.resample('D').asfreq()\n",
    "daily_data = daily_data.drop(['contributor'], axis=1)\n",
    "daily_data['weekdays'] = daily_data.index.weekday_name\n",
    "daily_data"
   ]
  },
  {
   "cell_type": "code",
   "execution_count": 45,
   "metadata": {},
   "outputs": [
    {
     "data": {
      "text/plain": [
       "<matplotlib.axes._subplots.AxesSubplot at 0xbd6fbe0>"
      ]
     },
     "execution_count": 45,
     "metadata": {},
     "output_type": "execute_result"
    },
    {
     "data": {
      "image/png": "[encoded data removed]",
      "text/plain": [
       "<matplotlib.figure.Figure at 0xc21e588>"
      ]
     },
     "metadata": {},
     "output_type": "display_data"
    }
   ],
   "source": [
    "daily_data.plot()"
   ]
  },
  {
   "cell_type": "code",
   "execution_count": 69,
   "metadata": {},
   "outputs": [
    {
     "data": {
      "text/html": [
       "<div>\n",
       "<style>\n",
       "    .dataframe thead tr:only-child th {\n",
       "        text-align: right;\n",
       "    }\n",
       "\n",
       "    .dataframe thead th {\n",
       "        text-align: left;\n",
       "    }\n",
       "\n",
       "    .dataframe tbody tr th {\n",
       "        vertical-align: top;\n",
       "    }\n",
       "</style>\n",
       "<table border=\"1\" class=\"dataframe\">\n",
       "  <thead>\n",
       "    <tr style=\"text-align: right;\">\n",
       "      <th></th>\n",
       "      <th>coffees</th>\n",
       "      <th>weekdays</th>\n",
       "      <th>coffees_made_today</th>\n",
       "    </tr>\n",
       "  </thead>\n",
       "  <tbody>\n",
       "    <tr>\n",
       "      <th>2011-10-03</th>\n",
       "      <td>NaN</td>\n",
       "      <td>Monday</td>\n",
       "      <td>NaN</td>\n",
       "    </tr>\n",
       "    <tr>\n",
       "      <th>2011-10-04</th>\n",
       "      <td>403.5</td>\n",
       "      <td>Tuesday</td>\n",
       "      <td>33.5</td>\n",
       "    </tr>\n",
       "    <tr>\n",
       "      <th>2011-10-05</th>\n",
       "      <td>437.0</td>\n",
       "      <td>Wednesday</td>\n",
       "      <td>55.0</td>\n",
       "    </tr>\n",
       "    <tr>\n",
       "      <th>2011-10-06</th>\n",
       "      <td>492.0</td>\n",
       "      <td>Thursday</td>\n",
       "      <td>80.0</td>\n",
       "    </tr>\n",
       "    <tr>\n",
       "      <th>2011-10-07</th>\n",
       "      <td>572.0</td>\n",
       "      <td>Friday</td>\n",
       "      <td>68.0</td>\n",
       "    </tr>\n",
       "    <tr>\n",
       "      <th>2011-10-08</th>\n",
       "      <td>640.0</td>\n",
       "      <td>Saturday</td>\n",
       "      <td>5.0</td>\n",
       "    </tr>\n",
       "    <tr>\n",
       "      <th>2011-10-09</th>\n",
       "      <td>645.0</td>\n",
       "      <td>Sunday</td>\n",
       "      <td>8.0</td>\n",
       "    </tr>\n",
       "    <tr>\n",
       "      <th>2011-10-10</th>\n",
       "      <td>653.0</td>\n",
       "      <td>Monday</td>\n",
       "      <td>88.5</td>\n",
       "    </tr>\n",
       "    <tr>\n",
       "      <th>2011-10-11</th>\n",
       "      <td>741.5</td>\n",
       "      <td>Tuesday</td>\n",
       "      <td>38.5</td>\n",
       "    </tr>\n",
       "    <tr>\n",
       "      <th>2011-10-12</th>\n",
       "      <td>780.0</td>\n",
       "      <td>Wednesday</td>\n",
       "      <td>71.5</td>\n",
       "    </tr>\n",
       "  </tbody>\n",
       "</table>\n",
       "</div>"
      ],
      "text/plain": [
       "            coffees   weekdays  coffees_made_today\n",
       "2011-10-03      NaN     Monday                 NaN\n",
       "2011-10-04    403.5    Tuesday                33.5\n",
       "2011-10-05    437.0  Wednesday                55.0\n",
       "2011-10-06    492.0   Thursday                80.0\n",
       "2011-10-07    572.0     Friday                68.0\n",
       "2011-10-08    640.0   Saturday                 5.0\n",
       "2011-10-09    645.0     Sunday                 8.0\n",
       "2011-10-10    653.0     Monday                88.5\n",
       "2011-10-11    741.5    Tuesday                38.5\n",
       "2011-10-12    780.0  Wednesday                71.5"
      ]
     },
     "execution_count": 69,
     "metadata": {},
     "output_type": "execute_result"
    }
   ],
   "source": [
    "coffees_made = daily_data.coffees.diff().shift(-1)\n",
    "daily_data['coffees_made_today'] = coffees_made\n",
    "\n",
    "daily_data.head(10)"
   ]
  },
  {
   "cell_type": "code",
   "execution_count": 72,
   "metadata": {},
   "outputs": [
    {
     "data": {
      "text/html": [
       "<div>\n",
       "<style>\n",
       "    .dataframe thead tr:only-child th {\n",
       "        text-align: right;\n",
       "    }\n",
       "\n",
       "    .dataframe thead th {\n",
       "        text-align: left;\n",
       "    }\n",
       "\n",
       "    .dataframe tbody tr th {\n",
       "        vertical-align: top;\n",
       "    }\n",
       "</style>\n",
       "<table border=\"1\" class=\"dataframe\">\n",
       "  <thead>\n",
       "    <tr style=\"text-align: right;\">\n",
       "      <th></th>\n",
       "      <th>coffees</th>\n",
       "      <th>coffees_made_today</th>\n",
       "    </tr>\n",
       "    <tr>\n",
       "      <th>weekdays</th>\n",
       "      <th></th>\n",
       "      <th></th>\n",
       "    </tr>\n",
       "  </thead>\n",
       "  <tbody>\n",
       "    <tr>\n",
       "      <th>Monday</th>\n",
       "      <td>9105.321682</td>\n",
       "      <td>42.761075</td>\n",
       "    </tr>\n",
       "    <tr>\n",
       "      <th>Tuesday</th>\n",
       "      <td>9029.912720</td>\n",
       "      <td>36.846849</td>\n",
       "    </tr>\n",
       "    <tr>\n",
       "      <th>Wednesday</th>\n",
       "      <td>9066.759568</td>\n",
       "      <td>49.298569</td>\n",
       "    </tr>\n",
       "    <tr>\n",
       "      <th>Thursday</th>\n",
       "      <td>9000.000049</td>\n",
       "      <td>42.228592</td>\n",
       "    </tr>\n",
       "    <tr>\n",
       "      <th>Friday</th>\n",
       "      <td>9042.228641</td>\n",
       "      <td>35.879796</td>\n",
       "    </tr>\n",
       "    <tr>\n",
       "      <th>Saturday</th>\n",
       "      <td>9078.108437</td>\n",
       "      <td>14.462216</td>\n",
       "    </tr>\n",
       "    <tr>\n",
       "      <th>Sunday</th>\n",
       "      <td>9092.570653</td>\n",
       "      <td>12.751029</td>\n",
       "    </tr>\n",
       "  </tbody>\n",
       "</table>\n",
       "</div>"
      ],
      "text/plain": [
       "               coffees  coffees_made_today\n",
       "weekdays                                  \n",
       "Monday     9105.321682           42.761075\n",
       "Tuesday    9029.912720           36.846849\n",
       "Wednesday  9066.759568           49.298569\n",
       "Thursday   9000.000049           42.228592\n",
       "Friday     9042.228641           35.879796\n",
       "Saturday   9078.108437           14.462216\n",
       "Sunday     9092.570653           12.751029"
      ]
     },
     "execution_count": 72,
     "metadata": {},
     "output_type": "execute_result"
    }
   ],
   "source": [
    "coffees_by_day = daily_data.groupby('weekdays').mean()\n",
    "coffees_by_day = coffees_by_day.loc[weekday_names]\n",
    "coffees_by_day"
   ]
  },
  {
   "cell_type": "code",
   "execution_count": 75,
   "metadata": {},
   "outputs": [
    {
     "data": {
      "text/plain": [
       "<matplotlib.axes._subplots.AxesSubplot at 0xdabcb70>"
      ]
     },
     "execution_count": 75,
     "metadata": {},
     "output_type": "execute_result"
    },
    {
     "data": {
      "image/png": "[encoded data removed]",
      "text/plain": [
       "<matplotlib.figure.Figure at 0xdb04668>"
      ]
     },
     "metadata": {},
     "output_type": "display_data"
    }
   ],
   "source": [
    "coffees_by_day['coffees_made_today'].plot(kind='bar')"
   ]
  },
  {
   "cell_type": "code",
   "execution_count": 77,
   "metadata": {},
   "outputs": [
    {
     "data": {
      "text/html": [
       "<div>\n",
       "<style>\n",
       "    .dataframe thead tr:only-child th {\n",
       "        text-align: right;\n",
       "    }\n",
       "\n",
       "    .dataframe thead th {\n",
       "        text-align: left;\n",
       "    }\n",
       "\n",
       "    .dataframe tbody tr th {\n",
       "        vertical-align: top;\n",
       "    }\n",
       "</style>\n",
       "<table border=\"1\" class=\"dataframe\">\n",
       "  <thead>\n",
       "    <tr style=\"text-align: right;\">\n",
       "      <th></th>\n",
       "      <th>date</th>\n",
       "      <th>members</th>\n",
       "    </tr>\n",
       "  </thead>\n",
       "  <tbody>\n",
       "    <tr>\n",
       "      <th>0</th>\n",
       "      <td>2011-08-31</td>\n",
       "      <td>12</td>\n",
       "    </tr>\n",
       "    <tr>\n",
       "      <th>1</th>\n",
       "      <td>2011-09-30</td>\n",
       "      <td>14</td>\n",
       "    </tr>\n",
       "    <tr>\n",
       "      <th>2</th>\n",
       "      <td>2011-10-31</td>\n",
       "      <td>14</td>\n",
       "    </tr>\n",
       "    <tr>\n",
       "      <th>3</th>\n",
       "      <td>2011-11-30</td>\n",
       "      <td>14</td>\n",
       "    </tr>\n",
       "    <tr>\n",
       "      <th>4</th>\n",
       "      <td>2011-12-31</td>\n",
       "      <td>15</td>\n",
       "    </tr>\n",
       "  </tbody>\n",
       "</table>\n",
       "</div>"
      ],
      "text/plain": [
       "         date  members\n",
       "0  2011-08-31       12\n",
       "1  2011-09-30       14\n",
       "2  2011-10-31       14\n",
       "3  2011-11-30       14\n",
       "4  2011-12-31       15"
      ]
     },
     "execution_count": 77,
     "metadata": {},
     "output_type": "execute_result"
    }
   ],
   "source": [
    "people = pd.read_csv('data/department_members.csv')\n",
    "\n",
    "people.head()"
   ]
  }
 ],
 "metadata": {
  "celltoolbar": "Slideshow",
  "kernelspec": {
   "display_name": "Python 3",
   "language": "python",
   "name": "python3"
  },
  "language_info": {
   "codemirror_mode": {
    "name": "ipython",
    "version": 3
   },
   "file_extension": ".py",
   "mimetype": "text/x-python",
   "name": "python",
   "nbconvert_exporter": "python",
   "pygments_lexer": "ipython3",
   "version": "3.6.3"
  }
 },
 "nbformat": 4,
 "nbformat_minor": 2
}
