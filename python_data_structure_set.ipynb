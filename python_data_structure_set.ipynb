{
 "cells": [
  {
   "cell_type": "code",
   "execution_count": 1,
   "metadata": {},
   "outputs": [
    {
     "name": "stdout",
     "output_type": "stream",
     "text": [
      "<class 'set'> {0, 1, 2, 3}\n",
      "<class 'set'> {-8, -7, -6, -5, -4, -3}\n",
      "<class 'set'> {'January', 3, 'February'}\n"
     ]
    }
   ],
   "source": [
    "set0 = set([0, 1, 2, 3])\n",
    "set1 = set(range(-8,-2))\n",
    "set2 = {'January', 'February', 3}\n",
    "print(type(set0), set0)\n",
    "print(type(set1), set1)\n",
    "print(type(set2), set2)"
   ]
  },
  {
   "cell_type": "code",
   "execution_count": 2,
   "metadata": {},
   "outputs": [
    {
     "name": "stdout",
     "output_type": "stream",
     "text": [
      "<class 'set'> {3, (3, 3)}\n"
     ]
    }
   ],
   "source": [
    "set3 = {3, 3, 3, 3, (3,3)}\n",
    "print(type(set3), set3)"
   ]
  },
  {
   "cell_type": "code",
   "execution_count": 3,
   "metadata": {},
   "outputs": [
    {
     "ename": "TypeError",
     "evalue": "unhashable type: 'list'",
     "output_type": "error",
     "traceback": [
      "\u001b[0;31m---------------------------------------------------------------------------\u001b[0m",
      "\u001b[0;31mTypeError\u001b[0m                                 Traceback (most recent call last)",
      "\u001b[0;32m<ipython-input-3-1560752e041d>\u001b[0m in \u001b[0;36m<module>\u001b[0;34m()\u001b[0m\n\u001b[0;32m----> 1\u001b[0;31m \u001b[0mset3\u001b[0m\u001b[0;34m.\u001b[0m\u001b[0madd\u001b[0m\u001b[0;34m(\u001b[0m\u001b[0;34m[\u001b[0m\u001b[0;36m3\u001b[0m\u001b[0;34m,\u001b[0m\u001b[0;36m3\u001b[0m\u001b[0;34m,\u001b[0m\u001b[0;36m3\u001b[0m\u001b[0;34m]\u001b[0m\u001b[0;34m)\u001b[0m \u001b[0;31m# no muttable type allowed!\u001b[0m\u001b[0;34m\u001b[0m\u001b[0m\n\u001b[0m",
      "\u001b[0;31mTypeError\u001b[0m: unhashable type: 'list'"
     ]
    }
   ],
   "source": [
    "set3.add([3,3,3]) # no muttable type allowed!"
   ]
  },
  {
   "cell_type": "code",
   "execution_count": 4,
   "metadata": {},
   "outputs": [
    {
     "name": "stdout",
     "output_type": "stream",
     "text": [
      "{2, 3}\n"
     ]
    }
   ],
   "source": [
    "set3.add(2)\n",
    "set3.discard((3,3))\n",
    "print(set3)"
   ]
  },
  {
   "cell_type": "code",
   "execution_count": 7,
   "metadata": {},
   "outputs": [],
   "source": [
    "set3.discard(5)"
   ]
  },
  {
   "cell_type": "code",
   "execution_count": 8,
   "metadata": {},
   "outputs": [
    {
     "name": "stdout",
     "output_type": "stream",
     "text": [
      "{0, 1, 2, 3, -8, -7, -6, -5, -4, -3}\n",
      "{0, 1, 2, 3, -8, -7, -6, -5, -4, -3}\n",
      "{0, 1, 2, 3}\n"
     ]
    }
   ],
   "source": [
    "union0 = set0|set1\n",
    "union1 = set0.union(set1)\n",
    "print(union0)\n",
    "print(union1)\n",
    "print(set0)"
   ]
  },
  {
   "cell_type": "code",
   "execution_count": 9,
   "metadata": {},
   "outputs": [
    {
     "name": "stdout",
     "output_type": "stream",
     "text": [
      "{'hello', 1, 3.14, 8, 'm'}\n",
      "{'hello', 1, 3.14, 'p'}\n",
      "{'hello', 1, 3.14}\n",
      "{'hello', 1, 3.14}\n"
     ]
    }
   ],
   "source": [
    "setA = {1, 8, 'hello', 3.14, 'm'}\n",
    "setB = {1, 'hello', 3.14, 'p'}\n",
    "intersection0 = setA & setB\n",
    "intersection1 = setA.intersection(setB)\n",
    "print(setA)\n",
    "print(setB)\n",
    "print(intersection0)\n",
    "print(intersection1)"
   ]
  },
  {
   "cell_type": "code",
   "execution_count": 10,
   "metadata": {},
   "outputs": [
    {
     "name": "stdout",
     "output_type": "stream",
     "text": [
      "{8, 'm'}\n",
      "{8, 'm'}\n"
     ]
    }
   ],
   "source": [
    "difference0 = setA - setB\n",
    "difference1 = setA.difference(setB)\n",
    "print(difference0)\n",
    "print(difference1)"
   ]
  },
  {
   "cell_type": "code",
   "execution_count": 11,
   "metadata": {},
   "outputs": [
    {
     "name": "stdout",
     "output_type": "stream",
     "text": [
      "{0, 1, 2, 3, 4, 5, 6, 7, 8, 9, -10, -9, -8, -7, -6, -5, -4, -3, -2, -1}\n",
      "{0, 1, 2, 3}\n",
      "{-8, -7, -6, -5, -4, -3}\n",
      "True\n",
      "True\n"
     ]
    }
   ],
   "source": [
    "setZ = set(range(-10,10,1))\n",
    "print(setZ)\n",
    "print(set0)\n",
    "print(set1)\n",
    "print(set0 <= setZ)\n",
    "print(setZ >= set1)"
   ]
  },
  {
   "cell_type": "code",
   "execution_count": null,
   "metadata": {},
   "outputs": [],
   "source": []
  }
 ],
 "metadata": {
  "kernelspec": {
   "display_name": "Python 3",
   "language": "python",
   "name": "python3"
  },
  "language_info": {
   "codemirror_mode": {
    "name": "ipython",
    "version": 3
   },
   "file_extension": ".py",
   "mimetype": "text/x-python",
   "name": "python",
   "nbconvert_exporter": "python",
   "pygments_lexer": "ipython3",
   "version": "3.6.5"
  }
 },
 "nbformat": 4,
 "nbformat_minor": 2
}
