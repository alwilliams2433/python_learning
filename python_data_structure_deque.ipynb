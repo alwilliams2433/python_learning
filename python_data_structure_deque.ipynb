{
 "cells": [
  {
   "cell_type": "code",
   "execution_count": 1,
   "metadata": {},
   "outputs": [],
   "source": [
    "import collections"
   ]
  },
  {
   "cell_type": "code",
   "execution_count": 5,
   "metadata": {},
   "outputs": [
    {
     "name": "stdout",
     "output_type": "stream",
     "text": [
      "deque([2, 5])\n"
     ]
    }
   ],
   "source": [
    "dek = collections.deque([2, 5])\n",
    "print(dek)"
   ]
  },
  {
   "cell_type": "code",
   "execution_count": 8,
   "metadata": {},
   "outputs": [
    {
     "name": "stdout",
     "output_type": "stream",
     "text": [
      "deque([])\n",
      "deque([2])\n",
      "deque([2, 'hello'])\n",
      "deque(['left', 2, 'hello'])\n",
      "3\n"
     ]
    }
   ],
   "source": [
    "dek = collections.deque(); print(dek)\n",
    "dek.append(2); print(dek)\n",
    "dek.append('hello'); print(dek)\n",
    "dek.appendleft('left'); print(dek)\n",
    "print(len(dek))"
   ]
  },
  {
   "cell_type": "code",
   "execution_count": 19,
   "metadata": {},
   "outputs": [
    {
     "name": "stdout",
     "output_type": "stream",
     "text": [
      "deque(['start', 2, -5, 4, 'end'])\n",
      "deque(['start', 2, -5, 4, 'end', 100])\n",
      "deque(['start', 2, -5, 4, 'end', 100, 1, 2, 3])\n",
      "deque([-1, -2, -3, 'start', 2, -5, 4, 'end', 100, 1, 2, 3])\n",
      "\n",
      "Empting deque:\n",
      "deque([-1, -2, -3, 'start', 2, -5, 4, 'end', 100, 1, 2, 3])\n",
      "3\n",
      "2\n",
      "1\n",
      "100\n",
      "end\n",
      "4\n",
      "-5\n",
      "2\n",
      "start\n",
      "-3\n",
      "-2\n",
      "-1\n",
      "\n",
      "Empting deque copy by the left:\n",
      "deque([-1, -2, -3, 'start', 2, -5, 4, 'end', 100, 1, 2, 3])\n",
      "-1\n",
      "-2\n",
      "-3\n",
      "start\n",
      "2\n",
      "-5\n",
      "4\n",
      "end\n",
      "100\n",
      "1\n",
      "2\n",
      "3\n"
     ]
    }
   ],
   "source": [
    "dek = collections.deque(['start', 2, -5, 4, 'end']); print(dek)\n",
    "dek.append(100); print(dek)\n",
    "dek.extend([1, 2, 3]); print(dek)\n",
    "dek.extendleft([-3, -2, -1]); print(dek) #\"call\" appendleft several times\n",
    "dekCopy = dek.copy()\n",
    "\n",
    "# Empting the deque\n",
    "print('\\nEmpting deque:')\n",
    "print(dek)\n",
    "for i in range(len(dek)):\n",
    "    print(dek.pop())\n",
    "\n",
    "# Empting the deque\n",
    "print('\\nEmpting deque copy by the left:')\n",
    "print(dekCopy)\n",
    "for i in range(len(dekCopy)):\n",
    "    print(dekCopy.popleft())"
   ]
  },
  {
   "cell_type": "code",
   "execution_count": 21,
   "metadata": {},
   "outputs": [
    {
     "name": "stdout",
     "output_type": "stream",
     "text": [
      "deque([1, 2, 4])\n",
      "dek[2] =  4\n",
      "deque([1, 2, 3, 4])\n",
      "dek[2] =  3\n"
     ]
    }
   ],
   "source": [
    "dek = collections.deque([1, 2, 4]); print(dek)\n",
    "print('dek[2] = ', dek[2])\n",
    "dek.insert(2, 3)\n",
    "print(dek)\n",
    "print('dek[2] = ', dek[2])"
   ]
  }
 ],
 "metadata": {
  "kernelspec": {
   "display_name": "Python 3",
   "language": "python",
   "name": "python3"
  },
  "language_info": {
   "codemirror_mode": {
    "name": "ipython",
    "version": 3
   },
   "file_extension": ".py",
   "mimetype": "text/x-python",
   "name": "python",
   "nbconvert_exporter": "python",
   "pygments_lexer": "ipython3",
   "version": "3.6.5"
  }
 },
 "nbformat": 4,
 "nbformat_minor": 2
}
