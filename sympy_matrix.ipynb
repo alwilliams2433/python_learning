{
 "cells": [
  {
   "cell_type": "code",
   "execution_count": 4,
   "metadata": {},
   "outputs": [],
   "source": [
    "import sympy\n",
    "sympy.init_printing()\n",
    "x, y, z, t = sympy.symbols('x, y, z, t')"
   ]
  },
  {
   "cell_type": "code",
   "execution_count": 14,
   "metadata": {},
   "outputs": [
    {
     "data": {
      "image/png": "[encoded data removed]",
      "text/latex": [
       "$$\\left[\\begin{matrix}-3 & 7\\\\4 & -9\\end{matrix}\\right]$$"
      ],
      "text/plain": [
       "⎡-3  7 ⎤\n",
       "⎢      ⎥\n",
       "⎣4   -9⎦"
      ]
     },
     "execution_count": 14,
     "metadata": {},
     "output_type": "execute_result"
    }
   ],
   "source": [
    "A = sympy.Matrix([[-3, 7], [4, -9]])\n",
    "A"
   ]
  },
  {
   "cell_type": "code",
   "execution_count": 15,
   "metadata": {},
   "outputs": [
    {
     "data": {
      "image/png": "[encoded data removed]",
      "text/latex": [
       "$$\\left[\\begin{matrix}1\\\\1\\end{matrix}\\right]$$"
      ],
      "text/plain": [
       "⎡1⎤\n",
       "⎢ ⎥\n",
       "⎣1⎦"
      ]
     },
     "execution_count": 15,
     "metadata": {},
     "output_type": "execute_result"
    }
   ],
   "source": [
    "b = sympy.Matrix([1, 1])\n",
    "b"
   ]
  },
  {
   "cell_type": "code",
   "execution_count": 16,
   "metadata": {},
   "outputs": [
    {
     "data": {
      "image/png": "[encoded data removed]",
      "text/latex": [
       "$$\\left[\\begin{matrix}4\\\\-5\\end{matrix}\\right]$$"
      ],
      "text/plain": [
       "⎡4 ⎤\n",
       "⎢  ⎥\n",
       "⎣-5⎦"
      ]
     },
     "execution_count": 16,
     "metadata": {},
     "output_type": "execute_result"
    }
   ],
   "source": [
    "A*b"
   ]
  },
  {
   "cell_type": "code",
   "execution_count": 17,
   "metadata": {},
   "outputs": [
    {
     "data": {
      "image/png": "[encoded data removed]",
      "text/latex": [
       "$$\\left ( 2, \\quad 2\\right )$$"
      ],
      "text/plain": [
       "(2, 2)"
      ]
     },
     "execution_count": 17,
     "metadata": {},
     "output_type": "execute_result"
    }
   ],
   "source": [
    "A.shape"
   ]
  },
  {
   "cell_type": "code",
   "execution_count": 18,
   "metadata": {},
   "outputs": [
    {
     "data": {
      "image/png": "[encoded data removed]",
      "text/latex": [
       "$$\\left[\\begin{matrix}-3\\\\4\\end{matrix}\\right]$$"
      ],
      "text/plain": [
       "⎡-3⎤\n",
       "⎢  ⎥\n",
       "⎣4 ⎦"
      ]
     },
     "execution_count": 18,
     "metadata": {},
     "output_type": "execute_result"
    }
   ],
   "source": [
    "A.col(0)"
   ]
  },
  {
   "cell_type": "code",
   "execution_count": 19,
   "metadata": {},
   "outputs": [
    {
     "data": {
      "image/png": "[encoded data removed]",
      "text/latex": [
       "$$\\left[\\begin{matrix}4 & -9\\end{matrix}\\right]$$"
      ],
      "text/plain": [
       "[4  -9]"
      ]
     },
     "execution_count": 19,
     "metadata": {},
     "output_type": "execute_result"
    }
   ],
   "source": [
    "A.row(1)"
   ]
  },
  {
   "cell_type": "code",
   "execution_count": 26,
   "metadata": {},
   "outputs": [
    {
     "data": {
      "image/png": "[encoded data removed]",
      "text/latex": [
       "$$\\left[\\begin{matrix}4 & -9\\end{matrix}\\right]$$"
      ],
      "text/plain": [
       "[4  -9]"
      ]
     },
     "execution_count": 26,
     "metadata": {},
     "output_type": "execute_result"
    }
   ],
   "source": [
    "A.row_del(0) # in place\n",
    "A"
   ]
  },
  {
   "cell_type": "code",
   "execution_count": 27,
   "metadata": {},
   "outputs": [
    {
     "data": {
      "image/png": "[encoded data removed]",
      "text/latex": [
       "$$\\left[\\begin{matrix}4 & -9\\end{matrix}\\right]$$"
      ],
      "text/plain": [
       "[4  -9]"
      ]
     },
     "execution_count": 27,
     "metadata": {},
     "output_type": "execute_result"
    }
   ],
   "source": [
    "A.row_insert(0, sympy.Matrix([[-10, -10]])) # not in place\n",
    "A"
   ]
  },
  {
   "cell_type": "code",
   "execution_count": 28,
   "metadata": {},
   "outputs": [
    {
     "data": {
      "image/png": "[encoded data removed]",
      "text/latex": [
       "$$\\left[\\begin{matrix}-10 & -10\\\\4 & -9\\end{matrix}\\right]$$"
      ],
      "text/plain": [
       "⎡-10  -10⎤\n",
       "⎢        ⎥\n",
       "⎣ 4   -9 ⎦"
      ]
     },
     "execution_count": 28,
     "metadata": {},
     "output_type": "execute_result"
    }
   ],
   "source": [
    "A = A.row_insert(0, sympy.Matrix([[-10, -10]]))\n",
    "A"
   ]
  },
  {
   "cell_type": "code",
   "execution_count": 29,
   "metadata": {},
   "outputs": [
    {
     "data": {
      "image/png": "[encoded data removed]",
      "text/latex": [
       "$$\\left[\\begin{matrix}-20 & -20\\\\8 & -18\\end{matrix}\\right]$$"
      ],
      "text/plain": [
       "⎡-20  -20⎤\n",
       "⎢        ⎥\n",
       "⎣ 8   -18⎦"
      ]
     },
     "execution_count": 29,
     "metadata": {},
     "output_type": "execute_result"
    }
   ],
   "source": [
    "2*A"
   ]
  },
  {
   "cell_type": "code",
   "execution_count": 31,
   "metadata": {},
   "outputs": [
    {
     "data": {
      "image/png": "[encoded data removed]",
      "text/latex": [
       "$$\\left[\\begin{matrix}0 & 0\\\\0 & 0\\end{matrix}\\right]$$"
      ],
      "text/plain": [
       "⎡0  0⎤\n",
       "⎢    ⎥\n",
       "⎣0  0⎦"
      ]
     },
     "execution_count": 31,
     "metadata": {},
     "output_type": "execute_result"
    }
   ],
   "source": [
    "A-A"
   ]
  },
  {
   "cell_type": "code",
   "execution_count": 32,
   "metadata": {},
   "outputs": [
    {
     "data": {
      "image/png": "[encoded data removed]",
      "text/latex": [
       "$$\\left[\\begin{matrix}60 & 190\\\\-76 & 41\\end{matrix}\\right]$$"
      ],
      "text/plain": [
       "⎡60   190⎤\n",
       "⎢        ⎥\n",
       "⎣-76  41 ⎦"
      ]
     },
     "execution_count": 32,
     "metadata": {},
     "output_type": "execute_result"
    }
   ],
   "source": [
    "A**2 # see that it is equivalent to A*A"
   ]
  },
  {
   "cell_type": "code",
   "execution_count": 35,
   "metadata": {},
   "outputs": [
    {
     "data": {
      "image/png": "[encoded data removed]",
      "text/latex": [
       "$$\\left[\\begin{matrix}- \\frac{40 \\sqrt{159} i \\left(- \\frac{19}{2} + \\frac{\\sqrt{159} i}{2}\\right)^{1.5}}{159 \\left(- \\frac{1}{2} - \\frac{\\sqrt{159} i}{2}\\right)} + \\frac{4 \\sqrt{159} i \\left(- \\frac{19}{2} - \\frac{\\sqrt{159} i}{2}\\right)^{1.5} \\left(- \\frac{\\sqrt{159} i}{4} + \\frac{10}{- \\frac{1}{2} - \\frac{\\sqrt{159} i}{2}}\\right)}{159} & \\frac{400 \\sqrt{159} i \\left(- \\frac{19}{2} + \\frac{\\sqrt{159} i}{2}\\right)^{1.5}}{159 \\left(- \\frac{1}{2} - \\frac{\\sqrt{159} i}{2}\\right) \\left(- \\frac{1}{2} + \\frac{\\sqrt{159} i}{2}\\right)} - \\frac{400 \\sqrt{159} i \\left(- \\frac{19}{2} - \\frac{\\sqrt{159} i}{2}\\right)^{1.5}}{159 \\left(- \\frac{1}{2} - \\frac{\\sqrt{159} i}{2}\\right) \\left(- \\frac{1}{2} + \\frac{\\sqrt{159} i}{2}\\right)}\\\\\\frac{2 \\sqrt{159} i \\left(- \\frac{19}{2} - \\frac{\\sqrt{159} i}{2}\\right)^{1.5} \\left(- \\frac{1}{2} + \\frac{\\sqrt{159} i}{2}\\right) \\left(- \\frac{\\sqrt{159} i}{4} + \\frac{10}{- \\frac{1}{2} - \\frac{\\sqrt{159} i}{2}}\\right)}{795} - \\frac{4 \\sqrt{159} i \\left(- \\frac{19}{2} + \\frac{\\sqrt{159} i}{2}\\right)^{1.5}}{159} & \\frac{40 \\sqrt{159} i \\left(- \\frac{19}{2} + \\frac{\\sqrt{159} i}{2}\\right)^{1.5}}{159 \\left(- \\frac{1}{2} + \\frac{\\sqrt{159} i}{2}\\right)} - \\frac{40 \\sqrt{159} i \\left(- \\frac{19}{2} - \\frac{\\sqrt{159} i}{2}\\right)^{1.5}}{159 \\left(- \\frac{1}{2} - \\frac{\\sqrt{159} i}{2}\\right)}\\end{matrix}\\right]$$"
      ],
      "text/plain": [
       "⎡                                                               1.5           \n",
       "⎢                                                ⎛  19   √159⋅ⅈ⎞    ⎛  √159⋅ⅈ \n",
       "⎢                                 1.5   4⋅√159⋅ⅈ⋅⎜- ── - ──────⎟   ⋅⎜- ────── \n",
       "⎢                  ⎛  19   √159⋅ⅈ⎞               ⎝  2      2   ⎠    ⎜    4    \n",
       "⎢        40⋅√159⋅ⅈ⋅⎜- ── + ──────⎟                                  ⎜         \n",
       "⎢                  ⎝  2      2   ⎠                                  ⎝         \n",
       "⎢      - ──────────────────────────── + ──────────────────────────────────────\n",
       "⎢                 ⎛  1   √159⋅ⅈ⎞                                 159          \n",
       "⎢             159⋅⎜- ─ - ──────⎟                                              \n",
       "⎢                 ⎝  2     2   ⎠                                              \n",
       "⎢                                                                             \n",
       "⎢                        1.5                                                  \n",
       "⎢         ⎛  19   √159⋅ⅈ⎞    ⎛  1   √159⋅ⅈ⎞ ⎛  √159⋅ⅈ        10     ⎞         \n",
       "⎢2⋅√159⋅ⅈ⋅⎜- ── - ──────⎟   ⋅⎜- ─ + ──────⎟⋅⎜- ────── + ────────────⎟         \n",
       "⎢         ⎝  2      2   ⎠    ⎝  2     2   ⎠ ⎜    4        1   √159⋅ⅈ⎟         \n",
       "⎢                                           ⎜           - ─ - ──────⎟   4⋅√159\n",
       "⎢                                           ⎝             2     2   ⎠         \n",
       "⎢──────────────────────────────────────────────────────────────────── - ──────\n",
       "⎢                                795                                          \n",
       "⎢                                                                             \n",
       "⎣                                                                             \n",
       "\n",
       "                                                                              \n",
       "       10     ⎞                                                               \n",
       "+ ────────────⎟                                    1.5                        \n",
       "    1   √159⋅ⅈ⎟                     ⎛  19   √159⋅ⅈ⎞                     ⎛  19 \n",
       "  - ─ - ──────⎟          400⋅√159⋅ⅈ⋅⎜- ── + ──────⎟          400⋅√159⋅ⅈ⋅⎜- ── \n",
       "    2     2   ⎠                     ⎝  2      2   ⎠                     ⎝  2  \n",
       "───────────────        ───────────────────────────────── - ───────────────────\n",
       "                           ⎛  1   √159⋅ⅈ⎞ ⎛  1   √159⋅ⅈ⎞       ⎛  1   √159⋅ⅈ⎞ \n",
       "                       159⋅⎜- ─ - ──────⎟⋅⎜- ─ + ──────⎟   159⋅⎜- ─ - ──────⎟⋅\n",
       "                           ⎝  2     2   ⎠ ⎝  2     2   ⎠       ⎝  2     2   ⎠ \n",
       "                                                                              \n",
       "                                                                              \n",
       "                                                                              \n",
       "                  1.5                                1.5                      \n",
       "   ⎛  19   √159⋅ⅈ⎞                    ⎛  19   √159⋅ⅈ⎞                ⎛  19   √\n",
       "⋅ⅈ⋅⎜- ── + ──────⎟          40⋅√159⋅ⅈ⋅⎜- ── + ──────⎟      40⋅√159⋅ⅈ⋅⎜- ── - ─\n",
       "   ⎝  2      2   ⎠                    ⎝  2      2   ⎠                ⎝  2     \n",
       "─────────────────────       ──────────────────────────── - ───────────────────\n",
       "      159                            ⎛  1   √159⋅ⅈ⎞                 ⎛  1   √15\n",
       "                                 159⋅⎜- ─ + ──────⎟             159⋅⎜- ─ - ───\n",
       "                                     ⎝  2     2   ⎠                 ⎝  2     2\n",
       "\n",
       "              ⎤\n",
       "              ⎥\n",
       "         1.5  ⎥\n",
       "  √159⋅ⅈ⎞     ⎥\n",
       "- ──────⎟     ⎥\n",
       "    2   ⎠     ⎥\n",
       "──────────────⎥\n",
       "⎛  1   √159⋅ⅈ⎞⎥\n",
       "⎜- ─ + ──────⎟⎥\n",
       "⎝  2     2   ⎠⎥\n",
       "              ⎥\n",
       "              ⎥\n",
       "              ⎥\n",
       "      1.5     ⎥\n",
       "159⋅ⅈ⎞        ⎥\n",
       "─────⎟        ⎥\n",
       " 2   ⎠        ⎥\n",
       "─────────     ⎥\n",
       "9⋅ⅈ⎞          ⎥\n",
       "───⎟          ⎥\n",
       "   ⎠          ⎦"
      ]
     },
     "execution_count": 35,
     "metadata": {},
     "output_type": "execute_result"
    }
   ],
   "source": [
    "A**1.5 # something complex"
   ]
  },
  {
   "cell_type": "code",
   "execution_count": 36,
   "metadata": {},
   "outputs": [
    {
     "data": {
      "image/png": "[encoded data removed]",
      "text/latex": [
       "$$\\left[\\begin{matrix}0.176776695296637 \\left(-19 + \\sqrt{159} i\\right)^{1.5} + 0.00111180311507319 \\sqrt{159} i \\left(-19 + \\sqrt{159} i\\right)^{1.5} - 0.00111180311507319 \\sqrt{159} i \\left(-19 - \\sqrt{159} i\\right)^{1.5} + 0.176776695296637 \\left(-19 - \\sqrt{159} i\\right)^{1.5} & 0.0222360623014638 \\sqrt{159} i \\left(\\left(-19 + \\sqrt{159} i\\right)^{1.5} - \\left(-19 - \\sqrt{159} i\\right)^{1.5}\\right)\\\\0.00889442492058551 \\sqrt{159} i \\left(-19 - \\sqrt{159} i\\right)^{1.5} - 0.00889442492058551 \\sqrt{159} i \\left(-19 + \\sqrt{159} i\\right)^{1.5} & 0.176776695296637 \\left(-19 + \\sqrt{159} i\\right)^{1.5} + 0.00111180311507319 \\sqrt{159} i \\left(-19 - \\sqrt{159} i\\right)^{1.5} - 0.00111180311507319 \\sqrt{159} i \\left(-19 + \\sqrt{159} i\\right)^{1.5} + 0.176776695296637 \\left(-19 - \\sqrt{159} i\\right)^{1.5}\\end{matrix}\\right]$$"
      ],
      "text/plain": [
       "⎡                                1.5                                          \n",
       "⎢0.176776695296637⋅(-19 + √159⋅ⅈ)    + 0.00111180311507319⋅√159⋅ⅈ⋅(-19 + √159⋅\n",
       "⎢                                                                             \n",
       "⎢                                                                             \n",
       "⎣                                      0.00889442492058551⋅√159⋅ⅈ⋅(-19 - √159⋅\n",
       "\n",
       "  1.5                                            1.5                          \n",
       "ⅈ)    - 0.00111180311507319⋅√159⋅ⅈ⋅(-19 - √159⋅ⅈ)    + 0.176776695296637⋅(-19 \n",
       "                                                                              \n",
       "  1.5                                            1.5                          \n",
       "ⅈ)    - 0.00889442492058551⋅√159⋅ⅈ⋅(-19 + √159⋅ⅈ)                             \n",
       "\n",
       "         1.5                                                                  \n",
       "- √159⋅ⅈ)                                                        0.02223606230\n",
       "                                                                              \n",
       "                                              1.5                             \n",
       "              0.176776695296637⋅(-19 + √159⋅ⅈ)    + 0.00111180311507319⋅√159⋅ⅈ\n",
       "\n",
       "             ⎛              1.5                 1.5⎞                          \n",
       "14638⋅√159⋅ⅈ⋅⎝(-19 + √159⋅ⅈ)    - (-19 - √159⋅ⅈ)   ⎠                          \n",
       "                                                                              \n",
       "               1.5                                            1.5             \n",
       "⋅(-19 - √159⋅ⅈ)    - 0.00111180311507319⋅√159⋅ⅈ⋅(-19 + √159⋅ⅈ)    + 0.17677669\n",
       "\n",
       "                         ⎤\n",
       "                         ⎥\n",
       "                         ⎥\n",
       "                      1.5⎥\n",
       "5296637⋅(-19 - √159⋅ⅈ)   ⎦"
      ]
     },
     "execution_count": 36,
     "metadata": {},
     "output_type": "execute_result"
    }
   ],
   "source": [
    "sympy.simplify(A**1.5) # something complex"
   ]
  },
  {
   "cell_type": "code",
   "execution_count": 37,
   "metadata": {},
   "outputs": [
    {
     "data": {
      "image/png": "[encoded data removed]",
      "text/latex": [
       "$$\\left[\\begin{matrix}-10 & 4\\\\-10 & -9\\end{matrix}\\right]$$"
      ],
      "text/plain": [
       "⎡-10  4 ⎤\n",
       "⎢       ⎥\n",
       "⎣-10  -9⎦"
      ]
     },
     "execution_count": 37,
     "metadata": {},
     "output_type": "execute_result"
    }
   ],
   "source": [
    "A.T"
   ]
  },
  {
   "cell_type": "code",
   "execution_count": 38,
   "metadata": {},
   "outputs": [
    {
     "data": {
      "image/png": "[encoded data removed]",
      "text/latex": [
       "$$\\left[\\begin{matrix}-10 & -10\\\\4 & -9\\end{matrix}\\right]$$"
      ],
      "text/plain": [
       "⎡-10  -10⎤\n",
       "⎢        ⎥\n",
       "⎣ 4   -9 ⎦"
      ]
     },
     "execution_count": 38,
     "metadata": {},
     "output_type": "execute_result"
    }
   ],
   "source": [
    "A"
   ]
  },
  {
   "cell_type": "code",
   "execution_count": 39,
   "metadata": {},
   "outputs": [
    {
     "data": {
      "image/png": "[encoded data removed]",
      "text/latex": [
       "$$\\left[\\begin{matrix}1 & 0 & 0\\\\0 & 1 & 0\\\\0 & 0 & 1\\end{matrix}\\right]$$"
      ],
      "text/plain": [
       "⎡1  0  0⎤\n",
       "⎢       ⎥\n",
       "⎢0  1  0⎥\n",
       "⎢       ⎥\n",
       "⎣0  0  1⎦"
      ]
     },
     "execution_count": 39,
     "metadata": {},
     "output_type": "execute_result"
    }
   ],
   "source": [
    "sympy.eye(3)"
   ]
  },
  {
   "cell_type": "code",
   "execution_count": 40,
   "metadata": {},
   "outputs": [
    {
     "data": {
      "image/png": "[encoded data removed]",
      "text/latex": [
       "$$\\left[\\begin{matrix}1 & 1 & 1 & 1\\\\1 & 1 & 1 & 1\\\\1 & 1 & 1 & 1\\\\1 & 1 & 1 & 1\\end{matrix}\\right]$$"
      ],
      "text/plain": [
       "⎡1  1  1  1⎤\n",
       "⎢          ⎥\n",
       "⎢1  1  1  1⎥\n",
       "⎢          ⎥\n",
       "⎢1  1  1  1⎥\n",
       "⎢          ⎥\n",
       "⎣1  1  1  1⎦"
      ]
     },
     "execution_count": 40,
     "metadata": {},
     "output_type": "execute_result"
    }
   ],
   "source": [
    "sympy.ones(4)"
   ]
  },
  {
   "cell_type": "code",
   "execution_count": 41,
   "metadata": {},
   "outputs": [
    {
     "data": {
      "image/png": "[encoded data removed]",
      "text/latex": [
       "$$\\left[\\begin{matrix}0 & 0\\\\0 & 0\\end{matrix}\\right]$$"
      ],
      "text/plain": [
       "⎡0  0⎤\n",
       "⎢    ⎥\n",
       "⎣0  0⎦"
      ]
     },
     "execution_count": 41,
     "metadata": {},
     "output_type": "execute_result"
    }
   ],
   "source": [
    "sympy.zeros(2)"
   ]
  },
  {
   "cell_type": "code",
   "execution_count": 42,
   "metadata": {},
   "outputs": [
    {
     "data": {
      "image/png": "[encoded data removed]",
      "text/latex": [
       "$$130$$"
      ],
      "text/plain": [
       "130"
      ]
     },
     "execution_count": 42,
     "metadata": {},
     "output_type": "execute_result"
    }
   ],
   "source": [
    "A.det()"
   ]
  },
  {
   "cell_type": "code",
   "execution_count": 43,
   "metadata": {},
   "outputs": [
    {
     "data": {
      "image/png": "[encoded data removed]",
      "text/latex": [
       "$$\\left \\{ - \\frac{19}{2} - \\frac{\\sqrt{159} i}{2} : 1, \\quad - \\frac{19}{2} + \\frac{\\sqrt{159} i}{2} : 1\\right \\}$$"
      ],
      "text/plain": [
       "⎧  19   √159⋅ⅈ       19   √159⋅ⅈ   ⎫\n",
       "⎨- ── - ──────: 1, - ── + ──────: 1⎬\n",
       "⎩  2      2          2      2      ⎭"
      ]
     },
     "execution_count": 43,
     "metadata": {},
     "output_type": "execute_result"
    }
   ],
   "source": [
    "A.eigenvals()"
   ]
  },
  {
   "cell_type": "code",
   "execution_count": 45,
   "metadata": {},
   "outputs": [
    {
     "data": {
      "image/png": "[encoded data removed]",
      "text/latex": [
       "$$\\left [ \\left ( - \\frac{19}{2} - \\frac{\\sqrt{159} i}{2}, \\quad 1, \\quad \\left [ \\left[\\begin{matrix}\\frac{10}{- \\frac{1}{2} + \\frac{\\sqrt{159} i}{2}}\\\\1\\end{matrix}\\right]\\right ]\\right ), \\quad \\left ( - \\frac{19}{2} + \\frac{\\sqrt{159} i}{2}, \\quad 1, \\quad \\left [ \\left[\\begin{matrix}\\frac{10}{- \\frac{1}{2} - \\frac{\\sqrt{159} i}{2}}\\\\1\\end{matrix}\\right]\\right ]\\right )\\right ]$$"
      ],
      "text/plain": [
       "⎡⎛                  ⎡⎡     10     ⎤⎤⎞  ⎛                  ⎡⎡     10     ⎤⎤⎞⎤\n",
       "⎢⎜                  ⎢⎢────────────⎥⎥⎟  ⎜                  ⎢⎢────────────⎥⎥⎟⎥\n",
       "⎢⎜  19   √159⋅ⅈ     ⎢⎢  1   √159⋅ⅈ⎥⎥⎟  ⎜  19   √159⋅ⅈ     ⎢⎢  1   √159⋅ⅈ⎥⎥⎟⎥\n",
       "⎢⎜- ── - ──────, 1, ⎢⎢- ─ + ──────⎥⎥⎟, ⎜- ── + ──────, 1, ⎢⎢- ─ - ──────⎥⎥⎟⎥\n",
       "⎢⎜  2      2        ⎢⎢  2     2   ⎥⎥⎟  ⎜  2      2        ⎢⎢  2     2   ⎥⎥⎟⎥\n",
       "⎢⎜                  ⎢⎢            ⎥⎥⎟  ⎜                  ⎢⎢            ⎥⎥⎟⎥\n",
       "⎣⎝                  ⎣⎣     1      ⎦⎦⎠  ⎝                  ⎣⎣     1      ⎦⎦⎠⎦"
      ]
     },
     "execution_count": 45,
     "metadata": {},
     "output_type": "execute_result"
    }
   ],
   "source": [
    "A.eigenvects()"
   ]
  },
  {
   "cell_type": "code",
   "execution_count": 46,
   "metadata": {},
   "outputs": [
    {
     "data": {
      "image/png": "[encoded data removed]",
      "text/latex": [
       "$$\\left ( \\left[\\begin{matrix}1 & 0\\\\- \\frac{2}{5} & 1\\end{matrix}\\right], \\quad \\left[\\begin{matrix}-10 & -10\\\\0 & -13\\end{matrix}\\right], \\quad \\left [ \\right ]\\right )$$"
      ],
      "text/plain": [
       "⎛⎡ 1    0⎤  ⎡-10  -10⎤    ⎞\n",
       "⎜⎢       ⎥, ⎢        ⎥, []⎟\n",
       "⎝⎣-2/5  1⎦  ⎣ 0   -13⎦    ⎠"
      ]
     },
     "execution_count": 46,
     "metadata": {},
     "output_type": "execute_result"
    }
   ],
   "source": [
    "A.LUdecomposition()"
   ]
  },
  {
   "cell_type": "code",
   "execution_count": 48,
   "metadata": {},
   "outputs": [
    {
     "data": {
      "image/png": "[encoded data removed]",
      "text/latex": [
       "$$\\left ( \\left[\\begin{matrix}- \\frac{5 \\sqrt{29}}{29} & - \\frac{2 \\sqrt{29}}{29}\\\\\\frac{2 \\sqrt{29}}{29} & - \\frac{5 \\sqrt{29}}{29}\\end{matrix}\\right], \\quad \\left[\\begin{matrix}2 \\sqrt{29} & \\frac{32 \\sqrt{29}}{29}\\\\0 & \\frac{65 \\sqrt{29}}{29}\\end{matrix}\\right]\\right )$$"
      ],
      "text/plain": [
       "⎛⎡-5⋅√29   -2⋅√29 ⎤  ⎡       32⋅√29⎤⎞\n",
       "⎜⎢───────  ───────⎥  ⎢2⋅√29  ──────⎥⎟\n",
       "⎜⎢   29       29  ⎥  ⎢         29  ⎥⎟\n",
       "⎜⎢                ⎥, ⎢             ⎥⎟\n",
       "⎜⎢ 2⋅√29   -5⋅√29 ⎥  ⎢       65⋅√29⎥⎟\n",
       "⎜⎢ ─────   ───────⎥  ⎢  0    ──────⎥⎟\n",
       "⎝⎣   29       29  ⎦  ⎣         29  ⎦⎠"
      ]
     },
     "execution_count": 48,
     "metadata": {},
     "output_type": "execute_result"
    }
   ],
   "source": [
    "A.QRdecomposition()"
   ]
  },
  {
   "cell_type": "code",
   "execution_count": 50,
   "metadata": {},
   "outputs": [
    {
     "data": {
      "image/png": "[encoded data removed]",
      "text/latex": [
       "$$\\left[\\begin{matrix}- \\frac{9}{130} & \\frac{1}{13}\\\\- \\frac{2}{65} & - \\frac{1}{13}\\end{matrix}\\right]$$"
      ],
      "text/plain": [
       "⎡-9/130  1/13 ⎤\n",
       "⎢             ⎥\n",
       "⎣-2/65   -1/13⎦"
      ]
     },
     "execution_count": 50,
     "metadata": {},
     "output_type": "execute_result"
    }
   ],
   "source": [
    "A.inv()"
   ]
  },
  {
   "cell_type": "code",
   "execution_count": 52,
   "metadata": {},
   "outputs": [
    {
     "data": {
      "image/png": "[encoded data removed]",
      "text/latex": [
       "$$\\left[\\begin{matrix}- \\frac{9}{130} & \\frac{1}{13}\\\\- \\frac{2}{65} & - \\frac{1}{13}\\end{matrix}\\right]$$"
      ],
      "text/plain": [
       "⎡-9/130  1/13 ⎤\n",
       "⎢             ⎥\n",
       "⎣-2/65   -1/13⎦"
      ]
     },
     "execution_count": 52,
     "metadata": {},
     "output_type": "execute_result"
    }
   ],
   "source": [
    "A**-1"
   ]
  }
 ],
 "metadata": {
  "kernelspec": {
   "display_name": "Python 3",
   "language": "python",
   "name": "python3"
  },
  "language_info": {
   "codemirror_mode": {
    "name": "ipython",
    "version": 3
   },
   "file_extension": ".py",
   "mimetype": "text/x-python",
   "name": "python",
   "nbconvert_exporter": "python",
   "pygments_lexer": "ipython3",
   "version": "3.6.5"
  }
 },
 "nbformat": 4,
 "nbformat_minor": 2
}
