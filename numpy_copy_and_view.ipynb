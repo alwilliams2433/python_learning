{
 "cells": [
  {
   "cell_type": "code",
   "execution_count": 2,
   "metadata": {},
   "outputs": [],
   "source": [
    "import numpy"
   ]
  },
  {
   "cell_type": "code",
   "execution_count": 9,
   "metadata": {},
   "outputs": [
    {
     "name": "stdout",
     "output_type": "stream",
     "text": [
      "[[0 1]\n",
      " [2 3]]\n",
      "[[0 1]\n",
      " [2 3]] \n",
      "\n",
      "140665891666960\n",
      "140665891666480 \n",
      "\n",
      "[[0 1]\n",
      " [2 3]]\n",
      "[[0]\n",
      " [1]\n",
      " [2]\n",
      " [3]] \n",
      "\n",
      "[[10  1]\n",
      " [ 2  3]]\n",
      "[[10]\n",
      " [ 1]\n",
      " [ 2]\n",
      " [ 3]] \n",
      "\n"
     ]
    }
   ],
   "source": [
    "array = numpy.arange(4).reshape(2,2)\n",
    "arrayView = array.view()\n",
    "\n",
    "print(array)\n",
    "print(arrayView, '\\n')\n",
    "\n",
    "print(id(array))\n",
    "print(id(arrayView), '\\n')\n",
    "\n",
    "# I can change the array object properties\n",
    "# not related to its data without changing\n",
    "# the original object.\n",
    "arrayView.shape = (4,1)\n",
    "print(array)\n",
    "print(arrayView, '\\n')\n",
    "\n",
    "# However, the data content are shared.\n",
    "arrayView[0,0] = 10\n",
    "print(array)\n",
    "print(arrayView, '\\n')"
   ]
  },
  {
   "cell_type": "code",
   "execution_count": 10,
   "metadata": {},
   "outputs": [
    {
     "name": "stdout",
     "output_type": "stream",
     "text": [
      "[[0 1]\n",
      " [2 3]]\n",
      "[[0 1]\n",
      " [2 3]] \n",
      "\n",
      "140665891666400\n",
      "140665891666960 \n",
      "\n",
      "[[0 1]\n",
      " [2 3]]\n",
      "[[0]\n",
      " [1]\n",
      " [2]\n",
      " [3]] \n",
      "\n",
      "[[0 1]\n",
      " [2 3]]\n",
      "[[10]\n",
      " [ 1]\n",
      " [ 2]\n",
      " [ 3]] \n",
      "\n"
     ]
    }
   ],
   "source": [
    "array = numpy.arange(4).reshape(2,2)\n",
    "arrayCopy = array.copy()\n",
    "\n",
    "print(array)\n",
    "print(arrayCopy, '\\n')\n",
    "\n",
    "print(id(array))\n",
    "print(id(arrayCopy), '\\n')\n",
    "\n",
    "arrayCopy.shape = (4,1)\n",
    "print(array)\n",
    "print(arrayCopy, '\\n')\n",
    "\n",
    "arrayCopy[0,0] = 10\n",
    "print(array)\n",
    "print(arrayCopy, '\\n')"
   ]
  }
 ],
 "metadata": {
  "kernelspec": {
   "display_name": "Python 3",
   "language": "python",
   "name": "python3"
  },
  "language_info": {
   "codemirror_mode": {
    "name": "ipython",
    "version": 3
   },
   "file_extension": ".py",
   "mimetype": "text/x-python",
   "name": "python",
   "nbconvert_exporter": "python",
   "pygments_lexer": "ipython3",
   "version": "3.6.5"
  }
 },
 "nbformat": 4,
 "nbformat_minor": 2
}
