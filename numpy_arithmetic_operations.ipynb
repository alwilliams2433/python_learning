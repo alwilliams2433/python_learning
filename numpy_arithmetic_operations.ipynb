{
 "cells": [
  {
   "cell_type": "code",
   "execution_count": 2,
   "metadata": {},
   "outputs": [],
   "source": [
    "import numpy"
   ]
  },
  {
   "cell_type": "code",
   "execution_count": 4,
   "metadata": {
    "scrolled": true
   },
   "outputs": [
    {
     "name": "stdout",
     "output_type": "stream",
     "text": [
      "[[0 1 2]\n",
      " [3 4 5]\n",
      " [6 7 8]] \n",
      "\n",
      "[10 20 30] \n",
      "\n",
      "[[10 21 32]\n",
      " [13 24 35]\n",
      " [16 27 38]] \n",
      "\n",
      "[[-10 -19 -28]\n",
      " [ -7 -16 -25]\n",
      " [ -4 -13 -22]] \n",
      "\n",
      "[[  0  20  60]\n",
      " [ 30  80 150]\n",
      " [ 60 140 240]] \n",
      "\n",
      "[[0.         0.05       0.06666667]\n",
      " [0.3        0.2        0.16666667]\n",
      " [0.6        0.35       0.26666667]] \n",
      "\n"
     ]
    }
   ],
   "source": [
    "arrayA = numpy.arange(9).reshape(3,3)\n",
    "arrayB = numpy.arange(10,40,10)\n",
    "print(arrayA, '\\n')\n",
    "print(arrayB, '\\n')\n",
    "print(arrayA + arrayB, '\\n')\n",
    "print(arrayA - arrayB, '\\n')\n",
    "print(arrayA * arrayB, '\\n')\n",
    "print(arrayA / arrayB, '\\n')"
   ]
  },
  {
   "cell_type": "code",
   "execution_count": 8,
   "metadata": {},
   "outputs": [
    {
     "name": "stdout",
     "output_type": "stream",
     "text": [
      "[[1.         0.5        0.33333333]\n",
      " [0.25       0.2        0.16666667]\n",
      " [0.14285714 0.125      0.11111111]] \n",
      "\n",
      "[[1.         0.5        0.33333333]\n",
      " [0.25       0.2        0.16666667]\n",
      " [0.14285714 0.125      0.11111111]] \n",
      "\n"
     ]
    }
   ],
   "source": [
    "array = numpy.arange(1.,10.).reshape(3,3)\n",
    "print(1/array, '\\n')\n",
    "print(numpy.reciprocal(array), '\\n')"
   ]
  },
  {
   "cell_type": "code",
   "execution_count": 10,
   "metadata": {},
   "outputs": [
    {
     "name": "stdout",
     "output_type": "stream",
     "text": [
      "[[  2.   4.   8.]\n",
      " [ 16.  32.  64.]\n",
      " [128. 256. 512.]] \n",
      "\n",
      "[[  2.   4.   8.]\n",
      " [ 16.  32.  64.]\n",
      " [128. 256. 512.]] \n",
      "\n",
      "[[ 1.  4.  9.]\n",
      " [16. 25. 36.]\n",
      " [49. 64. 81.]] \n",
      "\n",
      "[[ 1.  4.  9.]\n",
      " [16. 25. 36.]\n",
      " [49. 64. 81.]] \n",
      "\n"
     ]
    }
   ],
   "source": [
    "array = numpy.arange(1.,10.).reshape(3,3)\n",
    "print(numpy.power(2,array), '\\n')\n",
    "print(2**array, '\\n')\n",
    "print(numpy.power(array,2), '\\n')\n",
    "print(array**2, '\\n')"
   ]
  },
  {
   "cell_type": "code",
   "execution_count": 20,
   "metadata": {},
   "outputs": [
    {
     "name": "stdout",
     "output_type": "stream",
     "text": [
      "1\n",
      "1\n",
      "[3 2 1]\n",
      "[3 2 1]\n",
      "[3 2 1]\n",
      "[3 2 2]\n"
     ]
    }
   ],
   "source": [
    "print( 21%10 )\n",
    "print( numpy.mod(21, 10) )\n",
    "print( numpy.mod([11,14,17], 4) )\n",
    "print( numpy.remainder([11,14,17], 4) )\n",
    "print( numpy.array([11,14,17])%4 )\n",
    "print( numpy.mod([11,14,17], [4,3,5]) )"
   ]
  },
  {
   "cell_type": "code",
   "execution_count": 29,
   "metadata": {},
   "outputs": [
    {
     "name": "stdout",
     "output_type": "stream",
     "text": [
      "(3+4j)\n",
      "3.0\n",
      "4.0\n",
      "(3-4j)\n",
      "0.9272952180016122 == 53.13010235415598 degree\n",
      "5.0\n"
     ]
    }
   ],
   "source": [
    "cplx = numpy.complex(3,4)\n",
    "print(cplx)\n",
    "print(numpy.real(cplx))\n",
    "print(numpy.imag(cplx))\n",
    "print(numpy.conj(cplx))\n",
    "print(numpy.angle(cplx), '==', numpy.degrees(numpy.angle(cplx)), 'degree')\n",
    "print(numpy.abs(cplx))"
   ]
  },
  {
   "cell_type": "code",
   "execution_count": 32,
   "metadata": {},
   "outputs": [
    {
     "name": "stdout",
     "output_type": "stream",
     "text": [
      "[[1. 2. 3.]\n",
      " [4. 5. 6.]\n",
      " [7. 8. 9.]] \n",
      "\n",
      "[[-1. -2. -3.]\n",
      " [-4. -5. -6.]\n",
      " [-7. -8. -9.]] \n",
      "\n",
      "[[0. 0. 0.]\n",
      " [0. 0. 0.]\n",
      " [0. 0. 0.]] \n",
      "\n",
      "[[ 2.  4.  6.]\n",
      " [ 8. 10. 12.]\n",
      " [14. 16. 18.]] \n",
      "\n",
      "[[ -1.  -4.  -9.]\n",
      " [-16. -25. -36.]\n",
      " [-49. -64. -81.]] \n",
      "\n",
      "[[-1. -1. -1.]\n",
      " [-1. -1. -1.]\n",
      " [-1. -1. -1.]] \n",
      "\n"
     ]
    }
   ],
   "source": [
    "arrayA = numpy.arange(1.,10.).reshape(3,3)\n",
    "arrayB = numpy.arange(-1.,-10.,-1).reshape(3,3)\n",
    "print(arrayA, '\\n')\n",
    "print(arrayB, '\\n')\n",
    "print(arrayA + arrayB, '\\n')\n",
    "print(arrayA - arrayB, '\\n')\n",
    "print(arrayA * arrayB, '\\n')\n",
    "print(arrayA / arrayB, '\\n')"
   ]
  }
 ],
 "metadata": {
  "kernelspec": {
   "display_name": "Python 3",
   "language": "python",
   "name": "python3"
  },
  "language_info": {
   "codemirror_mode": {
    "name": "ipython",
    "version": 3
   },
   "file_extension": ".py",
   "mimetype": "text/x-python",
   "name": "python",
   "nbconvert_exporter": "python",
   "pygments_lexer": "ipython3",
   "version": "3.6.5"
  }
 },
 "nbformat": 4,
 "nbformat_minor": 2
}
