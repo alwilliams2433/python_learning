{
 "cells": [
  {
   "cell_type": "markdown",
   "metadata": {},
   "source": [
    "# Reference\n",
    "\n",
    "https://stackoverflow.com/questions/31428581/incremental-pca-on-big-data"
   ]
  },
  {
   "cell_type": "markdown",
   "metadata": {},
   "source": [
    "# Create Dataset"
   ]
  },
  {
   "cell_type": "code",
   "execution_count": 26,
   "metadata": {},
   "outputs": [],
   "source": [
    "h5.close()"
   ]
  },
  {
   "cell_type": "code",
   "execution_count": 29,
   "metadata": {},
   "outputs": [],
   "source": [
    "import h5py\n",
    "import numpy as np\n",
    "h5 = h5py.File('matrices_big_data.h5', 'w') # approx 5 GB file\n",
    "\n",
    "vectorSize = 10000\n",
    "vectorsShape = (1,vectorSize)\n",
    "numberOfVectorsPerFamily = 20833\n",
    "randomAmplitude = 0.3\n",
    "\n",
    "zeroVector = np.zeros(vectorsShape)\n",
    "onesVector = np.ones(vectorsShape)\n",
    "oscilatingVector = np.ones(vectorsShape)\n",
    "for i in range(1,vectorSize,2):\n",
    "    oscilatingVector[0,i] = -1\n",
    "\n",
    "h5.create_dataset('data', shape=(3*numberOfVectorsPerFamily,vectorSize), dtype=np.float_)\n",
    "for i in range(numberOfVectorsPerFamily):\n",
    "    h5['data'][(3*i+0)*vectorSize:(3*i+1)*vectorSize] = zeroVector + np.random.uniform(low=-randomAmplitude, high=randomAmplitude, size=vectorsShape)\n",
    "    h5['data'][(3*i+1)*vectorSize:(3*i+2)*vectorSize] = onesVector + np.random.uniform(low=-randomAmplitude, high=randomAmplitude, size=vectorsShape)\n",
    "    h5['data'][(3*i+2)*vectorSize:(3*i+3)*vectorSize] = oscilatingVector + np.random.uniform(low=-randomAmplitude, high=randomAmplitude, size=vectorsShape)\n",
    "h5.close()"
   ]
  },
  {
   "cell_type": "markdown",
   "metadata": {},
   "source": [
    "# Process Data"
   ]
  },
  {
   "cell_type": "code",
   "execution_count": 30,
   "metadata": {},
   "outputs": [
    {
     "name": "stdout",
     "output_type": "stream",
     "text": [
      "number of rows: 62499\n"
     ]
    }
   ],
   "source": [
    "import h5py\n",
    "import numpy as np\n",
    "from sklearn.decomposition import IncrementalPCA\n",
    "\n",
    "h5 = h5py.File('matrices_big_data.h5')\n",
    "data = h5['data'] # it's ok, the dataset is not fetched to memory yet\n",
    "\n",
    "n = data.shape[0] # how many rows we have in the dataset\n",
    "print('number of rows: {}'.format(n))\n",
    "chunk_size = 1000 # how many rows we feed to IPCA at a time, the divisor of n\n",
    "ipca = IncrementalPCA(n_components=5, batch_size=16)\n",
    "\n",
    "for i in range(0, n//chunk_size):\n",
    "    ipca.partial_fit(data[i*chunk_size : (i+1)*chunk_size])"
   ]
  },
  {
   "cell_type": "code",
   "execution_count": 48,
   "metadata": {},
   "outputs": [
    {
     "data": {
      "image/png": "[encoded data removed]",
      "text/plain": [
       "<matplotlib.figure.Figure at 0xb7b5ba8>"
      ]
     },
     "metadata": {},
     "output_type": "display_data"
    }
   ],
   "source": [
    "import matplotlib.pyplot as plt\n",
    "\n",
    "plt.figure(figsize=(6,6))\n",
    "plt.plot(range(len(ipca.singular_values_)), ipca.singular_values_, marker='o')\n",
    "plt.yscale('log')\n",
    "plt.grid(True)\n",
    "plt.grid(axis='y', which='minor', b=True, linestyle=':')\n",
    "plt.xlabel('singular value number')\n",
    "plt.ylabel('singular value')\n",
    "plt.ylim([1000, 1.1*np.amax(ipca.singular_values_)])\n",
    "\n",
    "plt.show()"
   ]
  }
 ],
 "metadata": {
  "kernelspec": {
   "display_name": "Python 3",
   "language": "python",
   "name": "python3"
  },
  "language_info": {
   "codemirror_mode": {
    "name": "ipython",
    "version": 3
   },
   "file_extension": ".py",
   "mimetype": "text/x-python",
   "name": "python",
   "nbconvert_exporter": "python",
   "pygments_lexer": "ipython3",
   "version": "3.6.3"
  }
 },
 "nbformat": 4,
 "nbformat_minor": 2
}
