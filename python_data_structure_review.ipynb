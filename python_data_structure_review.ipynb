{
 "cells": [
  {
   "cell_type": "code",
   "execution_count": 8,
   "metadata": {},
   "outputs": [
    {
     "name": "stdout",
     "output_type": "stream",
     "text": [
      "array('d', [1.0, 2.0, 3.0])\n"
     ]
    }
   ],
   "source": [
    "import array\n",
    "a = array.array('d', [1, 2, 3])\n",
    "print(a)"
   ]
  },
  {
   "cell_type": "code",
   "execution_count": 26,
   "metadata": {},
   "outputs": [
    {
     "name": "stdout",
     "output_type": "stream",
     "text": [
      "[1, 'oi']\n",
      "[1, 'oi', 2]\n",
      "2\n",
      "2\n",
      "['new value', 2]\n",
      "['new value', 2, 'new value', 2, 'new value', 2]\n",
      "False\n",
      "new value, 2, new value, 2, new value, 2, "
     ]
    }
   ],
   "source": [
    "a = [1, 'oi'] ; print(a)\n",
    "a.append(2) ; print(a)\n",
    "print(a[2]); print(a[-1])\n",
    "del a[1]\n",
    "a[0]='new value'\n",
    "print(a)\n",
    "b = 2*a + a\n",
    "print(b)\n",
    "print('oi' in b)\n",
    "for x in b:\n",
    "    print(x, end=', ')"
   ]
  },
  {
   "cell_type": "code",
   "execution_count": 21,
   "metadata": {},
   "outputs": [
    {
     "name": "stdout",
     "output_type": "stream",
     "text": [
      "(3, 7, 'hello')\n",
      "(3, 7, 'hello', 3, 7, 'hello', 3, 7, 'hello')\n",
      "(3, 7, 'hello', 3, 7, 'hello')\n",
      "3, 7, hello, 3, 7, hello, 3, 7, hello, 3, 7, hello, 3, 7, hello, 3, 7, hello, "
     ]
    }
   ],
   "source": [
    "t = (3, 7, 'hello')\n",
    "print(t)\n",
    "print(3*t)\n",
    "print(t+t)\n",
    "for x in 6*t:\n",
    "    print(x, end=', ')"
   ]
  },
  {
   "cell_type": "code",
   "execution_count": 23,
   "metadata": {},
   "outputs": [
    {
     "name": "stdout",
     "output_type": "stream",
     "text": [
      "{'hello': 'hi', 'one': 1, 2: 'two'}\n",
      "hi\n",
      "two\n",
      "{'hello': 'hi', 2: 'two'}\n",
      "{'hello': 'hi', 2: 'two', 'abakadabra': 'Boo'}\n"
     ]
    }
   ],
   "source": [
    "d = {'hello':'hi', 'one':1, 2:'two'}\n",
    "print(d)\n",
    "print(d['hello'])\n",
    "print(d[2])\n",
    "del d['one']\n",
    "print(d)\n",
    "d['abakadabra'] = 'Boo'\n",
    "print(d)"
   ]
  },
  {
   "cell_type": "code",
   "execution_count": 25,
   "metadata": {},
   "outputs": [
    {
     "name": "stdout",
     "output_type": "stream",
     "text": [
      "[[1, 2, 3], ['hi', 'hello'], {1: 'hi', 2: 'hello'}]\n",
      "3\n",
      "hello\n",
      "hi\n",
      "[[1, 2, 3], {1: 'hi', 2: 'hello'}]\n"
     ]
    }
   ],
   "source": [
    "a2 = [\n",
    "    [1, 2, 3],\n",
    "    ['hi', 'hello'],\n",
    "    {1:'hi', 2:'hello'}\n",
    "]\n",
    "print(a2)\n",
    "print(a2[0][2])\n",
    "print(a2[1][1])\n",
    "print(a2[2][1])\n",
    "del a2[1]\n",
    "print(a2)"
   ]
  },
  {
   "cell_type": "code",
   "execution_count": 39,
   "metadata": {},
   "outputs": [
    {
     "name": "stdout",
     "output_type": "stream",
     "text": [
      "{1, 2, 3, 4}\n",
      "{1, 2, 3, 4, 5}\n",
      "{1, 2, 3, 4, 5, 10}\n",
      "{2, 3, 4, 5, 10}\n",
      "\n",
      "{1, 2, 3, -1, -3, -2}\n",
      "{1, 2, 3, 4, 5, 10, -2, -3, -1}\n",
      "{2, 3}\n",
      "{10, 4, 5}\n",
      "\n",
      "{2, 3, 4, 5, 10} {2, 3, 4, 5, 10}\n",
      "False\n",
      "{2, 3, 4, 5, 10} {2, 3, 4, 5, 500, 10}\n",
      "True\n"
     ]
    }
   ],
   "source": [
    "s = {1, 2, 3, 4}; print(s)\n",
    "s.add(5); print(s)\n",
    "for i in range(5):\n",
    "    s.add(10)\n",
    "print(s)\n",
    "s.discard(1); print(s)\n",
    "\n",
    "print()\n",
    "p = {-3, -2, -1, 1, 2, 3}\n",
    "print(p)\n",
    "print(s.union(p))\n",
    "print(s.intersection(p))\n",
    "print(s.difference(p))\n",
    "\n",
    "print()\n",
    "import copy\n",
    "S = copy.copy(s)\n",
    "print(s, S)\n",
    "print(S>s)\n",
    "S.add(500)\n",
    "print(s, S)\n",
    "print(S>s)"
   ]
  },
  {
   "cell_type": "code",
   "execution_count": 43,
   "metadata": {},
   "outputs": [
    {
     "name": "stdout",
     "output_type": "stream",
     "text": [
      "10943136 10943136 10943136\n"
     ]
    }
   ],
   "source": [
    "a = 5\n",
    "b = 5\n",
    "c = a\n",
    "print(id(a), id(b), id(c))"
   ]
  },
  {
   "cell_type": "code",
   "execution_count": 53,
   "metadata": {},
   "outputs": [
    {
     "name": "stdout",
     "output_type": "stream",
     "text": [
      "dllist([1, 2, 3, 4])\n",
      "dllist([-3, -2, -1, 0, 1, 2, 3, 4, 5, 6, 7])\n",
      "dllist([-3, -2, -1, 0, 0.5, 1, 2, 3, 4, 5, 6, 7])\n",
      "dllist([-3, -2, -1, 0, 1, 2, 3, 4, 5, 6, 7])\n",
      "7, 6, 5, 4, 3, 2, 1, 0, -1, -2, -3, \n",
      " dllist()\n"
     ]
    }
   ],
   "source": [
    "import llist\n",
    "l = llist.dllist([1, 2, 3, 4])\n",
    "print(l)\n",
    "l.appendleft(0)\n",
    "l.extend([5, 6, 7])\n",
    "l.extendleft([-1, -2, -3])\n",
    "print(l)\n",
    "l.insert(0.5, l.nodeat(4))\n",
    "print(l)\n",
    "l.remove(l.nodeat(4))\n",
    "print(l)\n",
    "for i in range(len(l)):\n",
    "    print(l.pop(), end=', ')\n",
    "print('\\n', l)"
   ]
  },
  {
   "cell_type": "code",
   "execution_count": 56,
   "metadata": {},
   "outputs": [
    {
     "name": "stdout",
     "output_type": "stream",
     "text": [
      "[]\n",
      "[1, 2, 2, 3]\n",
      "[1, 2]\n"
     ]
    }
   ],
   "source": [
    "s = []\n",
    "print(s)\n",
    "s.append(1)\n",
    "s.append(2)\n",
    "s.append(2)\n",
    "s.append(3)\n",
    "print(s)\n",
    "s.pop()\n",
    "s.pop()\n",
    "print(s)"
   ]
  },
  {
   "cell_type": "code",
   "execution_count": 73,
   "metadata": {},
   "outputs": [
    {
     "name": "stdout",
     "output_type": "stream",
     "text": [
      "0, 1, 2, 3, "
     ]
    }
   ],
   "source": [
    "import queue\n",
    "q = queue.Queue()\n",
    "for i in range(4):\n",
    "    q.put(i)\n",
    "for i in range(q.qsize()):\n",
    "    print(q.get(), end=', ')"
   ]
  },
  {
   "cell_type": "code",
   "execution_count": 77,
   "metadata": {},
   "outputs": [
    {
     "name": "stdout",
     "output_type": "stream",
     "text": [
      "deque([])\n",
      "deque([-2, -1, 0, 1])\n",
      "1\n",
      "deque([-2, -1, 0])\n"
     ]
    }
   ],
   "source": [
    "import collections\n",
    "d = collections.deque()\n",
    "print(d)\n",
    "d.append(1)\n",
    "d.extendleft([0, -1, -2])\n",
    "print(d)\n",
    "print(d.pop())\n",
    "print(d)"
   ]
  },
  {
   "cell_type": "code",
   "execution_count": 86,
   "metadata": {},
   "outputs": [
    {
     "name": "stdout",
     "output_type": "stream",
     "text": [
      "SortedList([-2, 1, 14, 27])\n",
      "0\n",
      "27\n",
      "SortedList([-2, 1, 14])\n"
     ]
    }
   ],
   "source": [
    "import sortedcontainers\n",
    "l = sortedcontainers.SortedList([1])\n",
    "l.update([27, -2, 14])\n",
    "print(l)\n",
    "print(l.count(2))\n",
    "print(l.pop())\n",
    "print(l)"
   ]
  },
  {
   "cell_type": "code",
   "execution_count": 95,
   "metadata": {},
   "outputs": [
    {
     "name": "stdout",
     "output_type": "stream",
     "text": [
      "[0.1, 5.7, 2.3, 4.5, 9.7, 3.4, 1.8, 0.5]\n",
      "[0.1, 0.5, 1.8, 4.5, 9.7, 3.4, 2.3, 5.7]\n",
      "[0.1, 0.5, 1.8, 4.5, 9.7, 3.4, 2.3, 5.7, 5]\n",
      "0.1\n",
      "[0.5, 4.5, 1.8, 5, 9.7, 3.4, 2.3, 5.7]\n",
      "0.5\n",
      "[1.8, 4.5, 2.3, 5, 9.7, 3.4, 5.7]\n"
     ]
    }
   ],
   "source": [
    "import heapq\n",
    "h = [0.1, 5.7, 2.3, 4.5, 9.7, 3.4, 1.8, 0.5]\n",
    "print(h)\n",
    "heapq.heapify(h)\n",
    "print(h)\n",
    "heapq.heappush(h,5)\n",
    "print(h)\n",
    "print(heapq.heappop(h))\n",
    "print(h)\n",
    "print(heapq.heappop(h))\n",
    "print(h)"
   ]
  }
 ],
 "metadata": {
  "kernelspec": {
   "display_name": "Python 3",
   "language": "python",
   "name": "python3"
  },
  "language_info": {
   "codemirror_mode": {
    "name": "ipython",
    "version": 3
   },
   "file_extension": ".py",
   "mimetype": "text/x-python",
   "name": "python",
   "nbconvert_exporter": "python",
   "pygments_lexer": "ipython3",
   "version": "3.6.5"
  }
 },
 "nbformat": 4,
 "nbformat_minor": 2
}
