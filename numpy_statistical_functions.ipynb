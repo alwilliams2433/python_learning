{
 "cells": [
  {
   "cell_type": "code",
   "execution_count": 86,
   "metadata": {},
   "outputs": [],
   "source": [
    "import numpy\n",
    "import matplotlib.pyplot as plt"
   ]
  },
  {
   "cell_type": "code",
   "execution_count": 21,
   "metadata": {},
   "outputs": [
    {
     "name": "stdout",
     "output_type": "stream",
     "text": [
      "[[ 0  1  2  3]\n",
      " [ 4  5  6  7]\n",
      " [ 8  9 10 11]\n",
      " [12 13 14 15]] \n",
      "\n",
      "amin:\n",
      " 0\n",
      "amin(axis=0):\n",
      " [0 1 2 3]\n",
      "amin(axis=1):\n",
      " [ 0  4  8 12]\n"
     ]
    }
   ],
   "source": [
    "array = numpy.arange(16).reshape(4,4)\n",
    "print(array, '\\n')\n",
    "print('amin:\\n', numpy.amin(array))\n",
    "print('amin(axis=0):\\n', numpy.amin(array,axis=0))\n",
    "print('amin(axis=1):\\n', numpy.amin(array,axis=1))"
   ]
  },
  {
   "cell_type": "code",
   "execution_count": 23,
   "metadata": {},
   "outputs": [
    {
     "name": "stdout",
     "output_type": "stream",
     "text": [
      "[ 1.   3.3  5.6  7.9 10.2 12.5 14.8 17.1 19.4 21.7 24.  26.3] \n",
      "\n",
      "ptp(array) =  25.299999999999997\n",
      "min =  1.0\n",
      "max =  26.299999999999997\n",
      "max - min =  25.299999999999997 \n",
      "\n",
      "[0.38 0.55 0.12 0.33 0.8  0.95 0.27 0.51 0.76 0.37] \n",
      "\n",
      "ptp(array) =  0.83\n",
      "min =  0.12\n",
      "max =  0.95\n",
      "max - min =  0.83 \n",
      "\n",
      "[[    1     2     4     8]\n",
      " [   16    32    64   128]\n",
      " [  256   512  1024  2048]\n",
      " [ 4096  8192 16384 32768]] \n",
      "\n",
      "ptp:\n",
      " 32767\n",
      "ptp(axis=0):\n",
      " [ 4095  8190 16380 32760]\n",
      "ptp(axis=1):\n",
      " [    7   112  1792 28672]\n"
     ]
    }
   ],
   "source": [
    "array = numpy.arange(1, 27, 2.3)\n",
    "print(array, '\\n')\n",
    "print('ptp(array) = ', numpy.ptp(array))\n",
    "print('min = ', numpy.amin(array))\n",
    "print('max = ', numpy.amax(array))\n",
    "print('max - min = ', numpy.amax(array)-numpy.amin(array), '\\n')\n",
    "\n",
    "array = numpy.round(numpy.random.rand(10), 2)\n",
    "print(array, '\\n')\n",
    "print('ptp(array) = ', numpy.ptp(array))\n",
    "print('min = ', numpy.amin(array))\n",
    "print('max = ', numpy.amax(array))\n",
    "print('max - min = ', numpy.amax(array)-numpy.amin(array), '\\n')\n",
    "\n",
    "array = 2**numpy.arange(16).reshape(4,4)\n",
    "print(array, '\\n')\n",
    "print('ptp:\\n', numpy.ptp(array))\n",
    "print('ptp(axis=0):\\n', numpy.ptp(array,axis=0))\n",
    "print('ptp(axis=1):\\n', numpy.ptp(array,axis=1))"
   ]
  },
  {
   "cell_type": "code",
   "execution_count": 68,
   "metadata": {},
   "outputs": [
    {
     "name": "stdout",
     "output_type": "stream",
     "text": [
      "below 0.502981 are 50.000000% of the values\n",
      "below 0.200195 are 20.000000% of the values\n",
      "below 0.796122 are 80.000000% of the values\n",
      "below 0.999921 are 100.000000% of the values (obs: max=0.999921)\n"
     ]
    }
   ],
   "source": [
    "array = numpy.random.rand(10_000)\n",
    "percent = 50; print('below {:f} are {:f}% of the values'.format(numpy.percentile(array,percent),percent))\n",
    "percent = 20; print('below {:f} are {:f}% of the values'.format(numpy.percentile(array,percent),percent))\n",
    "percent = 80; print('below {:f} are {:f}% of the values'.format(numpy.percentile(array,percent),percent))\n",
    "percent = 100; print('below {:f} are {:f}% of the values (obs: max={:f})'.format(numpy.percentile(array,percent),percent,numpy.amax(array)))"
   ]
  },
  {
   "cell_type": "code",
   "execution_count": 74,
   "metadata": {},
   "outputs": [
    {
     "name": "stdout",
     "output_type": "stream",
     "text": [
      "Number of rows = 10000\n",
      "In rows, 36.500000% of the values are below the value:\n",
      "[0.363448   0.36801992 0.36445976 0.35891018 0.36224039]\n"
     ]
    }
   ],
   "source": [
    "size = 10_000\n",
    "array = numpy.random.rand(size,5)\n",
    "percent = 36.5\n",
    "print('Number of rows = {:d}'.format(size))\n",
    "print('In rows, {:f}% of the values are below the value:'.format(percent))\n",
    "print(numpy.percentile(array,percent,axis=0))"
   ]
  },
  {
   "cell_type": "code",
   "execution_count": 82,
   "metadata": {},
   "outputs": [
    {
     "name": "stdout",
     "output_type": "stream",
     "text": [
      "[ 1  2  6  9 12 15 21]\n",
      "Median:                   9.0\n",
      "Mean:                     9.428571428571429\n",
      "standard deviation:       6.651683843898751\n",
      "variance:                 44.24489795918367\n"
     ]
    }
   ],
   "source": [
    "array = numpy.array([1, 2, 6, 9, 12, 15, 21])\n",
    "print(array)\n",
    "print('Median:'.ljust(25), numpy.median(array))\n",
    "print('Mean:'.ljust(25), numpy.mean(array))\n",
    "print('standard deviation:'.ljust(25), numpy.std(array))\n",
    "print('variance:'.ljust(25), numpy.var(array))"
   ]
  },
  {
   "cell_type": "code",
   "execution_count": 99,
   "metadata": {},
   "outputs": [
    {
     "name": "stdout",
     "output_type": "stream",
     "text": [
      "[3. 7. 1. 5. 8. 9. 6. 7. 5. 6.]\n",
      "[1 0 1 0 0 2 2 2 1 1]\n",
      "[1.  1.8 2.6 3.4 4.2 5.  5.8 6.6 7.4 8.2 9. ]\n"
     ]
    },
    {
     "data": {
      "image/png": "[encoded data removed]",
      "text/plain": [
       "<Figure size 432x288 with 1 Axes>"
      ]
     },
     "metadata": {},
     "output_type": "display_data"
    }
   ],
   "source": [
    "size = 10\n",
    "array = numpy.round(10*numpy.random.rand(size), 0)\n",
    "print(array)\n",
    "hist, limits = numpy.histogram(array)\n",
    "print(hist)\n",
    "print(limits)\n",
    "_, lims, _ = plt.hist(array)\n",
    "plt.xticks(lims)\n",
    "plt.show()"
   ]
  },
  {
   "cell_type": "code",
   "execution_count": 108,
   "metadata": {},
   "outputs": [
    {
     "data": {
      "image/png": "[encoded data removed]",
      "text/plain": [
       "<Figure size 576x576 with 1 Axes>"
      ]
     },
     "metadata": {},
     "output_type": "display_data"
    }
   ],
   "source": [
    "size = 10_000\n",
    "numberOfDivisions = 15\n",
    "array = numpy.round(10*numpy.random.rand(size), 1)\n",
    "hist, lims = numpy.histogram(array, 15)\n",
    "fig = plt.figure(1, figsize=(8,8))\n",
    "ax = fig.add_subplot(1,1,1)\n",
    "_, lims, _ = plt.hist(array, numberOfDivisions)\n",
    "plt.xticks(numpy.round(lims,1))\n",
    "plt.show()"
   ]
  }
 ],
 "metadata": {
  "kernelspec": {
   "display_name": "Python 3",
   "language": "python",
   "name": "python3"
  },
  "language_info": {
   "codemirror_mode": {
    "name": "ipython",
    "version": 3
   },
   "file_extension": ".py",
   "mimetype": "text/x-python",
   "name": "python",
   "nbconvert_exporter": "python",
   "pygments_lexer": "ipython3",
   "version": "3.6.5"
  }
 },
 "nbformat": 4,
 "nbformat_minor": 2
}
