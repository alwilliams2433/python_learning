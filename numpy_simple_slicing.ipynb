{
 "cells": [
  {
   "cell_type": "code",
   "execution_count": 1,
   "metadata": {},
   "outputs": [],
   "source": [
    "import numpy"
   ]
  },
  {
   "cell_type": "code",
   "execution_count": 27,
   "metadata": {},
   "outputs": [
    {
     "name": "stdout",
     "output_type": "stream",
     "text": [
      "[ 0  1  2  3  4  5  6  7  8  9 10 11]\n",
      "[1 3 5]\n",
      "[0 1 2]\n",
      "[ 2  3  4  5  6  7  8  9 10]\n",
      "[7 8 9]\n",
      "[7 8 9]\n",
      "[11 10  9  8  7  6  5  4  3  2  1]\n",
      "[11 10  9  8  7  6  5  4  3  2  1  0]\n",
      "[ 0  1  2  3  4  5  6  7  8  9 10 11]\n"
     ]
    }
   ],
   "source": [
    "# slice syntax\n",
    "array = numpy.arange(0,12,1); print(array)\n",
    "s = slice(1,7,2); print(array[s])\n",
    "s = slice(3); print(array[s])\n",
    "s = slice(2,-1); print(array[s])\n",
    "s = slice(-5,-2); print(array[s])\n",
    "s = slice(7,10); print(array[s])\n",
    "s = slice(-1,0,-1); print(array[s])\n",
    "s = slice(-1,None,-1); print(array[s])\n",
    "s = slice(None); print(array[s])"
   ]
  },
  {
   "cell_type": "code",
   "execution_count": 21,
   "metadata": {},
   "outputs": [
    {
     "ename": "TypeError",
     "evalue": "'slice' object is not reversible",
     "output_type": "error",
     "traceback": [
      "\u001b[0;31m---------------------------------------------------------------------------\u001b[0m",
      "\u001b[0;31mTypeError\u001b[0m                                 Traceback (most recent call last)",
      "\u001b[0;32m<ipython-input-21-ea6c5248df93>\u001b[0m in \u001b[0;36m<module>\u001b[0;34m()\u001b[0m\n\u001b[1;32m      1\u001b[0m \u001b[0marray\u001b[0m \u001b[0;34m=\u001b[0m \u001b[0mnumpy\u001b[0m\u001b[0;34m.\u001b[0m\u001b[0marange\u001b[0m\u001b[0;34m(\u001b[0m\u001b[0;36m10\u001b[0m\u001b[0;34m)\u001b[0m\u001b[0;34m\u001b[0m\u001b[0m\n\u001b[0;32m----> 2\u001b[0;31m \u001b[0ms\u001b[0m \u001b[0;34m=\u001b[0m \u001b[0mreversed\u001b[0m\u001b[0;34m(\u001b[0m\u001b[0mslice\u001b[0m\u001b[0;34m(\u001b[0m\u001b[0;32mNone\u001b[0m\u001b[0;34m)\u001b[0m\u001b[0;34m)\u001b[0m\u001b[0;34m;\u001b[0m \u001b[0mprint\u001b[0m\u001b[0;34m(\u001b[0m\u001b[0marray\u001b[0m\u001b[0;34m[\u001b[0m\u001b[0ms\u001b[0m\u001b[0;34m]\u001b[0m\u001b[0;34m)\u001b[0m\u001b[0;34m\u001b[0m\u001b[0m\n\u001b[0m",
      "\u001b[0;31mTypeError\u001b[0m: 'slice' object is not reversible"
     ]
    }
   ],
   "source": [
    "array = numpy.arange(10)\n",
    "s = reversed(slice(None)); print(array[s])"
   ]
  },
  {
   "cell_type": "code",
   "execution_count": 25,
   "metadata": {},
   "outputs": [
    {
     "ename": "SyntaxError",
     "evalue": "invalid syntax (<ipython-input-25-7da247cb8442>, line 2)",
     "output_type": "error",
     "traceback": [
      "\u001b[0;36m  File \u001b[0;32m\"<ipython-input-25-7da247cb8442>\"\u001b[0;36m, line \u001b[0;32m2\u001b[0m\n\u001b[0;31m    s = (1:7:2); print(array(s))\u001b[0m\n\u001b[0m          ^\u001b[0m\n\u001b[0;31mSyntaxError\u001b[0m\u001b[0;31m:\u001b[0m invalid syntax\n"
     ]
    }
   ],
   "source": [
    "array = numpy.arange(10)\n",
    "s = (1:7:2); print(array(s))"
   ]
  },
  {
   "cell_type": "code",
   "execution_count": 29,
   "metadata": {},
   "outputs": [
    {
     "name": "stdout",
     "output_type": "stream",
     "text": [
      "[ 0  1  2  3  4  5  6  7  8  9 10 11]\n",
      "[1 3 5]\n",
      "[0 1 2]\n",
      "[ 2  3  4  5  6  7  8  9 10]\n",
      "[7 8 9]\n",
      "[7 8 9]\n",
      "[11 10  9  8  7  6  5  4  3  2  1]\n",
      "[11 10  9  8  7  6  5  4  3  2  1  0]\n",
      "[[ 0  1  2  3  4  5  6  7  8  9 10 11]]\n"
     ]
    }
   ],
   "source": [
    "# slice syntax\n",
    "array = numpy.arange(0,12,1); print(array)\n",
    "print(array[1:7:2])\n",
    "print(array[:3])\n",
    "print(array[2:-1])\n",
    "print(array[-5:-2])\n",
    "print(array[7:10])\n",
    "print(array[-1:0:-1])\n",
    "print(array[-1:None:-1])\n",
    "print(array[None])"
   ]
  },
  {
   "cell_type": "code",
   "execution_count": 68,
   "metadata": {},
   "outputs": [
    {
     "name": "stdout",
     "output_type": "stream",
     "text": [
      "[[1.]\n",
      " [2.]\n",
      " [3.]\n",
      " [4.]] <class 'numpy.ndarray'> (4, 1) \n",
      "\n",
      "[[1. 2. 3. 4.]] <class 'numpy.ndarray'> (1, 4) \n",
      "\n",
      "[[0 1 2]\n",
      " [3 4 5]\n",
      " [6 7 8]] <class 'numpy.ndarray'> (3, 3) \n",
      "\n",
      "2 <class 'numpy.int64'> () \n",
      "\n",
      "[2 5 8] <class 'numpy.ndarray'> (3,) \n",
      "\n",
      "[2 5 8] <class 'numpy.ndarray'> (3,) \n",
      "\n",
      "[3 4 5] <class 'numpy.ndarray'> (3,) \n",
      "\n",
      "[3 4 5] <class 'numpy.ndarray'> (3,) \n",
      "\n",
      "[[0]] <class 'numpy.ndarray'> (1, 1) \n",
      "\n",
      "[[0 1]\n",
      " [3 4]] <class 'numpy.ndarray'> (2, 2) \n",
      "\n",
      "[[0 1]\n",
      " [3 4]] <class 'numpy.ndarray'> (2, 2) \n",
      "\n",
      "[[0 1 2]\n",
      " [3 4 5]\n",
      " [6 7 8]] <class 'numpy.ndarray'> (3, 3) \n",
      "\n",
      "[[0 1 2]\n",
      " [3 4 5]\n",
      " [6 7 8]] <class 'numpy.ndarray'> (3, 3) \n",
      "\n",
      "[[0 1 2]\n",
      " [3 4 5]\n",
      " [6 7 8]] <class 'numpy.ndarray'> (3, 3) \n",
      "\n"
     ]
    }
   ],
   "source": [
    "def arrayInfo(array):\n",
    "    print(array, type(array), array.shape, '\\n')\n",
    "\n",
    "array0 = numpy.transpose([numpy.arange(1.,5.)]); arrayInfo(array0)\n",
    "array1 = numpy.array([numpy.arange(1.,5.)]); arrayInfo(array1)\n",
    "array = numpy.array(\n",
    "    [\n",
    "        [0, 1, 2],\n",
    "        [3, 4, 5],\n",
    "        [6, 7, 8]\n",
    "    ]); arrayInfo(array)\n",
    "arrayInfo(array[0,2])\n",
    "arrayInfo(array[:,2])\n",
    "arrayInfo(array[...,2])\n",
    "arrayInfo(array[1,:])\n",
    "arrayInfo(array[1,...])\n",
    "arrayInfo(array[0:1,0:1])\n",
    "arrayInfo(array[0:2,0:2])\n",
    "l = [slice(0,2), slice(0,2)]; arrayInfo(array[l])\n",
    "arrayInfo(array[...,:])\n",
    "arrayInfo(array[:,...])\n",
    "arrayInfo(array[:,:])"
   ]
  },
  {
   "cell_type": "code",
   "execution_count": null,
   "metadata": {},
   "outputs": [],
   "source": []
  }
 ],
 "metadata": {
  "kernelspec": {
   "display_name": "Python 3",
   "language": "python",
   "name": "python3"
  },
  "language_info": {
   "codemirror_mode": {
    "name": "ipython",
    "version": 3
   },
   "file_extension": ".py",
   "mimetype": "text/x-python",
   "name": "python",
   "nbconvert_exporter": "python",
   "pygments_lexer": "ipython3",
   "version": "3.6.5"
  }
 },
 "nbformat": 4,
 "nbformat_minor": 2
}
