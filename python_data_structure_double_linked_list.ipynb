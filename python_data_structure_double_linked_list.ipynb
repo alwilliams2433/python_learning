{
 "cells": [
  {
   "cell_type": "code",
   "execution_count": 2,
   "metadata": {},
   "outputs": [],
   "source": [
    "import llist"
   ]
  },
  {
   "cell_type": "code",
   "execution_count": 3,
   "metadata": {},
   "outputs": [
    {
     "name": "stdout",
     "output_type": "stream",
     "text": [
      "dllist([2, hello, 3.14])\n",
      "2\n",
      "hello\n",
      "3\n"
     ]
    }
   ],
   "source": [
    "list = llist.dllist([2, 'hello', 3.14])\n",
    "print(list)\n",
    "print(list[0])\n",
    "print(list[1])\n",
    "print(len(list))"
   ]
  },
  {
   "cell_type": "code",
   "execution_count": 4,
   "metadata": {},
   "outputs": [
    {
     "name": "stdout",
     "output_type": "stream",
     "text": [
      "dllist([2, hello, 3.14])\n"
     ]
    },
    {
     "ename": "IndexError",
     "evalue": "Index out of range",
     "output_type": "error",
     "traceback": [
      "\u001b[0;31m---------------------------------------------------------------------------\u001b[0m",
      "\u001b[0;31mIndexError\u001b[0m                                Traceback (most recent call last)",
      "\u001b[0;32m<ipython-input-4-6fdc38a819bc>\u001b[0m in \u001b[0;36m<module>\u001b[0;34m()\u001b[0m\n\u001b[1;32m      1\u001b[0m \u001b[0mlist\u001b[0m \u001b[0;34m=\u001b[0m \u001b[0mllist\u001b[0m\u001b[0;34m.\u001b[0m\u001b[0mdllist\u001b[0m\u001b[0;34m(\u001b[0m\u001b[0;34m[\u001b[0m\u001b[0;36m2\u001b[0m\u001b[0;34m,\u001b[0m \u001b[0;34m'hello'\u001b[0m\u001b[0;34m,\u001b[0m \u001b[0;36m3.14\u001b[0m\u001b[0;34m]\u001b[0m\u001b[0;34m)\u001b[0m\u001b[0;34m\u001b[0m\u001b[0m\n\u001b[1;32m      2\u001b[0m \u001b[0mprint\u001b[0m\u001b[0;34m(\u001b[0m\u001b[0mlist\u001b[0m\u001b[0;34m)\u001b[0m\u001b[0;34m\u001b[0m\u001b[0m\n\u001b[0;32m----> 3\u001b[0;31m \u001b[0mprint\u001b[0m\u001b[0;34m(\u001b[0m\u001b[0mlist\u001b[0m\u001b[0;34m[\u001b[0m\u001b[0;36m5\u001b[0m\u001b[0;34m]\u001b[0m\u001b[0;34m)\u001b[0m\u001b[0;34m\u001b[0m\u001b[0m\n\u001b[0m",
      "\u001b[0;31mIndexError\u001b[0m: Index out of range"
     ]
    }
   ],
   "source": [
    "list = llist.dllist([2, 'hello', 3.14])\n",
    "print(list)\n",
    "print(list[5])"
   ]
  },
  {
   "cell_type": "code",
   "execution_count": 5,
   "metadata": {},
   "outputs": [
    {
     "name": "stdout",
     "output_type": "stream",
     "text": [
      "dllist([2, hello, 3.14])\n",
      "dllist([2, hello, 3.14, append])\n",
      "dllist([left, 2, hello, 3.14, append])\n",
      "dllist([left, 2, hello, 3.14, append, right])\n"
     ]
    }
   ],
   "source": [
    "list = llist.dllist([2, 'hello', 3.14]); print(list)\n",
    "list.append('append'); print(list)\n",
    "list.appendleft('left'); print(list)\n",
    "list.appendright('right'); print(list)"
   ]
  },
  {
   "cell_type": "code",
   "execution_count": 6,
   "metadata": {},
   "outputs": [
    {
     "name": "stdout",
     "output_type": "stream",
     "text": [
      "dllistnode(2)\n",
      "dllistnode(3.14)\n",
      "3\n",
      "3\n"
     ]
    }
   ],
   "source": [
    "list = llist.dllist([2, 'hello', 3.14])\n",
    "print(list.first)\n",
    "print(list.last)\n",
    "print(list.size)\n",
    "print(len(list))"
   ]
  },
  {
   "cell_type": "code",
   "execution_count": 7,
   "metadata": {},
   "outputs": [
    {
     "name": "stdout",
     "output_type": "stream",
     "text": [
      "dllist([1, 2, 3])\n",
      "dllist([1, 2, 3, right 0, right 1])\n",
      "dllist([left 1, left 0, 1, 2, 3, right 0, right 1])\n"
     ]
    }
   ],
   "source": [
    "list = llist.dllist([1, 2, 3]); print(list)\n",
    "list.extend(('right 0', 'right 1')); print(list)\n",
    "list.extendleft(['left 0', 'left 1']); print(list)"
   ]
  },
  {
   "cell_type": "code",
   "execution_count": 12,
   "metadata": {},
   "outputs": [
    {
     "name": "stdout",
     "output_type": "stream",
     "text": [
      "dllist([1, 2, 3])\n",
      "dllist([1, 2, 3, 4])\n",
      "dllist([1, 2, 2.5, 3, 4])\n",
      "1 dllist([2, 2.5, 3, 4])\n",
      "4 dllist([2, 2.5, 3])\n",
      "3 dllist([2, 2.5])\n"
     ]
    }
   ],
   "source": [
    "list = llist.dllist([1, 2, 3]); print(list)\n",
    "list.insert(4); print(list)\n",
    "list.insert(2.5, list.nodeat(2)); print(list)\n",
    "print(list.popleft(), list)\n",
    "print(list.popright(), list)\n",
    "print(list.pop(), list)"
   ]
  },
  {
   "cell_type": "code",
   "execution_count": 13,
   "metadata": {},
   "outputs": [
    {
     "name": "stdout",
     "output_type": "stream",
     "text": [
      "dllist([0, 1, 2])\n",
      "dllist([-3, -2, -1])\n",
      "dllist([-3, -2, -1, 0, 1, 2])\n",
      "dllist([-3, -2, -1, 0, 1, 2, -3, -2, -1, 0, 1, 2])\n",
      "dllist([1, 2, -3, -2, -1, 0, 1, 2, -3, -2, -1, 0])\n"
     ]
    }
   ],
   "source": [
    "list0 = llist.dllist([0, 1, 2]); print(list0)\n",
    "list1 = llist.dllist([-3, -2, -1]); print(list1)\n",
    "list = list1 + list0; print(list)\n",
    "list = list*2; print(list)\n",
    "list.rotate(2); print(list)"
   ]
  },
  {
   "cell_type": "code",
   "execution_count": 6,
   "metadata": {},
   "outputs": [
    {
     "name": "stdout",
     "output_type": "stream",
     "text": [
      "dllist([0, 1, 2])\n",
      "Forward:\n",
      "0\n",
      "1\n",
      "2\n",
      "Backward:\n",
      "2\n",
      "1\n",
      "0\n"
     ]
    }
   ],
   "source": [
    "list = llist.dllist([0, 1, 2]); print(list)\n",
    "print('Forward:')\n",
    "for val in list:\n",
    "    print(val)\n",
    "print('Backward:')\n",
    "for val in reversed(list):\n",
    "    print(val)"
   ]
  }
 ],
 "metadata": {
  "kernelspec": {
   "display_name": "Python 3",
   "language": "python",
   "name": "python3"
  },
  "language_info": {
   "codemirror_mode": {
    "name": "ipython",
    "version": 3
   },
   "file_extension": ".py",
   "mimetype": "text/x-python",
   "name": "python",
   "nbconvert_exporter": "python",
   "pygments_lexer": "ipython3",
   "version": "3.6.5"
  }
 },
 "nbformat": 4,
 "nbformat_minor": 2
}
