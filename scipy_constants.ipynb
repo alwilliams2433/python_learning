{
 "cells": [
  {
   "cell_type": "code",
   "execution_count": 1,
   "metadata": {},
   "outputs": [],
   "source": [
    "import scipy.constants"
   ]
  },
  {
   "cell_type": "code",
   "execution_count": 4,
   "metadata": {},
   "outputs": [
    {
     "name": "stdout",
     "output_type": "stream",
     "text": [
      "pi =  3.141592653589793\n",
      "speed of light =  299792458.0  =  299792458.0\n",
      "Avogadro constant =  6.022140857e+23\n"
     ]
    }
   ],
   "source": [
    "# Basic Constants\n",
    "print(\"pi = \", scipy.constants.pi)\n",
    "print(\"speed of light = \", scipy.constants.speed_of_light, \" = \", scipy.constants.c)\n",
    "print(\"Avogadro constant = \", scipy.constants.Avogadro)"
   ]
  },
  {
   "cell_type": "code",
   "execution_count": 15,
   "metadata": {},
   "outputs": [
    {
     "name": "stdout",
     "output_type": "stream",
     "text": [
      "alpha particle mass  = ( 6.64465723e-27 +- 8.2e-35 ) [ kg ]\n",
      "Avogadro constant  = ( 6.022140857e+23 +- 7400000000000000.0 ) [ mol^-1 ]\n"
     ]
    }
   ],
   "source": [
    "# Physical Constants\n",
    "def printPhysicalConstant(constantName):\n",
    "    constant = scipy.constants.physical_constants[constantName]\n",
    "    print(constantName, \" = (\", constant[0], \"+-\", constant[2], \") [\", constant[1], \"]\")\n",
    "    \n",
    "printPhysicalConstant('alpha particle mass')\n",
    "printPhysicalConstant('Avogadro constant')"
   ]
  },
  {
   "cell_type": "code",
   "execution_count": 18,
   "metadata": {},
   "outputs": [
    {
     "name": "stdout",
     "output_type": "stream",
     "text": [
      "1e+24\n",
      "0.01\n",
      "1000.0\n",
      "1024\n"
     ]
    }
   ],
   "source": [
    "# Prefixes\n",
    "print(scipy.constants.yotta)\n",
    "print(scipy.constants.centi)\n",
    "print(scipy.constants.kilo)\n",
    "print(scipy.constants.kibi)"
   ]
  },
  {
   "cell_type": "code",
   "execution_count": 21,
   "metadata": {},
   "outputs": [
    {
     "name": "stdout",
     "output_type": "stream",
     "text": [
      "1 lb =  0.45359236999999997  kg\n",
      "1 oz =  0.028349523124999998  kg\n"
     ]
    }
   ],
   "source": [
    "# Mass\n",
    "print(\"1 lb = \", scipy.constants.lb, \" kg\")\n",
    "print(\"1 oz = \", scipy.constants.oz, \" kg\")"
   ]
  },
  {
   "cell_type": "code",
   "execution_count": 24,
   "metadata": {},
   "outputs": [
    {
     "name": "stdout",
     "output_type": "stream",
     "text": [
      "1 degree =  0.017453292519943295 rad =  0.017453292519943295 rad\n",
      "1' (arcmin) =  0.0002908882086657216 rad =  0.0002908882086657216 rad\n",
      "1'' (arcsec) =  4.84813681109536e-06 rad =  4.84813681109536e-06 rad\n"
     ]
    }
   ],
   "source": [
    "# Angle\n",
    "print(\"1 degree = \", 1*scipy.constants.pi/180, \"rad = \",scipy.constants.degree, \"rad\")\n",
    "print(\"1' (arcmin) = \", 1*scipy.constants.pi/180/60, \"rad = \",scipy.constants.arcmin, \"rad\")\n",
    "print(\"1'' (arcsec) = \", 1*scipy.constants.pi/180/60/60, \"rad = \",scipy.constants.arcsec, \"rad\")"
   ]
  },
  {
   "cell_type": "code",
   "execution_count": 30,
   "metadata": {},
   "outputs": [
    {
     "name": "stdout",
     "output_type": "stream",
     "text": [
      "15 C =  518.67  R =  59.0  F\n"
     ]
    }
   ],
   "source": [
    "# Temperature convert\n",
    "temperature = 15\n",
    "print(temperature, \"C = \",\n",
    "      scipy.constants.convert_temperature(temperature,\"Celsius\",\"Rankine\"), \" R = \",\n",
    "      scipy.constants.convert_temperature(temperature,\"Celsius\",\"Fahrenheit\"), \" F\")"
   ]
  },
  {
   "cell_type": "code",
   "execution_count": 32,
   "metadata": {},
   "outputs": [
    {
     "name": "stdout",
     "output_type": "stream",
     "text": [
      "36 km/h =  10.0  m/s\n"
     ]
    }
   ],
   "source": [
    "# Velocity\n",
    "velocity = 36 # km/h\n",
    "print(velocity, \"km/h = \", scipy.constants.kmh*velocity, \" m/s\")"
   ]
  },
  {
   "cell_type": "code",
   "execution_count": 37,
   "metadata": {},
   "outputs": [
    {
     "name": "stdout",
     "output_type": "stream",
     "text": [
      "['alpha particle mass', 'alpha particle mass energy equivalent', 'alpha particle mass energy equivalent in MeV', 'alpha particle mass in u', 'alpha particle molar mass', 'alpha particle-electron mass ratio', 'alpha particle-proton mass ratio', 'electron to alpha particle mass ratio']\n"
     ]
    }
   ],
   "source": [
    "# Find tool\n",
    "print(scipy.constants.find(\"alpha\"))"
   ]
  }
 ],
 "metadata": {
  "kernelspec": {
   "display_name": "Python 3",
   "language": "python",
   "name": "python3"
  },
  "language_info": {
   "codemirror_mode": {
    "name": "ipython",
    "version": 3
   },
   "file_extension": ".py",
   "mimetype": "text/x-python",
   "name": "python",
   "nbconvert_exporter": "python",
   "pygments_lexer": "ipython3",
   "version": "3.6.5"
  }
 },
 "nbformat": 4,
 "nbformat_minor": 2
}
