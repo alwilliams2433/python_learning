{
 "cells": [
  {
   "cell_type": "code",
   "execution_count": 2,
   "metadata": {},
   "outputs": [
    {
     "name": "stdout",
     "output_type": "stream",
     "text": [
      "['hi', 3.4, 5]\n",
      "5 ['hi', 3.4]\n",
      "3.4 ['hi']\n",
      "hi []\n"
     ]
    }
   ],
   "source": [
    "# Lists are perfect to be used as stacks\n",
    "stack = []\n",
    "stack.append('hi')\n",
    "stack.append(3.4)\n",
    "stack.append(5)\n",
    "print(stack)\n",
    "print(stack.pop(), stack)\n",
    "print(stack.pop(), stack)\n",
    "print(stack.pop(), stack)"
   ]
  }
 ],
 "metadata": {
  "kernelspec": {
   "display_name": "Python 3",
   "language": "python",
   "name": "python3"
  },
  "language_info": {
   "codemirror_mode": {
    "name": "ipython",
    "version": 3
   },
   "file_extension": ".py",
   "mimetype": "text/x-python",
   "name": "python",
   "nbconvert_exporter": "python",
   "pygments_lexer": "ipython3",
   "version": "3.6.5"
  }
 },
 "nbformat": 4,
 "nbformat_minor": 2
}
