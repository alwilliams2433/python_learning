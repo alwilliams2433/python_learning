{
 "cells": [
  {
   "cell_type": "code",
   "execution_count": 7,
   "metadata": {},
   "outputs": [],
   "source": [
    "import sympy\n",
    "import numpy\n",
    "sympy.init_printing()"
   ]
  },
  {
   "cell_type": "code",
   "execution_count": 8,
   "metadata": {},
   "outputs": [
    {
     "name": "stdout",
     "output_type": "stream",
     "text": [
      "8\n",
      "2.8284271247461903 8.000000000000002\n",
      "2*sqrt(2) 8\n"
     ]
    }
   ],
   "source": [
    "x = 8\n",
    "yn = numpy.sqrt(x)\n",
    "ys = sympy.sqrt(x)\n",
    "print(x)\n",
    "print(yn, yn**2)\n",
    "print(ys, ys**2)"
   ]
  },
  {
   "cell_type": "code",
   "execution_count": 15,
   "metadata": {},
   "outputs": [
    {
     "name": "stdout",
     "output_type": "stream",
     "text": [
      "x y\n",
      "2*x - 3*y\n",
      "x - 4*y\n",
      "x*(2*x - 3*y)\n",
      "2*x**2 - 3*x*y\n",
      "x*(2*x - 3*y)\n"
     ]
    }
   ],
   "source": [
    "x, y = sympy.symbols('x, y')\n",
    "expr = 2*x - 3*y\n",
    "print(x, y)\n",
    "print(expr)\n",
    "print(expr-x-y)\n",
    "print(expr*x)\n",
    "print(sympy.expand(expr*x))\n",
    "print(sympy.factor(expr*x))"
   ]
  },
  {
   "cell_type": "code",
   "execution_count": 24,
   "metadata": {},
   "outputs": [
    {
     "name": "stdout",
     "output_type": "stream",
     "text": [
      "exp(x)*sin(x)\n",
      "exp(x)*sin(x) + exp(x)*cos(x)\n",
      "exp(x)*sin(x)\n",
      "1/2 + exp(pi)/2\n",
      "0\n"
     ]
    }
   ],
   "source": [
    "x = sympy.symbols('x')\n",
    "expr = sympy.exp(x) * sympy.sin(x)\n",
    "print(expr)\n",
    "print(sympy.diff(expr, x))\n",
    "print(sympy.integrate(sympy.diff(expr, x), x))\n",
    "print(sympy.integrate(expr, (x,0,sympy.pi)))\n",
    "print(sympy.limit(expr, x, 0))"
   ]
  }
 ],
 "metadata": {
  "kernelspec": {
   "display_name": "Python 3",
   "language": "python",
   "name": "python3"
  },
  "language_info": {
   "codemirror_mode": {
    "name": "ipython",
    "version": 3
   },
   "file_extension": ".py",
   "mimetype": "text/x-python",
   "name": "python",
   "nbconvert_exporter": "python",
   "pygments_lexer": "ipython3",
   "version": "3.6.5"
  }
 },
 "nbformat": 4,
 "nbformat_minor": 2
}
